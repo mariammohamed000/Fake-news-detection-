{
  "nbformat": 4,
  "nbformat_minor": 0,
  "metadata": {
    "colab": {
      "provenance": []
    },
    "kernelspec": {
      "name": "python3",
      "display_name": "Python 3"
    },
    "language_info": {
      "name": "python"
    }
  },
  "cells": [
    {
      "cell_type": "code",
      "execution_count": null,
      "metadata": {
        "colab": {
          "base_uri": "https://localhost:8080/"
        },
        "id": "t8E5u8kCUj0x",
        "outputId": "16057aa2-e774-49b4-8456-b3f85c305ba5"
      },
      "outputs": [
        {
          "output_type": "stream",
          "name": "stdout",
          "text": [
            "Requirement already satisfied: Arabic-Stopwords in /usr/local/lib/python3.10/dist-packages (0.4.3)\n",
            "Requirement already satisfied: pyarabic>=0.6.2 in /usr/local/lib/python3.10/dist-packages (from Arabic-Stopwords) (0.6.15)\n",
            "Requirement already satisfied: six>=1.14.0 in /usr/local/lib/python3.10/dist-packages (from pyarabic>=0.6.2->Arabic-Stopwords) (1.16.0)\n"
          ]
        }
      ],
      "source": [
        "get_ipython().system('pip install Arabic-Stopwords')\n"
      ]
    },
    {
      "cell_type": "code",
      "source": [
        "get_ipython().system('pip install pyyaml h5py')\n"
      ],
      "metadata": {
        "colab": {
          "base_uri": "https://localhost:8080/"
        },
        "id": "SFlALDnEU63a",
        "outputId": "75c05935-1b71-4c6c-efe1-c96739106614"
      },
      "execution_count": null,
      "outputs": [
        {
          "output_type": "stream",
          "name": "stdout",
          "text": [
            "Requirement already satisfied: pyyaml in /usr/local/lib/python3.10/dist-packages (6.0.1)\n",
            "Requirement already satisfied: h5py in /usr/local/lib/python3.10/dist-packages (3.9.0)\n",
            "Requirement already satisfied: numpy>=1.17.3 in /usr/local/lib/python3.10/dist-packages (from h5py) (1.25.2)\n"
          ]
        }
      ]
    },
    {
      "cell_type": "code",
      "source": [
        "# important libraries\n",
        "\n",
        "# for dataframes and read csv files\n",
        "import pandas as pd\n",
        "import numpy as np\n",
        "\n",
        "# to deal with json files in arabic dataset\n",
        "import json\n",
        "\n",
        "# to list directories\n",
        "import os\n",
        "\n",
        "# to visual and plot data\n",
        "import matplotlib.pyplot as plt\n",
        "import seaborn as sns\n",
        "\n",
        "# arabic stopwords lib\n",
        "import arabicstopwords.arabicstopwords as stp\n",
        "\n",
        "# libraries help to clean texts\n",
        "import re\n",
        "import string\n",
        "import nltk\n",
        "from nltk.corpus import stopwords\n",
        "nltk.download('stopwords')\n"
      ],
      "metadata": {
        "colab": {
          "base_uri": "https://localhost:8080/"
        },
        "id": "3EimgW8PVQPc",
        "outputId": "c4c474d5-95af-4cb5-da9f-c605df59114b"
      },
      "execution_count": null,
      "outputs": [
        {
          "output_type": "stream",
          "name": "stderr",
          "text": [
            "[nltk_data] Downloading package stopwords to /root/nltk_data...\n",
            "[nltk_data]   Package stopwords is already up-to-date!\n"
          ]
        },
        {
          "output_type": "execute_result",
          "data": {
            "text/plain": [
              "True"
            ]
          },
          "metadata": {},
          "execution_count": 5
        }
      ]
    },
    {
      "cell_type": "code",
      "source": [
        "# arabic stopwords lib\n",
        "import arabicstopwords.arabicstopwords as stp"
      ],
      "metadata": {
        "id": "tSZtH3Bn2G2X"
      },
      "execution_count": null,
      "outputs": []
    },
    {
      "cell_type": "code",
      "source": [
        "# for tokenizing texts\n",
        "from tensorflow.keras.preprocessing.text import Tokenizer\n",
        "# for text padding and truncating\n",
        "from tensorflow.keras.utils import pad_sequences\n",
        "# to split datasets\n",
        "from sklearn.model_selection import train_test_split\n",
        "\n",
        "# for nn arch\n",
        "from tensorflow.keras import Sequential\n",
        "from tensorflow.keras.layers import Embedding, LSTM, Dropout, Dense, Bidirectional,SimpleRNN,Flatten\n",
        "from keras.callbacks import EarlyStopping, ModelCheckpoint\n",
        "\n",
        "# to test model score and accuracy\n",
        "from sklearn.metrics import accuracy_score, precision_score, recall_score, f1_score, confusion_matrix\n",
        "from sklearn.metrics import classification_report"
      ],
      "metadata": {
        "id": "vpmfk6waVnVW"
      },
      "execution_count": null,
      "outputs": []
    },
    {
      "cell_type": "code",
      "source": [
        "# English dataset\n",
        "fake_dataset = pd.read_csv('Fake.csv', encoding='latin1')\n",
        "true_dataset = pd.read_csv('True.csv', encoding='latin1')"
      ],
      "metadata": {
        "colab": {
          "base_uri": "https://localhost:8080/"
        },
        "id": "IMwTesOzV1AZ",
        "outputId": "1d76ce9d-43c4-4a2f-9930-2fe5e3c30199"
      },
      "execution_count": null,
      "outputs": [
        {
          "output_type": "stream",
          "name": "stderr",
          "text": [
            "<ipython-input-8-8981fa3417c9>:2: DtypeWarning: Columns (4,5,6,7,8,9,10,11,12,13,14,15,16,17,18,19,20,21,22,23,24,25,26,27,28,29,30,31,32,33,34,35,36,37,38,39,40,41,42,43,44,45,46,47,48,49,50,51,52,53,54,55,56,57,58,59,60,61,62,63,64,65,66,67,68,69,70,71,72,73,74,75,76,77,78,79,80,81,82,83,84,85,86,87,88,89,90,91,92,93,94,95,96,97,98,99,100,101,102,103,104,105,106,107,108,109,110,111,112,113,114,115,116,117,118,119,120,121,122,123,124,125,126,127,128,129,130,131,132,133,134,135,136,137,138,139,140,141,142,143,144,145,146,147,148,149,150,151,152,153,154,155,156,157,158,159,160,161,162,163,164,165,166,167,168,169,170,171) have mixed types. Specify dtype option on import or set low_memory=False.\n",
            "  fake_dataset = pd.read_csv('Fake.csv', encoding='latin1')\n"
          ]
        }
      ]
    },
    {
      "cell_type": "code",
      "source": [
        "# arabic dataset consist of multiple of json files\n",
        "\n",
        "sources = ['source_' + str(i) for i in range(1, 135)]\n",
        "\n",
        "# Print the first few elements to check\n",
        "print(sources[:10])  # Print the first 10 elements as an example"
      ],
      "metadata": {
        "colab": {
          "base_uri": "https://localhost:8080/"
        },
        "id": "wfWv9qeHW18q",
        "outputId": "2088293b-0ab3-4fd4-b583-95c65aa2a2bb"
      },
      "execution_count": null,
      "outputs": [
        {
          "output_type": "stream",
          "name": "stdout",
          "text": [
            "['source_1', 'source_2', 'source_3', 'source_4', 'source_5', 'source_6', 'source_7', 'source_8', 'source_9', 'source_10']\n"
          ]
        }
      ]
    },
    {
      "cell_type": "code",
      "source": [
        "from google.colab import drive\n",
        "drive.mount('/content/drive')"
      ],
      "metadata": {
        "id": "nMdXV42Kat9P",
        "colab": {
          "base_uri": "https://localhost:8080/"
        },
        "outputId": "aa01e4ee-53f3-471c-c39f-0857487dc6be"
      },
      "execution_count": null,
      "outputs": [
        {
          "output_type": "stream",
          "name": "stdout",
          "text": [
            "Drive already mounted at /content/drive; to attempt to forcibly remount, call drive.mount(\"/content/drive\", force_remount=True).\n"
          ]
        }
      ]
    },
    {
      "cell_type": "code",
      "source": [
        "import os\n",
        "\n",
        "# Define the path to your directory in Google Drive\n",
        "arabic_dir = '/content/drive/My Drive/content/AFND'\n",
        "\n",
        "# List all files in the specified directory\n",
        "try:\n",
        "    print(\"Files in the directory:\", os.listdir(arabic_dir))\n",
        "except FileNotFoundError as e:\n",
        "    print(f\"Directory not found: {e}\")\n",
        "except Exception as e:\n",
        "    print(f\"An error occurred: {e}\")\n",
        "\n",
        "\n"
      ],
      "metadata": {
        "colab": {
          "base_uri": "https://localhost:8080/"
        },
        "id": "JlLaFrJ5w0eL",
        "outputId": "4f240281-e5c8-43bf-ba20-f8168d9041c9"
      },
      "execution_count": null,
      "outputs": [
        {
          "output_type": "stream",
          "name": "stdout",
          "text": [
            "Files in the directory: ['README.md', 'sources.json', 'Dataset']\n"
          ]
        }
      ]
    },
    {
      "cell_type": "code",
      "source": [
        "# Verify the directory contents\n",
        "try:\n",
        "    print(\"Files in the directory:\", os.listdir(arabic_dir))\n",
        "except FileNotFoundError as e:\n",
        "    print(f\"Directory not found: {e}\")\n",
        "except Exception as e:\n",
        "    print(f\"An error occurred: {e}\")\n",
        "\n",
        "# Construct the full path to sources.json\n",
        "sources_path = os.path.join(arabic_dir, 'sources.json')\n",
        "\n",
        "try:\n",
        "    # Load the sources.json file\n",
        "    with open(sources_path, 'r', encoding='utf-8') as f:\n",
        "        labels = json.load(f)\n",
        "\n",
        "    title = []\n",
        "    text = []\n",
        "    label = []\n",
        "\n",
        "    # Iterate over the labels dictionary\n",
        "    for i in labels:\n",
        "        # Construct the path to each scraped_articles.json file\n",
        "        articles_path = os.path.join(arabic_dir, 'Dataset', i, 'scraped_articles.json')\n",
        "\n",
        "        print(\"Checking file existence:\", articles_path)  # Debugging print\n",
        "\n",
        "        # Check if the file exists\n",
        "        if not os.path.exists(articles_path):\n",
        "            print(f\"{articles_path}\")\n",
        "            continue\n",
        "\n",
        "        # Open and read the scraped_articles.json file\n",
        "        with open(articles_path, 'r', encoding='utf-8') as ff:\n",
        "            data = json.load(ff)['articles']  # for each article\n",
        "            for article in data:\n",
        "                if labels[i] != 'undecided':\n",
        "                    title.append(article['title'])  # get the title\n",
        "                    text.append(article['text'])  # get the text\n",
        "                    label.append(1 if labels[i] == 'credible' else 0)  # label the record\n",
        "\n",
        "    print(\"Data loaded successfully.\")\n",
        "\n",
        "except Exception as e:\n",
        "    print(f\"An error occurred: {e}\")"
      ],
      "metadata": {
        "colab": {
          "base_uri": "https://localhost:8080/"
        },
        "id": "NHS5-WXi4MyO",
        "outputId": "88ed3bf3-4c05-410d-a3cb-69c793df9d14"
      },
      "execution_count": null,
      "outputs": [
        {
          "output_type": "stream",
          "name": "stdout",
          "text": [
            "Files in the directory: ['README.md', 'sources.json', 'Dataset']\n",
            "Checking file existence: /content/drive/My Drive/content/AFND/Dataset/source_1/scraped_articles.json\n",
            "Checking file existence: /content/drive/My Drive/content/AFND/Dataset/source_2/scraped_articles.json\n",
            "Checking file existence: /content/drive/My Drive/content/AFND/Dataset/source_3/scraped_articles.json\n",
            "Checking file existence: /content/drive/My Drive/content/AFND/Dataset/source_4/scraped_articles.json\n",
            "Checking file existence: /content/drive/My Drive/content/AFND/Dataset/source_5/scraped_articles.json\n",
            "Checking file existence: /content/drive/My Drive/content/AFND/Dataset/source_6/scraped_articles.json\n",
            "Checking file existence: /content/drive/My Drive/content/AFND/Dataset/source_7/scraped_articles.json\n",
            "Checking file existence: /content/drive/My Drive/content/AFND/Dataset/source_8/scraped_articles.json\n",
            "Checking file existence: /content/drive/My Drive/content/AFND/Dataset/source_9/scraped_articles.json\n",
            "Checking file existence: /content/drive/My Drive/content/AFND/Dataset/source_10/scraped_articles.json\n",
            "Checking file existence: /content/drive/My Drive/content/AFND/Dataset/source_11/scraped_articles.json\n",
            "Checking file existence: /content/drive/My Drive/content/AFND/Dataset/source_12/scraped_articles.json\n",
            "Checking file existence: /content/drive/My Drive/content/AFND/Dataset/source_13/scraped_articles.json\n",
            "Checking file existence: /content/drive/My Drive/content/AFND/Dataset/source_14/scraped_articles.json\n",
            "Checking file existence: /content/drive/My Drive/content/AFND/Dataset/source_15/scraped_articles.json\n",
            "Checking file existence: /content/drive/My Drive/content/AFND/Dataset/source_16/scraped_articles.json\n",
            "Checking file existence: /content/drive/My Drive/content/AFND/Dataset/source_17/scraped_articles.json\n",
            "Checking file existence: /content/drive/My Drive/content/AFND/Dataset/source_18/scraped_articles.json\n",
            "Checking file existence: /content/drive/My Drive/content/AFND/Dataset/source_19/scraped_articles.json\n",
            "Checking file existence: /content/drive/My Drive/content/AFND/Dataset/source_20/scraped_articles.json\n",
            "Checking file existence: /content/drive/My Drive/content/AFND/Dataset/source_21/scraped_articles.json\n",
            "Checking file existence: /content/drive/My Drive/content/AFND/Dataset/source_22/scraped_articles.json\n",
            "Checking file existence: /content/drive/My Drive/content/AFND/Dataset/source_23/scraped_articles.json\n",
            "Checking file existence: /content/drive/My Drive/content/AFND/Dataset/source_24/scraped_articles.json\n",
            "Checking file existence: /content/drive/My Drive/content/AFND/Dataset/source_25/scraped_articles.json\n",
            "Checking file existence: /content/drive/My Drive/content/AFND/Dataset/source_26/scraped_articles.json\n",
            "Checking file existence: /content/drive/My Drive/content/AFND/Dataset/source_27/scraped_articles.json\n",
            "Checking file existence: /content/drive/My Drive/content/AFND/Dataset/source_28/scraped_articles.json\n",
            "Checking file existence: /content/drive/My Drive/content/AFND/Dataset/source_29/scraped_articles.json\n",
            "Checking file existence: /content/drive/My Drive/content/AFND/Dataset/source_30/scraped_articles.json\n",
            "Checking file existence: /content/drive/My Drive/content/AFND/Dataset/source_31/scraped_articles.json\n",
            "Checking file existence: /content/drive/My Drive/content/AFND/Dataset/source_32/scraped_articles.json\n",
            "Checking file existence: /content/drive/My Drive/content/AFND/Dataset/source_33/scraped_articles.json\n",
            "Checking file existence: /content/drive/My Drive/content/AFND/Dataset/source_34/scraped_articles.json\n",
            "Checking file existence: /content/drive/My Drive/content/AFND/Dataset/source_35/scraped_articles.json\n",
            "Checking file existence: /content/drive/My Drive/content/AFND/Dataset/source_36/scraped_articles.json\n",
            "Checking file existence: /content/drive/My Drive/content/AFND/Dataset/source_37/scraped_articles.json\n",
            "Checking file existence: /content/drive/My Drive/content/AFND/Dataset/source_38/scraped_articles.json\n",
            "Checking file existence: /content/drive/My Drive/content/AFND/Dataset/source_39/scraped_articles.json\n",
            "Checking file existence: /content/drive/My Drive/content/AFND/Dataset/source_40/scraped_articles.json\n",
            "Checking file existence: /content/drive/My Drive/content/AFND/Dataset/source_41/scraped_articles.json\n",
            "Checking file existence: /content/drive/My Drive/content/AFND/Dataset/source_42/scraped_articles.json\n",
            "Checking file existence: /content/drive/My Drive/content/AFND/Dataset/source_43/scraped_articles.json\n",
            "Checking file existence: /content/drive/My Drive/content/AFND/Dataset/source_44/scraped_articles.json\n",
            "Checking file existence: /content/drive/My Drive/content/AFND/Dataset/source_45/scraped_articles.json\n",
            "Checking file existence: /content/drive/My Drive/content/AFND/Dataset/source_46/scraped_articles.json\n",
            "Checking file existence: /content/drive/My Drive/content/AFND/Dataset/source_47/scraped_articles.json\n",
            "Checking file existence: /content/drive/My Drive/content/AFND/Dataset/source_48/scraped_articles.json\n",
            "Checking file existence: /content/drive/My Drive/content/AFND/Dataset/source_49/scraped_articles.json\n",
            "Checking file existence: /content/drive/My Drive/content/AFND/Dataset/source_50/scraped_articles.json\n",
            "Checking file existence: /content/drive/My Drive/content/AFND/Dataset/source_51/scraped_articles.json\n",
            "Checking file existence: /content/drive/My Drive/content/AFND/Dataset/source_52/scraped_articles.json\n",
            "Checking file existence: /content/drive/My Drive/content/AFND/Dataset/source_53/scraped_articles.json\n",
            "Checking file existence: /content/drive/My Drive/content/AFND/Dataset/source_54/scraped_articles.json\n",
            "Checking file existence: /content/drive/My Drive/content/AFND/Dataset/source_55/scraped_articles.json\n",
            "Checking file existence: /content/drive/My Drive/content/AFND/Dataset/source_56/scraped_articles.json\n",
            "Checking file existence: /content/drive/My Drive/content/AFND/Dataset/source_57/scraped_articles.json\n",
            "Checking file existence: /content/drive/My Drive/content/AFND/Dataset/source_58/scraped_articles.json\n",
            "Checking file existence: /content/drive/My Drive/content/AFND/Dataset/source_59/scraped_articles.json\n",
            "Checking file existence: /content/drive/My Drive/content/AFND/Dataset/source_60/scraped_articles.json\n",
            "Checking file existence: /content/drive/My Drive/content/AFND/Dataset/source_61/scraped_articles.json\n",
            "Checking file existence: /content/drive/My Drive/content/AFND/Dataset/source_62/scraped_articles.json\n",
            "Checking file existence: /content/drive/My Drive/content/AFND/Dataset/source_63/scraped_articles.json\n",
            "Checking file existence: /content/drive/My Drive/content/AFND/Dataset/source_64/scraped_articles.json\n",
            "Checking file existence: /content/drive/My Drive/content/AFND/Dataset/source_65/scraped_articles.json\n",
            "Checking file existence: /content/drive/My Drive/content/AFND/Dataset/source_66/scraped_articles.json\n",
            "Checking file existence: /content/drive/My Drive/content/AFND/Dataset/source_67/scraped_articles.json\n",
            "Checking file existence: /content/drive/My Drive/content/AFND/Dataset/source_68/scraped_articles.json\n",
            "Checking file existence: /content/drive/My Drive/content/AFND/Dataset/source_69/scraped_articles.json\n",
            "Checking file existence: /content/drive/My Drive/content/AFND/Dataset/source_70/scraped_articles.json\n",
            "Checking file existence: /content/drive/My Drive/content/AFND/Dataset/source_71/scraped_articles.json\n",
            "Checking file existence: /content/drive/My Drive/content/AFND/Dataset/source_72/scraped_articles.json\n",
            "Checking file existence: /content/drive/My Drive/content/AFND/Dataset/source_73/scraped_articles.json\n",
            "Checking file existence: /content/drive/My Drive/content/AFND/Dataset/source_74/scraped_articles.json\n",
            "Checking file existence: /content/drive/My Drive/content/AFND/Dataset/source_75/scraped_articles.json\n",
            "Checking file existence: /content/drive/My Drive/content/AFND/Dataset/source_76/scraped_articles.json\n",
            "Checking file existence: /content/drive/My Drive/content/AFND/Dataset/source_77/scraped_articles.json\n",
            "Checking file existence: /content/drive/My Drive/content/AFND/Dataset/source_78/scraped_articles.json\n",
            "Checking file existence: /content/drive/My Drive/content/AFND/Dataset/source_79/scraped_articles.json\n",
            "Checking file existence: /content/drive/My Drive/content/AFND/Dataset/source_80/scraped_articles.json\n",
            "Checking file existence: /content/drive/My Drive/content/AFND/Dataset/source_81/scraped_articles.json\n",
            "Checking file existence: /content/drive/My Drive/content/AFND/Dataset/source_82/scraped_articles.json\n",
            "Checking file existence: /content/drive/My Drive/content/AFND/Dataset/source_83/scraped_articles.json\n",
            "Checking file existence: /content/drive/My Drive/content/AFND/Dataset/source_84/scraped_articles.json\n",
            "Checking file existence: /content/drive/My Drive/content/AFND/Dataset/source_85/scraped_articles.json\n",
            "Checking file existence: /content/drive/My Drive/content/AFND/Dataset/source_86/scraped_articles.json\n",
            "Checking file existence: /content/drive/My Drive/content/AFND/Dataset/source_87/scraped_articles.json\n",
            "Checking file existence: /content/drive/My Drive/content/AFND/Dataset/source_88/scraped_articles.json\n",
            "Checking file existence: /content/drive/My Drive/content/AFND/Dataset/source_89/scraped_articles.json\n",
            "Checking file existence: /content/drive/My Drive/content/AFND/Dataset/source_90/scraped_articles.json\n",
            "Checking file existence: /content/drive/My Drive/content/AFND/Dataset/source_91/scraped_articles.json\n",
            "Checking file existence: /content/drive/My Drive/content/AFND/Dataset/source_92/scraped_articles.json\n",
            "Checking file existence: /content/drive/My Drive/content/AFND/Dataset/source_93/scraped_articles.json\n",
            "Checking file existence: /content/drive/My Drive/content/AFND/Dataset/source_94/scraped_articles.json\n",
            "Checking file existence: /content/drive/My Drive/content/AFND/Dataset/source_95/scraped_articles.json\n",
            "Checking file existence: /content/drive/My Drive/content/AFND/Dataset/source_96/scraped_articles.json\n",
            "Checking file existence: /content/drive/My Drive/content/AFND/Dataset/source_97/scraped_articles.json\n",
            "Checking file existence: /content/drive/My Drive/content/AFND/Dataset/source_98/scraped_articles.json\n",
            "Checking file existence: /content/drive/My Drive/content/AFND/Dataset/source_99/scraped_articles.json\n",
            "Checking file existence: /content/drive/My Drive/content/AFND/Dataset/source_100/scraped_articles.json\n",
            "Checking file existence: /content/drive/My Drive/content/AFND/Dataset/source_101/scraped_articles.json\n",
            "Checking file existence: /content/drive/My Drive/content/AFND/Dataset/source_102/scraped_articles.json\n",
            "Checking file existence: /content/drive/My Drive/content/AFND/Dataset/source_103/scraped_articles.json\n",
            "Checking file existence: /content/drive/My Drive/content/AFND/Dataset/source_104/scraped_articles.json\n",
            "Checking file existence: /content/drive/My Drive/content/AFND/Dataset/source_105/scraped_articles.json\n",
            "Checking file existence: /content/drive/My Drive/content/AFND/Dataset/source_106/scraped_articles.json\n",
            "Checking file existence: /content/drive/My Drive/content/AFND/Dataset/source_107/scraped_articles.json\n",
            "Checking file existence: /content/drive/My Drive/content/AFND/Dataset/source_108/scraped_articles.json\n",
            "Checking file existence: /content/drive/My Drive/content/AFND/Dataset/source_109/scraped_articles.json\n",
            "Checking file existence: /content/drive/My Drive/content/AFND/Dataset/source_110/scraped_articles.json\n",
            "Checking file existence: /content/drive/My Drive/content/AFND/Dataset/source_111/scraped_articles.json\n",
            "Checking file existence: /content/drive/My Drive/content/AFND/Dataset/source_112/scraped_articles.json\n",
            "Checking file existence: /content/drive/My Drive/content/AFND/Dataset/source_113/scraped_articles.json\n",
            "Checking file existence: /content/drive/My Drive/content/AFND/Dataset/source_114/scraped_articles.json\n",
            "Checking file existence: /content/drive/My Drive/content/AFND/Dataset/source_115/scraped_articles.json\n",
            "Checking file existence: /content/drive/My Drive/content/AFND/Dataset/source_116/scraped_articles.json\n",
            "Checking file existence: /content/drive/My Drive/content/AFND/Dataset/source_117/scraped_articles.json\n",
            "Checking file existence: /content/drive/My Drive/content/AFND/Dataset/source_118/scraped_articles.json\n",
            "Checking file existence: /content/drive/My Drive/content/AFND/Dataset/source_119/scraped_articles.json\n",
            "Checking file existence: /content/drive/My Drive/content/AFND/Dataset/source_120/scraped_articles.json\n",
            "Checking file existence: /content/drive/My Drive/content/AFND/Dataset/source_121/scraped_articles.json\n",
            "Checking file existence: /content/drive/My Drive/content/AFND/Dataset/source_122/scraped_articles.json\n",
            "Checking file existence: /content/drive/My Drive/content/AFND/Dataset/source_123/scraped_articles.json\n",
            "Checking file existence: /content/drive/My Drive/content/AFND/Dataset/source_124/scraped_articles.json\n",
            "Checking file existence: /content/drive/My Drive/content/AFND/Dataset/source_125/scraped_articles.json\n",
            "Checking file existence: /content/drive/My Drive/content/AFND/Dataset/source_126/scraped_articles.json\n",
            "Checking file existence: /content/drive/My Drive/content/AFND/Dataset/source_127/scraped_articles.json\n",
            "Checking file existence: /content/drive/My Drive/content/AFND/Dataset/source_128/scraped_articles.json\n",
            "Checking file existence: /content/drive/My Drive/content/AFND/Dataset/source_129/scraped_articles.json\n",
            "Checking file existence: /content/drive/My Drive/content/AFND/Dataset/source_130/scraped_articles.json\n",
            "Checking file existence: /content/drive/My Drive/content/AFND/Dataset/source_131/scraped_articles.json\n",
            "Checking file existence: /content/drive/My Drive/content/AFND/Dataset/source_132/scraped_articles.json\n",
            "Checking file existence: /content/drive/My Drive/content/AFND/Dataset/source_133/scraped_articles.json\n",
            "Checking file existence: /content/drive/My Drive/content/AFND/Dataset/source_134/scraped_articles.json\n",
            "Data loaded successfully.\n"
          ]
        }
      ]
    },
    {
      "cell_type": "markdown",
      "source": [
        "# **Explore English Dataset**"
      ],
      "metadata": {
        "id": "hIcLgFom1OFz"
      }
    },
    {
      "cell_type": "code",
      "source": [
        "fake_dataset['text'][0]"
      ],
      "metadata": {
        "colab": {
          "base_uri": "https://localhost:8080/",
          "height": 123
        },
        "id": "2Vvnpesr1XXj",
        "outputId": "fe663eb1-df69-4c24-b572-ebe83f975987"
      },
      "execution_count": null,
      "outputs": [
        {
          "output_type": "execute_result",
          "data": {
            "text/plain": [
              "'Donald Trump just couldn t wish all Americans a Happy New Year and leave it at that. Instead, he had to give a shout out to his enemies, haters and  the very dishonest fake news media.  The former reality show star had just one job to do and he couldn t do it. As our Country rapidly grows stronger and smarter, I want to wish all of my friends, supporters, enemies, haters, and even the very dishonest Fake News Media, a Happy and Healthy New Year,  President Angry Pants tweeted.  2018 will be a great year for America! As our Country rapidly grows stronger and smarter, I want to wish all of my friends, supporters, enemies, haters, and even the very dishonest Fake News Media, a Happy and Healthy New Year. 2018 will be a great year for America!  Donald J. Trump (@realDonaldTrump) December 31, 2017Trump s tweet went down about as welll as you d expect.What kind of president sends a New Year s greeting like this despicable, petty, infantile gibberish? Only Trump! His lack of decency won t even allow him to rise above the gutter long enough to wish the American citizens a happy new year!  Bishop Talbert Swan (@TalbertSwan) December 31, 2017no one likes you  Calvin (@calvinstowell) December 31, 2017Your impeachment would make 2018 a great year for America, but I ll also accept regaining control of Congress.  Miranda Yaver (@mirandayaver) December 31, 2017Do you hear yourself talk? When you have to include that many people that hate you you have to wonder? Why do the they all hate me?  Alan Sandoval (@AlanSandoval13) December 31, 2017Who uses the word Haters in a New Years wish??  Marlene (@marlene399) December 31, 2017You can t just say happy new year?  Koren pollitt (@Korencarpenter) December 31, 2017Here s Trump s New Year s Eve tweet from 2016.Happy New Year to all, including to my many enemies and those who have fought me and lost so badly they just don t know what to do. Love!  Donald J. Trump (@realDonaldTrump) December 31, 2016This is nothing new for Trump. He s been doing this for years.Trump has directed messages to his  enemies  and  haters  for New Year s, Easter, Thanksgiving, and the anniversary of 9/11. pic.twitter.com/4FPAe2KypA  Daniel Dale (@ddale8) December 31, 2017Trump s holiday tweets are clearly not presidential.How long did he work at Hallmark before becoming President?  Steven Goodine (@SGoodine) December 31, 2017He s always been like this . . . the only difference is that in the last few years, his filter has been breaking down.  Roy Schulze (@thbthttt) December 31, 2017Who, apart from a teenager uses the term haters?  Wendy (@WendyWhistles) December 31, 2017he s a fucking 5 year old  Who Knows (@rainyday80) December 31, 2017So, to all the people who voted for this a hole thinking he would change once he got into power, you were wrong! 70-year-old men don t change and now he s a year older.Photo by Andrew Burton/Getty Images.'"
            ],
            "application/vnd.google.colaboratory.intrinsic+json": {
              "type": "string"
            }
          },
          "metadata": {},
          "execution_count": 13
        }
      ]
    },
    {
      "cell_type": "code",
      "source": [
        "fake_dataset.head()"
      ],
      "metadata": {
        "colab": {
          "base_uri": "https://localhost:8080/",
          "height": 689
        },
        "id": "cqDdIKaH1cIx",
        "outputId": "5fb29f35-3b43-479d-dae1-7a5b911ad967"
      },
      "execution_count": null,
      "outputs": [
        {
          "output_type": "execute_result",
          "data": {
            "text/plain": [
              "                                               title  \\\n",
              "0   Donald Trump Sends Out Embarrassing New Yearâ...   \n",
              "1   Drunk Bragging Trump Staffer Started Russian ...   \n",
              "2   Sheriff David Clarke Becomes An Internet Joke...   \n",
              "3   Trump Is So Obsessed He Even Has Obamaâs Na...   \n",
              "4   Pope Francis Just Called Out Donald Trump Dur...   \n",
              "\n",
              "                                                text subject       date  \\\n",
              "0  Donald Trump just couldn t wish all Americans ...    News  31-Dec-17   \n",
              "1  House Intelligence Committee Chairman Devin Nu...    News  31-Dec-17   \n",
              "2  On Friday, it was revealed that former Milwauk...    News  30-Dec-17   \n",
              "3  On Christmas day, Donald Trump announced that ...    News  29-Dec-17   \n",
              "4  Pope Francis used his annual Christmas Day mes...    News  25-Dec-17   \n",
              "\n",
              "  Unnamed: 4 Unnamed: 5 Unnamed: 6 Unnamed: 7 Unnamed: 8 Unnamed: 9  ...  \\\n",
              "0        NaN        NaN        NaN        NaN        NaN        NaN  ...   \n",
              "1        NaN        NaN        NaN        NaN        NaN        NaN  ...   \n",
              "2        NaN        NaN        NaN        NaN        NaN        NaN  ...   \n",
              "3        NaN        NaN        NaN        NaN        NaN        NaN  ...   \n",
              "4        NaN        NaN        NaN        NaN        NaN        NaN  ...   \n",
              "\n",
              "  Unnamed: 162 Unnamed: 163 Unnamed: 164 Unnamed: 165 Unnamed: 166  \\\n",
              "0          NaN          NaN          NaN          NaN          NaN   \n",
              "1          NaN          NaN          NaN          NaN          NaN   \n",
              "2          NaN          NaN          NaN          NaN          NaN   \n",
              "3          NaN          NaN          NaN          NaN          NaN   \n",
              "4          NaN          NaN          NaN          NaN          NaN   \n",
              "\n",
              "  Unnamed: 167 Unnamed: 168 Unnamed: 169 Unnamed: 170 Unnamed: 171  \n",
              "0          NaN          NaN          NaN          NaN          NaN  \n",
              "1          NaN          NaN          NaN          NaN          NaN  \n",
              "2          NaN          NaN          NaN          NaN          NaN  \n",
              "3          NaN          NaN          NaN          NaN          NaN  \n",
              "4          NaN          NaN          NaN          NaN          NaN  \n",
              "\n",
              "[5 rows x 172 columns]"
            ],
            "text/html": [
              "\n",
              "  <div id=\"df-0307ce34-049a-43c4-8c2f-cde8f8d9b084\" class=\"colab-df-container\">\n",
              "    <div>\n",
              "<style scoped>\n",
              "    .dataframe tbody tr th:only-of-type {\n",
              "        vertical-align: middle;\n",
              "    }\n",
              "\n",
              "    .dataframe tbody tr th {\n",
              "        vertical-align: top;\n",
              "    }\n",
              "\n",
              "    .dataframe thead th {\n",
              "        text-align: right;\n",
              "    }\n",
              "</style>\n",
              "<table border=\"1\" class=\"dataframe\">\n",
              "  <thead>\n",
              "    <tr style=\"text-align: right;\">\n",
              "      <th></th>\n",
              "      <th>title</th>\n",
              "      <th>text</th>\n",
              "      <th>subject</th>\n",
              "      <th>date</th>\n",
              "      <th>Unnamed: 4</th>\n",
              "      <th>Unnamed: 5</th>\n",
              "      <th>Unnamed: 6</th>\n",
              "      <th>Unnamed: 7</th>\n",
              "      <th>Unnamed: 8</th>\n",
              "      <th>Unnamed: 9</th>\n",
              "      <th>...</th>\n",
              "      <th>Unnamed: 162</th>\n",
              "      <th>Unnamed: 163</th>\n",
              "      <th>Unnamed: 164</th>\n",
              "      <th>Unnamed: 165</th>\n",
              "      <th>Unnamed: 166</th>\n",
              "      <th>Unnamed: 167</th>\n",
              "      <th>Unnamed: 168</th>\n",
              "      <th>Unnamed: 169</th>\n",
              "      <th>Unnamed: 170</th>\n",
              "      <th>Unnamed: 171</th>\n",
              "    </tr>\n",
              "  </thead>\n",
              "  <tbody>\n",
              "    <tr>\n",
              "      <th>0</th>\n",
              "      <td>Donald Trump Sends Out Embarrassing New Yearâ...</td>\n",
              "      <td>Donald Trump just couldn t wish all Americans ...</td>\n",
              "      <td>News</td>\n",
              "      <td>31-Dec-17</td>\n",
              "      <td>NaN</td>\n",
              "      <td>NaN</td>\n",
              "      <td>NaN</td>\n",
              "      <td>NaN</td>\n",
              "      <td>NaN</td>\n",
              "      <td>NaN</td>\n",
              "      <td>...</td>\n",
              "      <td>NaN</td>\n",
              "      <td>NaN</td>\n",
              "      <td>NaN</td>\n",
              "      <td>NaN</td>\n",
              "      <td>NaN</td>\n",
              "      <td>NaN</td>\n",
              "      <td>NaN</td>\n",
              "      <td>NaN</td>\n",
              "      <td>NaN</td>\n",
              "      <td>NaN</td>\n",
              "    </tr>\n",
              "    <tr>\n",
              "      <th>1</th>\n",
              "      <td>Drunk Bragging Trump Staffer Started Russian ...</td>\n",
              "      <td>House Intelligence Committee Chairman Devin Nu...</td>\n",
              "      <td>News</td>\n",
              "      <td>31-Dec-17</td>\n",
              "      <td>NaN</td>\n",
              "      <td>NaN</td>\n",
              "      <td>NaN</td>\n",
              "      <td>NaN</td>\n",
              "      <td>NaN</td>\n",
              "      <td>NaN</td>\n",
              "      <td>...</td>\n",
              "      <td>NaN</td>\n",
              "      <td>NaN</td>\n",
              "      <td>NaN</td>\n",
              "      <td>NaN</td>\n",
              "      <td>NaN</td>\n",
              "      <td>NaN</td>\n",
              "      <td>NaN</td>\n",
              "      <td>NaN</td>\n",
              "      <td>NaN</td>\n",
              "      <td>NaN</td>\n",
              "    </tr>\n",
              "    <tr>\n",
              "      <th>2</th>\n",
              "      <td>Sheriff David Clarke Becomes An Internet Joke...</td>\n",
              "      <td>On Friday, it was revealed that former Milwauk...</td>\n",
              "      <td>News</td>\n",
              "      <td>30-Dec-17</td>\n",
              "      <td>NaN</td>\n",
              "      <td>NaN</td>\n",
              "      <td>NaN</td>\n",
              "      <td>NaN</td>\n",
              "      <td>NaN</td>\n",
              "      <td>NaN</td>\n",
              "      <td>...</td>\n",
              "      <td>NaN</td>\n",
              "      <td>NaN</td>\n",
              "      <td>NaN</td>\n",
              "      <td>NaN</td>\n",
              "      <td>NaN</td>\n",
              "      <td>NaN</td>\n",
              "      <td>NaN</td>\n",
              "      <td>NaN</td>\n",
              "      <td>NaN</td>\n",
              "      <td>NaN</td>\n",
              "    </tr>\n",
              "    <tr>\n",
              "      <th>3</th>\n",
              "      <td>Trump Is So Obsessed He Even Has Obamaâs Na...</td>\n",
              "      <td>On Christmas day, Donald Trump announced that ...</td>\n",
              "      <td>News</td>\n",
              "      <td>29-Dec-17</td>\n",
              "      <td>NaN</td>\n",
              "      <td>NaN</td>\n",
              "      <td>NaN</td>\n",
              "      <td>NaN</td>\n",
              "      <td>NaN</td>\n",
              "      <td>NaN</td>\n",
              "      <td>...</td>\n",
              "      <td>NaN</td>\n",
              "      <td>NaN</td>\n",
              "      <td>NaN</td>\n",
              "      <td>NaN</td>\n",
              "      <td>NaN</td>\n",
              "      <td>NaN</td>\n",
              "      <td>NaN</td>\n",
              "      <td>NaN</td>\n",
              "      <td>NaN</td>\n",
              "      <td>NaN</td>\n",
              "    </tr>\n",
              "    <tr>\n",
              "      <th>4</th>\n",
              "      <td>Pope Francis Just Called Out Donald Trump Dur...</td>\n",
              "      <td>Pope Francis used his annual Christmas Day mes...</td>\n",
              "      <td>News</td>\n",
              "      <td>25-Dec-17</td>\n",
              "      <td>NaN</td>\n",
              "      <td>NaN</td>\n",
              "      <td>NaN</td>\n",
              "      <td>NaN</td>\n",
              "      <td>NaN</td>\n",
              "      <td>NaN</td>\n",
              "      <td>...</td>\n",
              "      <td>NaN</td>\n",
              "      <td>NaN</td>\n",
              "      <td>NaN</td>\n",
              "      <td>NaN</td>\n",
              "      <td>NaN</td>\n",
              "      <td>NaN</td>\n",
              "      <td>NaN</td>\n",
              "      <td>NaN</td>\n",
              "      <td>NaN</td>\n",
              "      <td>NaN</td>\n",
              "    </tr>\n",
              "  </tbody>\n",
              "</table>\n",
              "<p>5 rows × 172 columns</p>\n",
              "</div>\n",
              "    <div class=\"colab-df-buttons\">\n",
              "\n",
              "  <div class=\"colab-df-container\">\n",
              "    <button class=\"colab-df-convert\" onclick=\"convertToInteractive('df-0307ce34-049a-43c4-8c2f-cde8f8d9b084')\"\n",
              "            title=\"Convert this dataframe to an interactive table.\"\n",
              "            style=\"display:none;\">\n",
              "\n",
              "  <svg xmlns=\"http://www.w3.org/2000/svg\" height=\"24px\" viewBox=\"0 -960 960 960\">\n",
              "    <path d=\"M120-120v-720h720v720H120Zm60-500h600v-160H180v160Zm220 220h160v-160H400v160Zm0 220h160v-160H400v160ZM180-400h160v-160H180v160Zm440 0h160v-160H620v160ZM180-180h160v-160H180v160Zm440 0h160v-160H620v160Z\"/>\n",
              "  </svg>\n",
              "    </button>\n",
              "\n",
              "  <style>\n",
              "    .colab-df-container {\n",
              "      display:flex;\n",
              "      gap: 12px;\n",
              "    }\n",
              "\n",
              "    .colab-df-convert {\n",
              "      background-color: #E8F0FE;\n",
              "      border: none;\n",
              "      border-radius: 50%;\n",
              "      cursor: pointer;\n",
              "      display: none;\n",
              "      fill: #1967D2;\n",
              "      height: 32px;\n",
              "      padding: 0 0 0 0;\n",
              "      width: 32px;\n",
              "    }\n",
              "\n",
              "    .colab-df-convert:hover {\n",
              "      background-color: #E2EBFA;\n",
              "      box-shadow: 0px 1px 2px rgba(60, 64, 67, 0.3), 0px 1px 3px 1px rgba(60, 64, 67, 0.15);\n",
              "      fill: #174EA6;\n",
              "    }\n",
              "\n",
              "    .colab-df-buttons div {\n",
              "      margin-bottom: 4px;\n",
              "    }\n",
              "\n",
              "    [theme=dark] .colab-df-convert {\n",
              "      background-color: #3B4455;\n",
              "      fill: #D2E3FC;\n",
              "    }\n",
              "\n",
              "    [theme=dark] .colab-df-convert:hover {\n",
              "      background-color: #434B5C;\n",
              "      box-shadow: 0px 1px 3px 1px rgba(0, 0, 0, 0.15);\n",
              "      filter: drop-shadow(0px 1px 2px rgba(0, 0, 0, 0.3));\n",
              "      fill: #FFFFFF;\n",
              "    }\n",
              "  </style>\n",
              "\n",
              "    <script>\n",
              "      const buttonEl =\n",
              "        document.querySelector('#df-0307ce34-049a-43c4-8c2f-cde8f8d9b084 button.colab-df-convert');\n",
              "      buttonEl.style.display =\n",
              "        google.colab.kernel.accessAllowed ? 'block' : 'none';\n",
              "\n",
              "      async function convertToInteractive(key) {\n",
              "        const element = document.querySelector('#df-0307ce34-049a-43c4-8c2f-cde8f8d9b084');\n",
              "        const dataTable =\n",
              "          await google.colab.kernel.invokeFunction('convertToInteractive',\n",
              "                                                    [key], {});\n",
              "        if (!dataTable) return;\n",
              "\n",
              "        const docLinkHtml = 'Like what you see? Visit the ' +\n",
              "          '<a target=\"_blank\" href=https://colab.research.google.com/notebooks/data_table.ipynb>data table notebook</a>'\n",
              "          + ' to learn more about interactive tables.';\n",
              "        element.innerHTML = '';\n",
              "        dataTable['output_type'] = 'display_data';\n",
              "        await google.colab.output.renderOutput(dataTable, element);\n",
              "        const docLink = document.createElement('div');\n",
              "        docLink.innerHTML = docLinkHtml;\n",
              "        element.appendChild(docLink);\n",
              "      }\n",
              "    </script>\n",
              "  </div>\n",
              "\n",
              "\n",
              "<div id=\"df-4aec74e4-1a59-4515-8a88-a4bdda2b4a26\">\n",
              "  <button class=\"colab-df-quickchart\" onclick=\"quickchart('df-4aec74e4-1a59-4515-8a88-a4bdda2b4a26')\"\n",
              "            title=\"Suggest charts\"\n",
              "            style=\"display:none;\">\n",
              "\n",
              "<svg xmlns=\"http://www.w3.org/2000/svg\" height=\"24px\"viewBox=\"0 0 24 24\"\n",
              "     width=\"24px\">\n",
              "    <g>\n",
              "        <path d=\"M19 3H5c-1.1 0-2 .9-2 2v14c0 1.1.9 2 2 2h14c1.1 0 2-.9 2-2V5c0-1.1-.9-2-2-2zM9 17H7v-7h2v7zm4 0h-2V7h2v10zm4 0h-2v-4h2v4z\"/>\n",
              "    </g>\n",
              "</svg>\n",
              "  </button>\n",
              "\n",
              "<style>\n",
              "  .colab-df-quickchart {\n",
              "      --bg-color: #E8F0FE;\n",
              "      --fill-color: #1967D2;\n",
              "      --hover-bg-color: #E2EBFA;\n",
              "      --hover-fill-color: #174EA6;\n",
              "      --disabled-fill-color: #AAA;\n",
              "      --disabled-bg-color: #DDD;\n",
              "  }\n",
              "\n",
              "  [theme=dark] .colab-df-quickchart {\n",
              "      --bg-color: #3B4455;\n",
              "      --fill-color: #D2E3FC;\n",
              "      --hover-bg-color: #434B5C;\n",
              "      --hover-fill-color: #FFFFFF;\n",
              "      --disabled-bg-color: #3B4455;\n",
              "      --disabled-fill-color: #666;\n",
              "  }\n",
              "\n",
              "  .colab-df-quickchart {\n",
              "    background-color: var(--bg-color);\n",
              "    border: none;\n",
              "    border-radius: 50%;\n",
              "    cursor: pointer;\n",
              "    display: none;\n",
              "    fill: var(--fill-color);\n",
              "    height: 32px;\n",
              "    padding: 0;\n",
              "    width: 32px;\n",
              "  }\n",
              "\n",
              "  .colab-df-quickchart:hover {\n",
              "    background-color: var(--hover-bg-color);\n",
              "    box-shadow: 0 1px 2px rgba(60, 64, 67, 0.3), 0 1px 3px 1px rgba(60, 64, 67, 0.15);\n",
              "    fill: var(--button-hover-fill-color);\n",
              "  }\n",
              "\n",
              "  .colab-df-quickchart-complete:disabled,\n",
              "  .colab-df-quickchart-complete:disabled:hover {\n",
              "    background-color: var(--disabled-bg-color);\n",
              "    fill: var(--disabled-fill-color);\n",
              "    box-shadow: none;\n",
              "  }\n",
              "\n",
              "  .colab-df-spinner {\n",
              "    border: 2px solid var(--fill-color);\n",
              "    border-color: transparent;\n",
              "    border-bottom-color: var(--fill-color);\n",
              "    animation:\n",
              "      spin 1s steps(1) infinite;\n",
              "  }\n",
              "\n",
              "  @keyframes spin {\n",
              "    0% {\n",
              "      border-color: transparent;\n",
              "      border-bottom-color: var(--fill-color);\n",
              "      border-left-color: var(--fill-color);\n",
              "    }\n",
              "    20% {\n",
              "      border-color: transparent;\n",
              "      border-left-color: var(--fill-color);\n",
              "      border-top-color: var(--fill-color);\n",
              "    }\n",
              "    30% {\n",
              "      border-color: transparent;\n",
              "      border-left-color: var(--fill-color);\n",
              "      border-top-color: var(--fill-color);\n",
              "      border-right-color: var(--fill-color);\n",
              "    }\n",
              "    40% {\n",
              "      border-color: transparent;\n",
              "      border-right-color: var(--fill-color);\n",
              "      border-top-color: var(--fill-color);\n",
              "    }\n",
              "    60% {\n",
              "      border-color: transparent;\n",
              "      border-right-color: var(--fill-color);\n",
              "    }\n",
              "    80% {\n",
              "      border-color: transparent;\n",
              "      border-right-color: var(--fill-color);\n",
              "      border-bottom-color: var(--fill-color);\n",
              "    }\n",
              "    90% {\n",
              "      border-color: transparent;\n",
              "      border-bottom-color: var(--fill-color);\n",
              "    }\n",
              "  }\n",
              "</style>\n",
              "\n",
              "  <script>\n",
              "    async function quickchart(key) {\n",
              "      const quickchartButtonEl =\n",
              "        document.querySelector('#' + key + ' button');\n",
              "      quickchartButtonEl.disabled = true;  // To prevent multiple clicks.\n",
              "      quickchartButtonEl.classList.add('colab-df-spinner');\n",
              "      try {\n",
              "        const charts = await google.colab.kernel.invokeFunction(\n",
              "            'suggestCharts', [key], {});\n",
              "      } catch (error) {\n",
              "        console.error('Error during call to suggestCharts:', error);\n",
              "      }\n",
              "      quickchartButtonEl.classList.remove('colab-df-spinner');\n",
              "      quickchartButtonEl.classList.add('colab-df-quickchart-complete');\n",
              "    }\n",
              "    (() => {\n",
              "      let quickchartButtonEl =\n",
              "        document.querySelector('#df-4aec74e4-1a59-4515-8a88-a4bdda2b4a26 button');\n",
              "      quickchartButtonEl.style.display =\n",
              "        google.colab.kernel.accessAllowed ? 'block' : 'none';\n",
              "    })();\n",
              "  </script>\n",
              "</div>\n",
              "    </div>\n",
              "  </div>\n"
            ],
            "application/vnd.google.colaboratory.intrinsic+json": {
              "type": "dataframe",
              "variable_name": "fake_dataset"
            }
          },
          "metadata": {},
          "execution_count": 14
        }
      ]
    },
    {
      "cell_type": "code",
      "execution_count": null,
      "metadata": {
        "execution": {
          "iopub.execute_input": "2023-03-07T20:50:23.171565Z",
          "iopub.status.busy": "2023-03-07T20:50:23.170921Z",
          "iopub.status.idle": "2023-03-07T20:50:23.201075Z",
          "shell.execute_reply": "2023-03-07T20:50:23.200216Z"
        },
        "papermill": {
          "duration": 0.049318,
          "end_time": "2023-03-07T20:50:23.203211",
          "exception": false,
          "start_time": "2023-03-07T20:50:23.153893",
          "status": "completed"
        },
        "tags": [],
        "id": "1f7826c3",
        "outputId": "1d103753-1ed2-4c42-a51d-28011d251b07",
        "colab": {
          "base_uri": "https://localhost:8080/"
        }
      },
      "outputs": [
        {
          "output_type": "stream",
          "name": "stdout",
          "text": [
            "<class 'pandas.core.frame.DataFrame'>\n",
            "RangeIndex: 23544 entries, 0 to 23543\n",
            "Columns: 172 entries, title to Unnamed: 171\n",
            "dtypes: object(172)\n",
            "memory usage: 30.9+ MB\n"
          ]
        }
      ],
      "source": [
        "fake_dataset.info()"
      ]
    },
    {
      "cell_type": "code",
      "source": [
        "fake_dataset.isna().sum()"
      ],
      "metadata": {
        "colab": {
          "base_uri": "https://localhost:8080/"
        },
        "id": "8kVpDc3f1rOY",
        "outputId": "0a101534-2e10-4b4d-dab7-65d5dfcd5179"
      },
      "execution_count": null,
      "outputs": [
        {
          "output_type": "execute_result",
          "data": {
            "text/plain": [
              "title              42\n",
              "text               42\n",
              "subject            63\n",
              "date               63\n",
              "Unnamed: 4      23523\n",
              "                ...  \n",
              "Unnamed: 167    23542\n",
              "Unnamed: 168    23542\n",
              "Unnamed: 169    23542\n",
              "Unnamed: 170    23542\n",
              "Unnamed: 171    23542\n",
              "Length: 172, dtype: int64"
            ]
          },
          "metadata": {},
          "execution_count": 16
        }
      ]
    },
    {
      "cell_type": "code",
      "source": [
        "true_dataset.head()"
      ],
      "metadata": {
        "colab": {
          "base_uri": "https://localhost:8080/",
          "height": 206
        },
        "id": "mOn29gSC1xOg",
        "outputId": "0913d48a-7108-4d7a-b711-12e5c2edf283"
      },
      "execution_count": null,
      "outputs": [
        {
          "output_type": "execute_result",
          "data": {
            "text/plain": [
              "                                               title  \\\n",
              "0  As U.S. budget fight looms, Republicans flip t...   \n",
              "1  U.S. military to accept transgender recruits o...   \n",
              "2  Senior U.S. Republican senator: 'Let Mr. Muell...   \n",
              "3  FBI Russia probe helped by Australian diplomat...   \n",
              "4  Trump wants Postal Service to charge 'much mor...   \n",
              "\n",
              "                                                text       subject       date  \\\n",
              "0  WASHINGTON (Reuters) - The head of a conservat...  politicsNews  31-Dec-17   \n",
              "1  WASHINGTON (Reuters) - Transgender people will...  politicsNews  29-Dec-17   \n",
              "2  WASHINGTON (Reuters) - The special counsel inv...  politicsNews  31-Dec-17   \n",
              "3  WASHINGTON (Reuters) - Trump campaign adviser ...  politicsNews  30-Dec-17   \n",
              "4  SEATTLE/WASHINGTON (Reuters) - President Donal...  politicsNews  29-Dec-17   \n",
              "\n",
              "  Unnamed: 4 Unnamed: 5 Unnamed: 6 Unnamed: 7  \n",
              "0        NaN        NaN        NaN        NaN  \n",
              "1        NaN        NaN        NaN        NaN  \n",
              "2        NaN        NaN        NaN        NaN  \n",
              "3        NaN        NaN        NaN        NaN  \n",
              "4        NaN        NaN        NaN        NaN  "
            ],
            "text/html": [
              "\n",
              "  <div id=\"df-4a70d0b2-2f18-46ad-ab32-ab6362dc9858\" class=\"colab-df-container\">\n",
              "    <div>\n",
              "<style scoped>\n",
              "    .dataframe tbody tr th:only-of-type {\n",
              "        vertical-align: middle;\n",
              "    }\n",
              "\n",
              "    .dataframe tbody tr th {\n",
              "        vertical-align: top;\n",
              "    }\n",
              "\n",
              "    .dataframe thead th {\n",
              "        text-align: right;\n",
              "    }\n",
              "</style>\n",
              "<table border=\"1\" class=\"dataframe\">\n",
              "  <thead>\n",
              "    <tr style=\"text-align: right;\">\n",
              "      <th></th>\n",
              "      <th>title</th>\n",
              "      <th>text</th>\n",
              "      <th>subject</th>\n",
              "      <th>date</th>\n",
              "      <th>Unnamed: 4</th>\n",
              "      <th>Unnamed: 5</th>\n",
              "      <th>Unnamed: 6</th>\n",
              "      <th>Unnamed: 7</th>\n",
              "    </tr>\n",
              "  </thead>\n",
              "  <tbody>\n",
              "    <tr>\n",
              "      <th>0</th>\n",
              "      <td>As U.S. budget fight looms, Republicans flip t...</td>\n",
              "      <td>WASHINGTON (Reuters) - The head of a conservat...</td>\n",
              "      <td>politicsNews</td>\n",
              "      <td>31-Dec-17</td>\n",
              "      <td>NaN</td>\n",
              "      <td>NaN</td>\n",
              "      <td>NaN</td>\n",
              "      <td>NaN</td>\n",
              "    </tr>\n",
              "    <tr>\n",
              "      <th>1</th>\n",
              "      <td>U.S. military to accept transgender recruits o...</td>\n",
              "      <td>WASHINGTON (Reuters) - Transgender people will...</td>\n",
              "      <td>politicsNews</td>\n",
              "      <td>29-Dec-17</td>\n",
              "      <td>NaN</td>\n",
              "      <td>NaN</td>\n",
              "      <td>NaN</td>\n",
              "      <td>NaN</td>\n",
              "    </tr>\n",
              "    <tr>\n",
              "      <th>2</th>\n",
              "      <td>Senior U.S. Republican senator: 'Let Mr. Muell...</td>\n",
              "      <td>WASHINGTON (Reuters) - The special counsel inv...</td>\n",
              "      <td>politicsNews</td>\n",
              "      <td>31-Dec-17</td>\n",
              "      <td>NaN</td>\n",
              "      <td>NaN</td>\n",
              "      <td>NaN</td>\n",
              "      <td>NaN</td>\n",
              "    </tr>\n",
              "    <tr>\n",
              "      <th>3</th>\n",
              "      <td>FBI Russia probe helped by Australian diplomat...</td>\n",
              "      <td>WASHINGTON (Reuters) - Trump campaign adviser ...</td>\n",
              "      <td>politicsNews</td>\n",
              "      <td>30-Dec-17</td>\n",
              "      <td>NaN</td>\n",
              "      <td>NaN</td>\n",
              "      <td>NaN</td>\n",
              "      <td>NaN</td>\n",
              "    </tr>\n",
              "    <tr>\n",
              "      <th>4</th>\n",
              "      <td>Trump wants Postal Service to charge 'much mor...</td>\n",
              "      <td>SEATTLE/WASHINGTON (Reuters) - President Donal...</td>\n",
              "      <td>politicsNews</td>\n",
              "      <td>29-Dec-17</td>\n",
              "      <td>NaN</td>\n",
              "      <td>NaN</td>\n",
              "      <td>NaN</td>\n",
              "      <td>NaN</td>\n",
              "    </tr>\n",
              "  </tbody>\n",
              "</table>\n",
              "</div>\n",
              "    <div class=\"colab-df-buttons\">\n",
              "\n",
              "  <div class=\"colab-df-container\">\n",
              "    <button class=\"colab-df-convert\" onclick=\"convertToInteractive('df-4a70d0b2-2f18-46ad-ab32-ab6362dc9858')\"\n",
              "            title=\"Convert this dataframe to an interactive table.\"\n",
              "            style=\"display:none;\">\n",
              "\n",
              "  <svg xmlns=\"http://www.w3.org/2000/svg\" height=\"24px\" viewBox=\"0 -960 960 960\">\n",
              "    <path d=\"M120-120v-720h720v720H120Zm60-500h600v-160H180v160Zm220 220h160v-160H400v160Zm0 220h160v-160H400v160ZM180-400h160v-160H180v160Zm440 0h160v-160H620v160ZM180-180h160v-160H180v160Zm440 0h160v-160H620v160Z\"/>\n",
              "  </svg>\n",
              "    </button>\n",
              "\n",
              "  <style>\n",
              "    .colab-df-container {\n",
              "      display:flex;\n",
              "      gap: 12px;\n",
              "    }\n",
              "\n",
              "    .colab-df-convert {\n",
              "      background-color: #E8F0FE;\n",
              "      border: none;\n",
              "      border-radius: 50%;\n",
              "      cursor: pointer;\n",
              "      display: none;\n",
              "      fill: #1967D2;\n",
              "      height: 32px;\n",
              "      padding: 0 0 0 0;\n",
              "      width: 32px;\n",
              "    }\n",
              "\n",
              "    .colab-df-convert:hover {\n",
              "      background-color: #E2EBFA;\n",
              "      box-shadow: 0px 1px 2px rgba(60, 64, 67, 0.3), 0px 1px 3px 1px rgba(60, 64, 67, 0.15);\n",
              "      fill: #174EA6;\n",
              "    }\n",
              "\n",
              "    .colab-df-buttons div {\n",
              "      margin-bottom: 4px;\n",
              "    }\n",
              "\n",
              "    [theme=dark] .colab-df-convert {\n",
              "      background-color: #3B4455;\n",
              "      fill: #D2E3FC;\n",
              "    }\n",
              "\n",
              "    [theme=dark] .colab-df-convert:hover {\n",
              "      background-color: #434B5C;\n",
              "      box-shadow: 0px 1px 3px 1px rgba(0, 0, 0, 0.15);\n",
              "      filter: drop-shadow(0px 1px 2px rgba(0, 0, 0, 0.3));\n",
              "      fill: #FFFFFF;\n",
              "    }\n",
              "  </style>\n",
              "\n",
              "    <script>\n",
              "      const buttonEl =\n",
              "        document.querySelector('#df-4a70d0b2-2f18-46ad-ab32-ab6362dc9858 button.colab-df-convert');\n",
              "      buttonEl.style.display =\n",
              "        google.colab.kernel.accessAllowed ? 'block' : 'none';\n",
              "\n",
              "      async function convertToInteractive(key) {\n",
              "        const element = document.querySelector('#df-4a70d0b2-2f18-46ad-ab32-ab6362dc9858');\n",
              "        const dataTable =\n",
              "          await google.colab.kernel.invokeFunction('convertToInteractive',\n",
              "                                                    [key], {});\n",
              "        if (!dataTable) return;\n",
              "\n",
              "        const docLinkHtml = 'Like what you see? Visit the ' +\n",
              "          '<a target=\"_blank\" href=https://colab.research.google.com/notebooks/data_table.ipynb>data table notebook</a>'\n",
              "          + ' to learn more about interactive tables.';\n",
              "        element.innerHTML = '';\n",
              "        dataTable['output_type'] = 'display_data';\n",
              "        await google.colab.output.renderOutput(dataTable, element);\n",
              "        const docLink = document.createElement('div');\n",
              "        docLink.innerHTML = docLinkHtml;\n",
              "        element.appendChild(docLink);\n",
              "      }\n",
              "    </script>\n",
              "  </div>\n",
              "\n",
              "\n",
              "<div id=\"df-0f06940f-3cf4-49b3-8f81-017a4f6c1e7f\">\n",
              "  <button class=\"colab-df-quickchart\" onclick=\"quickchart('df-0f06940f-3cf4-49b3-8f81-017a4f6c1e7f')\"\n",
              "            title=\"Suggest charts\"\n",
              "            style=\"display:none;\">\n",
              "\n",
              "<svg xmlns=\"http://www.w3.org/2000/svg\" height=\"24px\"viewBox=\"0 0 24 24\"\n",
              "     width=\"24px\">\n",
              "    <g>\n",
              "        <path d=\"M19 3H5c-1.1 0-2 .9-2 2v14c0 1.1.9 2 2 2h14c1.1 0 2-.9 2-2V5c0-1.1-.9-2-2-2zM9 17H7v-7h2v7zm4 0h-2V7h2v10zm4 0h-2v-4h2v4z\"/>\n",
              "    </g>\n",
              "</svg>\n",
              "  </button>\n",
              "\n",
              "<style>\n",
              "  .colab-df-quickchart {\n",
              "      --bg-color: #E8F0FE;\n",
              "      --fill-color: #1967D2;\n",
              "      --hover-bg-color: #E2EBFA;\n",
              "      --hover-fill-color: #174EA6;\n",
              "      --disabled-fill-color: #AAA;\n",
              "      --disabled-bg-color: #DDD;\n",
              "  }\n",
              "\n",
              "  [theme=dark] .colab-df-quickchart {\n",
              "      --bg-color: #3B4455;\n",
              "      --fill-color: #D2E3FC;\n",
              "      --hover-bg-color: #434B5C;\n",
              "      --hover-fill-color: #FFFFFF;\n",
              "      --disabled-bg-color: #3B4455;\n",
              "      --disabled-fill-color: #666;\n",
              "  }\n",
              "\n",
              "  .colab-df-quickchart {\n",
              "    background-color: var(--bg-color);\n",
              "    border: none;\n",
              "    border-radius: 50%;\n",
              "    cursor: pointer;\n",
              "    display: none;\n",
              "    fill: var(--fill-color);\n",
              "    height: 32px;\n",
              "    padding: 0;\n",
              "    width: 32px;\n",
              "  }\n",
              "\n",
              "  .colab-df-quickchart:hover {\n",
              "    background-color: var(--hover-bg-color);\n",
              "    box-shadow: 0 1px 2px rgba(60, 64, 67, 0.3), 0 1px 3px 1px rgba(60, 64, 67, 0.15);\n",
              "    fill: var(--button-hover-fill-color);\n",
              "  }\n",
              "\n",
              "  .colab-df-quickchart-complete:disabled,\n",
              "  .colab-df-quickchart-complete:disabled:hover {\n",
              "    background-color: var(--disabled-bg-color);\n",
              "    fill: var(--disabled-fill-color);\n",
              "    box-shadow: none;\n",
              "  }\n",
              "\n",
              "  .colab-df-spinner {\n",
              "    border: 2px solid var(--fill-color);\n",
              "    border-color: transparent;\n",
              "    border-bottom-color: var(--fill-color);\n",
              "    animation:\n",
              "      spin 1s steps(1) infinite;\n",
              "  }\n",
              "\n",
              "  @keyframes spin {\n",
              "    0% {\n",
              "      border-color: transparent;\n",
              "      border-bottom-color: var(--fill-color);\n",
              "      border-left-color: var(--fill-color);\n",
              "    }\n",
              "    20% {\n",
              "      border-color: transparent;\n",
              "      border-left-color: var(--fill-color);\n",
              "      border-top-color: var(--fill-color);\n",
              "    }\n",
              "    30% {\n",
              "      border-color: transparent;\n",
              "      border-left-color: var(--fill-color);\n",
              "      border-top-color: var(--fill-color);\n",
              "      border-right-color: var(--fill-color);\n",
              "    }\n",
              "    40% {\n",
              "      border-color: transparent;\n",
              "      border-right-color: var(--fill-color);\n",
              "      border-top-color: var(--fill-color);\n",
              "    }\n",
              "    60% {\n",
              "      border-color: transparent;\n",
              "      border-right-color: var(--fill-color);\n",
              "    }\n",
              "    80% {\n",
              "      border-color: transparent;\n",
              "      border-right-color: var(--fill-color);\n",
              "      border-bottom-color: var(--fill-color);\n",
              "    }\n",
              "    90% {\n",
              "      border-color: transparent;\n",
              "      border-bottom-color: var(--fill-color);\n",
              "    }\n",
              "  }\n",
              "</style>\n",
              "\n",
              "  <script>\n",
              "    async function quickchart(key) {\n",
              "      const quickchartButtonEl =\n",
              "        document.querySelector('#' + key + ' button');\n",
              "      quickchartButtonEl.disabled = true;  // To prevent multiple clicks.\n",
              "      quickchartButtonEl.classList.add('colab-df-spinner');\n",
              "      try {\n",
              "        const charts = await google.colab.kernel.invokeFunction(\n",
              "            'suggestCharts', [key], {});\n",
              "      } catch (error) {\n",
              "        console.error('Error during call to suggestCharts:', error);\n",
              "      }\n",
              "      quickchartButtonEl.classList.remove('colab-df-spinner');\n",
              "      quickchartButtonEl.classList.add('colab-df-quickchart-complete');\n",
              "    }\n",
              "    (() => {\n",
              "      let quickchartButtonEl =\n",
              "        document.querySelector('#df-0f06940f-3cf4-49b3-8f81-017a4f6c1e7f button');\n",
              "      quickchartButtonEl.style.display =\n",
              "        google.colab.kernel.accessAllowed ? 'block' : 'none';\n",
              "    })();\n",
              "  </script>\n",
              "</div>\n",
              "    </div>\n",
              "  </div>\n"
            ],
            "application/vnd.google.colaboratory.intrinsic+json": {
              "type": "dataframe",
              "variable_name": "true_dataset",
              "summary": "{\n  \"name\": \"true_dataset\",\n  \"rows\": 21417,\n  \"fields\": [\n    {\n      \"column\": \"title\",\n      \"properties\": {\n        \"dtype\": \"string\",\n        \"num_unique_values\": 20826,\n        \"samples\": [\n          \"German, Turkish foreign ministers meet after detainee released\",\n          \"Kremlin calls North Korea's latest missile launch another 'provocation'\",\n          \"Transgender soldiers, veterans shaken by Trump's ban on their service\"\n        ],\n        \"semantic_type\": \"\",\n        \"description\": \"\"\n      }\n    },\n    {\n      \"column\": \"text\",\n      \"properties\": {\n        \"dtype\": \"string\",\n        \"num_unique_values\": 21192,\n        \"samples\": [\n          \"WASHINGTON (Reuters) - A majority of the U.S. Senate on Tuesday backed a new round of disaster aid to help Puerto Rico and several states recover from damage from hurricanes and wildfires. The legislation would provide $36.5 billion in emergency relief as Puerto Rico in particular struggles to regain electricity and other basic services following destructive hurricanes. The House of Representatives approved the bill earlier this month. The Trump administration already has indicated it will seek another round of emergency relief from Congress. \",\n          \"BUDAPEST (Reuters) - About a thousand Hungarians protested on Friday against a crackdown on the main opposition party Jobbik which has been  threatened by a record political campaign fine that the party leader describes as a  death sentence  for democracy. Despite the gloomy rhetoric and Jobbik saying it was fighting for survival, support for the demonstration was well down on other similar rallies over the past year. Hungarians will vote for a new parliament in April and Prime Minister Viktor Orban s conservative, anti-migrant Fidesz party is far ahead in the polls, with Jobbik its nearest rival. Jobbik, once on the far right, has turned toward the center in a bid to attract more support and is now campaigning nationwide against Orban, depicting him as the leader of a criminal gang. Orban, rejecting the charges, says his financial standing is  an open book . Last week the state audit office (ASZ) ruled Jobbik had bought political posters far below market prices, breaching rules on political funding, then it slapped a 663 million forint ($2.5 million) penalty on the party. The protesters, waving Jobbik flags and posters deriding the ruling elite, gathered outside the headquarters of Orban s Fidesz party.  What we see unfolding is not an audit office investigation. It is not an official penalty. This is a death sentence with Jobbik s name on it. But in reality, it is a death sentence for Hungarian democracy,  Jobbiik leader Gabor Vona told the crowd. A government spokesman could not comment immediately on his remarks. ASZ chairman Laszlo Domokos is a former Fidesz lawmaker, whom Jobbik and other critics accuse of making decisions in favor of Orban. The audit office denies that. On Friday, ASZ again called on Jobbik to submit information that would challenge its findings, saying it acted fully within its rights throughout the probe. The ruling Fidesz party and the government have denied any involvement in the ASZ probe.  This case has nothing to do with the election campaign,  Orban aide Janos Lazar said on Thursday. For over a year Fidesz has targeted Jobbik, whose move to the center could upend the longstanding status quo of a dominant Fidesz with weaker opponents to its left and its right, said analyst Zoltan Novak at the Centre for Fair Political Analysis. Gyorgy Illes, a 67-year-old pensioner attending the rally, said he used to be a Socialist supporter but got disillusioned as the party struggled to overcome its internal divisions.  This ASZ probe is a clear sign that Orban is way past any remedy. It is a ruthless attack on everything we hold dear. Democracy, the rule of law, equality, you name it,  he said. \",\n          \"BEIJING/TAIPEI (Reuters) - China accused the United States on Thursday of interfering in its internal affairs and said it had lodged a complaint after U.S. President Donald Trump signed into law an act laying the groundwork for possible U.S. navy visits to self-ruled Taiwan. Tensions have risen in recent days after a senior Chinese diplomat threatened China would invade Taiwan if any U.S. warships made port visits to the island which China claims as its own territory. On Monday, Chinese jets carried out  island encirclement patrols  around Taiwan, with state media showing pictures of bombers with cruise missiles slung under their wings as they carried out the exercise. On Tuesday, Trump signed into law the National Defense Authorization Act for the 2018 fiscal year, which authorizes the possibility of mutual visits by navy vessels between Taiwan and the United States. Such visits would be the first since the United States ended formal diplomatic relations with Taiwan in 1979 and established ties with Beijing. Chinese Foreign Ministry spokesman Lu Kang said while the Taiwan sections of the law were not legally binding, they seriously violate the  One China  policy and  constitute an interference in China s internal affairs .   China is resolutely opposed to this, and we have already lodged stern representations with the U.S. government,  Lu told a daily news briefing. China is firmly opposed to any official exchanges, military contact, or arms sales between Taiwan and the United States, he added.  Proudly democratic Taiwan has become increasingly concerned with the ramped up Chinese military presence, that has included several rounds of Chinese air force drills around the island in recent months.  Taiwan is confident of its defenses and responded quickly to the Chinese air force drills this week, its government said, denouncing the rise in China s military deployments as irresponsible. Taiwan presidential spokesman Alex Huang, speaking to Taiwan media in comments reported late on Wednesday, said the defense ministry had kept a close watch on the patrols and responded immediately and properly. Taiwan  can ensure there are no concerns at all about national security, and people can rest assured , Huang said. Both sides of the narrow Taiwan Strait, which separates Taiwan from its giant neighbor, have a responsibility to protect peace and stability, he added.  Such a raised military posture that may impact upon and harm regional peace and stability and cross-strait ties does not give a feeling of responsibility, and the international community does not look favorably upon this,  Huang was quoted as saying. Relations have soured considerably since Tsai Ing-wen, who leads Taiwan s independence-leaning Democratic Progressive Party, won presidential elections last year. China suspects Tsai wants to declare the island s formal independence, a red line for Beijing. Tsai says she wants to maintain peace with China but will defend Taiwan s security. Taiwan is well equipped with mostly U.S. weapons but has been pressing for more advanced equipment to deal with what it sees as a rising threat from China. The United States is bound by law to provide the island with the means to defend itself. China has never renounced the use of force to bring Taiwan under its control. \"\n        ],\n        \"semantic_type\": \"\",\n        \"description\": \"\"\n      }\n    },\n    {\n      \"column\": \"subject\",\n      \"properties\": {\n        \"dtype\": \"category\",\n        \"num_unique_values\": 3,\n        \"samples\": [\n          \"politicsNews\",\n          \" about 37 percent of voters would support Sanders compared with 30 percent for Trump and 8 percent for Bloomberg.  \\\"If Cruz and Clinton win the nominations\",\n          \"worldnews\"\n        ],\n        \"semantic_type\": \"\",\n        \"description\": \"\"\n      }\n    },\n    {\n      \"column\": \"date\",\n      \"properties\": {\n        \"dtype\": \"category\",\n        \"num_unique_values\": 717,\n        \"samples\": [\n          \"2-Sep-17\",\n          \"2-Feb-17\",\n          \"24-Nov-17\"\n        ],\n        \"semantic_type\": \"\",\n        \"description\": \"\"\n      }\n    },\n    {\n      \"column\": \"Unnamed: 4\",\n      \"properties\": {\n        \"dtype\": \"category\",\n        \"num_unique_values\": 1,\n        \"samples\": [\n          \" Trump and Clinton: 37 percent would support Clinton\"\n        ],\n        \"semantic_type\": \"\",\n        \"description\": \"\"\n      }\n    },\n    {\n      \"column\": \"Unnamed: 5\",\n      \"properties\": {\n        \"dtype\": \"category\",\n        \"num_unique_values\": 1,\n        \"samples\": [\n          \" followed by 31 percent for Trump and 9 percent for Bloomberg.  (Editing by Richard Valdmanis and Tom Brown)  SAP is the sponsor of this coverage which is independently produced by the staff of Reuters News Agency.\\\"\"\n        ],\n        \"semantic_type\": \"\",\n        \"description\": \"\"\n      }\n    },\n    {\n      \"column\": \"Unnamed: 6\",\n      \"properties\": {\n        \"dtype\": \"category\",\n        \"num_unique_values\": 1,\n        \"samples\": [\n          \"politicsNews\"\n        ],\n        \"semantic_type\": \"\",\n        \"description\": \"\"\n      }\n    },\n    {\n      \"column\": \"Unnamed: 7\",\n      \"properties\": {\n        \"dtype\": \"date\",\n        \"min\": \"2016-01-28 00:00:00\",\n        \"max\": \"2016-01-28 00:00:00\",\n        \"num_unique_values\": 1,\n        \"samples\": [\n          \"28-Jan-16\"\n        ],\n        \"semantic_type\": \"\",\n        \"description\": \"\"\n      }\n    }\n  ]\n}"
            }
          },
          "metadata": {},
          "execution_count": 17
        }
      ]
    },
    {
      "cell_type": "code",
      "source": [
        "true_dataset.isna().sum()"
      ],
      "metadata": {
        "colab": {
          "base_uri": "https://localhost:8080/"
        },
        "id": "ew5wKyqb13V1",
        "outputId": "dbb0238b-edcb-4447-f631-2b79499d3348"
      },
      "execution_count": null,
      "outputs": [
        {
          "output_type": "execute_result",
          "data": {
            "text/plain": [
              "title             0\n",
              "text              0\n",
              "subject           0\n",
              "date              0\n",
              "Unnamed: 4    21416\n",
              "Unnamed: 5    21416\n",
              "Unnamed: 6    21416\n",
              "Unnamed: 7    21416\n",
              "dtype: int64"
            ]
          },
          "metadata": {},
          "execution_count": 18
        }
      ]
    },
    {
      "cell_type": "markdown",
      "source": [
        "# **Clean and Preprocessing (English Dataset)**"
      ],
      "metadata": {
        "id": "8F_kP0puHApd"
      }
    },
    {
      "cell_type": "code",
      "source": [
        "# labeling The dataset\n",
        "fake_dataset['label'] = 0\n",
        "true_dataset['label'] = 1"
      ],
      "metadata": {
        "id": "SIk7dEuMG4ka"
      },
      "execution_count": null,
      "outputs": []
    },
    {
      "cell_type": "code",
      "source": [
        "# Concatenate datasets\n",
        "en_dataset = pd.concat([fake_dataset,true_dataset],ignore_index=True,sort=False)\n",
        "en_dataset"
      ],
      "metadata": {
        "colab": {
          "base_uri": "https://localhost:8080/",
          "height": 1000
        },
        "id": "gI1jUjzNHHyp",
        "outputId": "7e5474a9-1fb0-4421-b84e-3f4b6538e6dc"
      },
      "execution_count": null,
      "outputs": [
        {
          "output_type": "execute_result",
          "data": {
            "text/plain": [
              "                                                   title  \\\n",
              "0       Donald Trump Sends Out Embarrassing New Yearâ...   \n",
              "1       Drunk Bragging Trump Staffer Started Russian ...   \n",
              "2       Sheriff David Clarke Becomes An Internet Joke...   \n",
              "3       Trump Is So Obsessed He Even Has Obamaâs Na...   \n",
              "4       Pope Francis Just Called Out Donald Trump Dur...   \n",
              "...                                                  ...   \n",
              "44956  'Fully committed' NATO backs new U.S. approach...   \n",
              "44957  LexisNexis withdrew two products from Chinese ...   \n",
              "44958  Minsk cultural hub becomes haven from authorities   \n",
              "44959  Vatican upbeat on possibility of Pope Francis ...   \n",
              "44960  Indonesia to buy $1.14 billion worth of Russia...   \n",
              "\n",
              "                                                    text    subject  \\\n",
              "0      Donald Trump just couldn t wish all Americans ...       News   \n",
              "1      House Intelligence Committee Chairman Devin Nu...       News   \n",
              "2      On Friday, it was revealed that former Milwauk...       News   \n",
              "3      On Christmas day, Donald Trump announced that ...       News   \n",
              "4      Pope Francis used his annual Christmas Day mes...       News   \n",
              "...                                                  ...        ...   \n",
              "44956  BRUSSELS (Reuters) - NATO allies on Tuesday we...  worldnews   \n",
              "44957  LONDON (Reuters) - LexisNexis, a provider of l...  worldnews   \n",
              "44958  MINSK (Reuters) - In the shadow of disused Sov...  worldnews   \n",
              "44959  MOSCOW (Reuters) - Vatican Secretary of State ...  worldnews   \n",
              "44960  JAKARTA (Reuters) - Indonesia will buy 11 Sukh...  worldnews   \n",
              "\n",
              "            date Unnamed: 4 Unnamed: 5 Unnamed: 6 Unnamed: 7 Unnamed: 8  \\\n",
              "0      31-Dec-17        NaN        NaN        NaN        NaN        NaN   \n",
              "1      31-Dec-17        NaN        NaN        NaN        NaN        NaN   \n",
              "2      30-Dec-17        NaN        NaN        NaN        NaN        NaN   \n",
              "3      29-Dec-17        NaN        NaN        NaN        NaN        NaN   \n",
              "4      25-Dec-17        NaN        NaN        NaN        NaN        NaN   \n",
              "...          ...        ...        ...        ...        ...        ...   \n",
              "44956  22-Aug-17        NaN        NaN        NaN        NaN        NaN   \n",
              "44957  22-Aug-17        NaN        NaN        NaN        NaN        NaN   \n",
              "44958  22-Aug-17        NaN        NaN        NaN        NaN        NaN   \n",
              "44959  22-Aug-17        NaN        NaN        NaN        NaN        NaN   \n",
              "44960  22-Aug-17        NaN        NaN        NaN        NaN        NaN   \n",
              "\n",
              "      Unnamed: 9  ... Unnamed: 163 Unnamed: 164 Unnamed: 165 Unnamed: 166  \\\n",
              "0            NaN  ...          NaN          NaN          NaN          NaN   \n",
              "1            NaN  ...          NaN          NaN          NaN          NaN   \n",
              "2            NaN  ...          NaN          NaN          NaN          NaN   \n",
              "3            NaN  ...          NaN          NaN          NaN          NaN   \n",
              "4            NaN  ...          NaN          NaN          NaN          NaN   \n",
              "...          ...  ...          ...          ...          ...          ...   \n",
              "44956        NaN  ...          NaN          NaN          NaN          NaN   \n",
              "44957        NaN  ...          NaN          NaN          NaN          NaN   \n",
              "44958        NaN  ...          NaN          NaN          NaN          NaN   \n",
              "44959        NaN  ...          NaN          NaN          NaN          NaN   \n",
              "44960        NaN  ...          NaN          NaN          NaN          NaN   \n",
              "\n",
              "      Unnamed: 167 Unnamed: 168 Unnamed: 169 Unnamed: 170 Unnamed: 171 label  \n",
              "0              NaN          NaN          NaN          NaN          NaN     0  \n",
              "1              NaN          NaN          NaN          NaN          NaN     0  \n",
              "2              NaN          NaN          NaN          NaN          NaN     0  \n",
              "3              NaN          NaN          NaN          NaN          NaN     0  \n",
              "4              NaN          NaN          NaN          NaN          NaN     0  \n",
              "...            ...          ...          ...          ...          ...   ...  \n",
              "44956          NaN          NaN          NaN          NaN          NaN     1  \n",
              "44957          NaN          NaN          NaN          NaN          NaN     1  \n",
              "44958          NaN          NaN          NaN          NaN          NaN     1  \n",
              "44959          NaN          NaN          NaN          NaN          NaN     1  \n",
              "44960          NaN          NaN          NaN          NaN          NaN     1  \n",
              "\n",
              "[44961 rows x 173 columns]"
            ],
            "text/html": [
              "\n",
              "  <div id=\"df-a1dfbdfd-59e2-481c-b577-ff76b575a834\" class=\"colab-df-container\">\n",
              "    <div>\n",
              "<style scoped>\n",
              "    .dataframe tbody tr th:only-of-type {\n",
              "        vertical-align: middle;\n",
              "    }\n",
              "\n",
              "    .dataframe tbody tr th {\n",
              "        vertical-align: top;\n",
              "    }\n",
              "\n",
              "    .dataframe thead th {\n",
              "        text-align: right;\n",
              "    }\n",
              "</style>\n",
              "<table border=\"1\" class=\"dataframe\">\n",
              "  <thead>\n",
              "    <tr style=\"text-align: right;\">\n",
              "      <th></th>\n",
              "      <th>title</th>\n",
              "      <th>text</th>\n",
              "      <th>subject</th>\n",
              "      <th>date</th>\n",
              "      <th>Unnamed: 4</th>\n",
              "      <th>Unnamed: 5</th>\n",
              "      <th>Unnamed: 6</th>\n",
              "      <th>Unnamed: 7</th>\n",
              "      <th>Unnamed: 8</th>\n",
              "      <th>Unnamed: 9</th>\n",
              "      <th>...</th>\n",
              "      <th>Unnamed: 163</th>\n",
              "      <th>Unnamed: 164</th>\n",
              "      <th>Unnamed: 165</th>\n",
              "      <th>Unnamed: 166</th>\n",
              "      <th>Unnamed: 167</th>\n",
              "      <th>Unnamed: 168</th>\n",
              "      <th>Unnamed: 169</th>\n",
              "      <th>Unnamed: 170</th>\n",
              "      <th>Unnamed: 171</th>\n",
              "      <th>label</th>\n",
              "    </tr>\n",
              "  </thead>\n",
              "  <tbody>\n",
              "    <tr>\n",
              "      <th>0</th>\n",
              "      <td>Donald Trump Sends Out Embarrassing New Yearâ...</td>\n",
              "      <td>Donald Trump just couldn t wish all Americans ...</td>\n",
              "      <td>News</td>\n",
              "      <td>31-Dec-17</td>\n",
              "      <td>NaN</td>\n",
              "      <td>NaN</td>\n",
              "      <td>NaN</td>\n",
              "      <td>NaN</td>\n",
              "      <td>NaN</td>\n",
              "      <td>NaN</td>\n",
              "      <td>...</td>\n",
              "      <td>NaN</td>\n",
              "      <td>NaN</td>\n",
              "      <td>NaN</td>\n",
              "      <td>NaN</td>\n",
              "      <td>NaN</td>\n",
              "      <td>NaN</td>\n",
              "      <td>NaN</td>\n",
              "      <td>NaN</td>\n",
              "      <td>NaN</td>\n",
              "      <td>0</td>\n",
              "    </tr>\n",
              "    <tr>\n",
              "      <th>1</th>\n",
              "      <td>Drunk Bragging Trump Staffer Started Russian ...</td>\n",
              "      <td>House Intelligence Committee Chairman Devin Nu...</td>\n",
              "      <td>News</td>\n",
              "      <td>31-Dec-17</td>\n",
              "      <td>NaN</td>\n",
              "      <td>NaN</td>\n",
              "      <td>NaN</td>\n",
              "      <td>NaN</td>\n",
              "      <td>NaN</td>\n",
              "      <td>NaN</td>\n",
              "      <td>...</td>\n",
              "      <td>NaN</td>\n",
              "      <td>NaN</td>\n",
              "      <td>NaN</td>\n",
              "      <td>NaN</td>\n",
              "      <td>NaN</td>\n",
              "      <td>NaN</td>\n",
              "      <td>NaN</td>\n",
              "      <td>NaN</td>\n",
              "      <td>NaN</td>\n",
              "      <td>0</td>\n",
              "    </tr>\n",
              "    <tr>\n",
              "      <th>2</th>\n",
              "      <td>Sheriff David Clarke Becomes An Internet Joke...</td>\n",
              "      <td>On Friday, it was revealed that former Milwauk...</td>\n",
              "      <td>News</td>\n",
              "      <td>30-Dec-17</td>\n",
              "      <td>NaN</td>\n",
              "      <td>NaN</td>\n",
              "      <td>NaN</td>\n",
              "      <td>NaN</td>\n",
              "      <td>NaN</td>\n",
              "      <td>NaN</td>\n",
              "      <td>...</td>\n",
              "      <td>NaN</td>\n",
              "      <td>NaN</td>\n",
              "      <td>NaN</td>\n",
              "      <td>NaN</td>\n",
              "      <td>NaN</td>\n",
              "      <td>NaN</td>\n",
              "      <td>NaN</td>\n",
              "      <td>NaN</td>\n",
              "      <td>NaN</td>\n",
              "      <td>0</td>\n",
              "    </tr>\n",
              "    <tr>\n",
              "      <th>3</th>\n",
              "      <td>Trump Is So Obsessed He Even Has Obamaâs Na...</td>\n",
              "      <td>On Christmas day, Donald Trump announced that ...</td>\n",
              "      <td>News</td>\n",
              "      <td>29-Dec-17</td>\n",
              "      <td>NaN</td>\n",
              "      <td>NaN</td>\n",
              "      <td>NaN</td>\n",
              "      <td>NaN</td>\n",
              "      <td>NaN</td>\n",
              "      <td>NaN</td>\n",
              "      <td>...</td>\n",
              "      <td>NaN</td>\n",
              "      <td>NaN</td>\n",
              "      <td>NaN</td>\n",
              "      <td>NaN</td>\n",
              "      <td>NaN</td>\n",
              "      <td>NaN</td>\n",
              "      <td>NaN</td>\n",
              "      <td>NaN</td>\n",
              "      <td>NaN</td>\n",
              "      <td>0</td>\n",
              "    </tr>\n",
              "    <tr>\n",
              "      <th>4</th>\n",
              "      <td>Pope Francis Just Called Out Donald Trump Dur...</td>\n",
              "      <td>Pope Francis used his annual Christmas Day mes...</td>\n",
              "      <td>News</td>\n",
              "      <td>25-Dec-17</td>\n",
              "      <td>NaN</td>\n",
              "      <td>NaN</td>\n",
              "      <td>NaN</td>\n",
              "      <td>NaN</td>\n",
              "      <td>NaN</td>\n",
              "      <td>NaN</td>\n",
              "      <td>...</td>\n",
              "      <td>NaN</td>\n",
              "      <td>NaN</td>\n",
              "      <td>NaN</td>\n",
              "      <td>NaN</td>\n",
              "      <td>NaN</td>\n",
              "      <td>NaN</td>\n",
              "      <td>NaN</td>\n",
              "      <td>NaN</td>\n",
              "      <td>NaN</td>\n",
              "      <td>0</td>\n",
              "    </tr>\n",
              "    <tr>\n",
              "      <th>...</th>\n",
              "      <td>...</td>\n",
              "      <td>...</td>\n",
              "      <td>...</td>\n",
              "      <td>...</td>\n",
              "      <td>...</td>\n",
              "      <td>...</td>\n",
              "      <td>...</td>\n",
              "      <td>...</td>\n",
              "      <td>...</td>\n",
              "      <td>...</td>\n",
              "      <td>...</td>\n",
              "      <td>...</td>\n",
              "      <td>...</td>\n",
              "      <td>...</td>\n",
              "      <td>...</td>\n",
              "      <td>...</td>\n",
              "      <td>...</td>\n",
              "      <td>...</td>\n",
              "      <td>...</td>\n",
              "      <td>...</td>\n",
              "      <td>...</td>\n",
              "    </tr>\n",
              "    <tr>\n",
              "      <th>44956</th>\n",
              "      <td>'Fully committed' NATO backs new U.S. approach...</td>\n",
              "      <td>BRUSSELS (Reuters) - NATO allies on Tuesday we...</td>\n",
              "      <td>worldnews</td>\n",
              "      <td>22-Aug-17</td>\n",
              "      <td>NaN</td>\n",
              "      <td>NaN</td>\n",
              "      <td>NaN</td>\n",
              "      <td>NaN</td>\n",
              "      <td>NaN</td>\n",
              "      <td>NaN</td>\n",
              "      <td>...</td>\n",
              "      <td>NaN</td>\n",
              "      <td>NaN</td>\n",
              "      <td>NaN</td>\n",
              "      <td>NaN</td>\n",
              "      <td>NaN</td>\n",
              "      <td>NaN</td>\n",
              "      <td>NaN</td>\n",
              "      <td>NaN</td>\n",
              "      <td>NaN</td>\n",
              "      <td>1</td>\n",
              "    </tr>\n",
              "    <tr>\n",
              "      <th>44957</th>\n",
              "      <td>LexisNexis withdrew two products from Chinese ...</td>\n",
              "      <td>LONDON (Reuters) - LexisNexis, a provider of l...</td>\n",
              "      <td>worldnews</td>\n",
              "      <td>22-Aug-17</td>\n",
              "      <td>NaN</td>\n",
              "      <td>NaN</td>\n",
              "      <td>NaN</td>\n",
              "      <td>NaN</td>\n",
              "      <td>NaN</td>\n",
              "      <td>NaN</td>\n",
              "      <td>...</td>\n",
              "      <td>NaN</td>\n",
              "      <td>NaN</td>\n",
              "      <td>NaN</td>\n",
              "      <td>NaN</td>\n",
              "      <td>NaN</td>\n",
              "      <td>NaN</td>\n",
              "      <td>NaN</td>\n",
              "      <td>NaN</td>\n",
              "      <td>NaN</td>\n",
              "      <td>1</td>\n",
              "    </tr>\n",
              "    <tr>\n",
              "      <th>44958</th>\n",
              "      <td>Minsk cultural hub becomes haven from authorities</td>\n",
              "      <td>MINSK (Reuters) - In the shadow of disused Sov...</td>\n",
              "      <td>worldnews</td>\n",
              "      <td>22-Aug-17</td>\n",
              "      <td>NaN</td>\n",
              "      <td>NaN</td>\n",
              "      <td>NaN</td>\n",
              "      <td>NaN</td>\n",
              "      <td>NaN</td>\n",
              "      <td>NaN</td>\n",
              "      <td>...</td>\n",
              "      <td>NaN</td>\n",
              "      <td>NaN</td>\n",
              "      <td>NaN</td>\n",
              "      <td>NaN</td>\n",
              "      <td>NaN</td>\n",
              "      <td>NaN</td>\n",
              "      <td>NaN</td>\n",
              "      <td>NaN</td>\n",
              "      <td>NaN</td>\n",
              "      <td>1</td>\n",
              "    </tr>\n",
              "    <tr>\n",
              "      <th>44959</th>\n",
              "      <td>Vatican upbeat on possibility of Pope Francis ...</td>\n",
              "      <td>MOSCOW (Reuters) - Vatican Secretary of State ...</td>\n",
              "      <td>worldnews</td>\n",
              "      <td>22-Aug-17</td>\n",
              "      <td>NaN</td>\n",
              "      <td>NaN</td>\n",
              "      <td>NaN</td>\n",
              "      <td>NaN</td>\n",
              "      <td>NaN</td>\n",
              "      <td>NaN</td>\n",
              "      <td>...</td>\n",
              "      <td>NaN</td>\n",
              "      <td>NaN</td>\n",
              "      <td>NaN</td>\n",
              "      <td>NaN</td>\n",
              "      <td>NaN</td>\n",
              "      <td>NaN</td>\n",
              "      <td>NaN</td>\n",
              "      <td>NaN</td>\n",
              "      <td>NaN</td>\n",
              "      <td>1</td>\n",
              "    </tr>\n",
              "    <tr>\n",
              "      <th>44960</th>\n",
              "      <td>Indonesia to buy $1.14 billion worth of Russia...</td>\n",
              "      <td>JAKARTA (Reuters) - Indonesia will buy 11 Sukh...</td>\n",
              "      <td>worldnews</td>\n",
              "      <td>22-Aug-17</td>\n",
              "      <td>NaN</td>\n",
              "      <td>NaN</td>\n",
              "      <td>NaN</td>\n",
              "      <td>NaN</td>\n",
              "      <td>NaN</td>\n",
              "      <td>NaN</td>\n",
              "      <td>...</td>\n",
              "      <td>NaN</td>\n",
              "      <td>NaN</td>\n",
              "      <td>NaN</td>\n",
              "      <td>NaN</td>\n",
              "      <td>NaN</td>\n",
              "      <td>NaN</td>\n",
              "      <td>NaN</td>\n",
              "      <td>NaN</td>\n",
              "      <td>NaN</td>\n",
              "      <td>1</td>\n",
              "    </tr>\n",
              "  </tbody>\n",
              "</table>\n",
              "<p>44961 rows × 173 columns</p>\n",
              "</div>\n",
              "    <div class=\"colab-df-buttons\">\n",
              "\n",
              "  <div class=\"colab-df-container\">\n",
              "    <button class=\"colab-df-convert\" onclick=\"convertToInteractive('df-a1dfbdfd-59e2-481c-b577-ff76b575a834')\"\n",
              "            title=\"Convert this dataframe to an interactive table.\"\n",
              "            style=\"display:none;\">\n",
              "\n",
              "  <svg xmlns=\"http://www.w3.org/2000/svg\" height=\"24px\" viewBox=\"0 -960 960 960\">\n",
              "    <path d=\"M120-120v-720h720v720H120Zm60-500h600v-160H180v160Zm220 220h160v-160H400v160Zm0 220h160v-160H400v160ZM180-400h160v-160H180v160Zm440 0h160v-160H620v160ZM180-180h160v-160H180v160Zm440 0h160v-160H620v160Z\"/>\n",
              "  </svg>\n",
              "    </button>\n",
              "\n",
              "  <style>\n",
              "    .colab-df-container {\n",
              "      display:flex;\n",
              "      gap: 12px;\n",
              "    }\n",
              "\n",
              "    .colab-df-convert {\n",
              "      background-color: #E8F0FE;\n",
              "      border: none;\n",
              "      border-radius: 50%;\n",
              "      cursor: pointer;\n",
              "      display: none;\n",
              "      fill: #1967D2;\n",
              "      height: 32px;\n",
              "      padding: 0 0 0 0;\n",
              "      width: 32px;\n",
              "    }\n",
              "\n",
              "    .colab-df-convert:hover {\n",
              "      background-color: #E2EBFA;\n",
              "      box-shadow: 0px 1px 2px rgba(60, 64, 67, 0.3), 0px 1px 3px 1px rgba(60, 64, 67, 0.15);\n",
              "      fill: #174EA6;\n",
              "    }\n",
              "\n",
              "    .colab-df-buttons div {\n",
              "      margin-bottom: 4px;\n",
              "    }\n",
              "\n",
              "    [theme=dark] .colab-df-convert {\n",
              "      background-color: #3B4455;\n",
              "      fill: #D2E3FC;\n",
              "    }\n",
              "\n",
              "    [theme=dark] .colab-df-convert:hover {\n",
              "      background-color: #434B5C;\n",
              "      box-shadow: 0px 1px 3px 1px rgba(0, 0, 0, 0.15);\n",
              "      filter: drop-shadow(0px 1px 2px rgba(0, 0, 0, 0.3));\n",
              "      fill: #FFFFFF;\n",
              "    }\n",
              "  </style>\n",
              "\n",
              "    <script>\n",
              "      const buttonEl =\n",
              "        document.querySelector('#df-a1dfbdfd-59e2-481c-b577-ff76b575a834 button.colab-df-convert');\n",
              "      buttonEl.style.display =\n",
              "        google.colab.kernel.accessAllowed ? 'block' : 'none';\n",
              "\n",
              "      async function convertToInteractive(key) {\n",
              "        const element = document.querySelector('#df-a1dfbdfd-59e2-481c-b577-ff76b575a834');\n",
              "        const dataTable =\n",
              "          await google.colab.kernel.invokeFunction('convertToInteractive',\n",
              "                                                    [key], {});\n",
              "        if (!dataTable) return;\n",
              "\n",
              "        const docLinkHtml = 'Like what you see? Visit the ' +\n",
              "          '<a target=\"_blank\" href=https://colab.research.google.com/notebooks/data_table.ipynb>data table notebook</a>'\n",
              "          + ' to learn more about interactive tables.';\n",
              "        element.innerHTML = '';\n",
              "        dataTable['output_type'] = 'display_data';\n",
              "        await google.colab.output.renderOutput(dataTable, element);\n",
              "        const docLink = document.createElement('div');\n",
              "        docLink.innerHTML = docLinkHtml;\n",
              "        element.appendChild(docLink);\n",
              "      }\n",
              "    </script>\n",
              "  </div>\n",
              "\n",
              "\n",
              "<div id=\"df-ef245ac9-172a-405f-983a-232e3ef723c0\">\n",
              "  <button class=\"colab-df-quickchart\" onclick=\"quickchart('df-ef245ac9-172a-405f-983a-232e3ef723c0')\"\n",
              "            title=\"Suggest charts\"\n",
              "            style=\"display:none;\">\n",
              "\n",
              "<svg xmlns=\"http://www.w3.org/2000/svg\" height=\"24px\"viewBox=\"0 0 24 24\"\n",
              "     width=\"24px\">\n",
              "    <g>\n",
              "        <path d=\"M19 3H5c-1.1 0-2 .9-2 2v14c0 1.1.9 2 2 2h14c1.1 0 2-.9 2-2V5c0-1.1-.9-2-2-2zM9 17H7v-7h2v7zm4 0h-2V7h2v10zm4 0h-2v-4h2v4z\"/>\n",
              "    </g>\n",
              "</svg>\n",
              "  </button>\n",
              "\n",
              "<style>\n",
              "  .colab-df-quickchart {\n",
              "      --bg-color: #E8F0FE;\n",
              "      --fill-color: #1967D2;\n",
              "      --hover-bg-color: #E2EBFA;\n",
              "      --hover-fill-color: #174EA6;\n",
              "      --disabled-fill-color: #AAA;\n",
              "      --disabled-bg-color: #DDD;\n",
              "  }\n",
              "\n",
              "  [theme=dark] .colab-df-quickchart {\n",
              "      --bg-color: #3B4455;\n",
              "      --fill-color: #D2E3FC;\n",
              "      --hover-bg-color: #434B5C;\n",
              "      --hover-fill-color: #FFFFFF;\n",
              "      --disabled-bg-color: #3B4455;\n",
              "      --disabled-fill-color: #666;\n",
              "  }\n",
              "\n",
              "  .colab-df-quickchart {\n",
              "    background-color: var(--bg-color);\n",
              "    border: none;\n",
              "    border-radius: 50%;\n",
              "    cursor: pointer;\n",
              "    display: none;\n",
              "    fill: var(--fill-color);\n",
              "    height: 32px;\n",
              "    padding: 0;\n",
              "    width: 32px;\n",
              "  }\n",
              "\n",
              "  .colab-df-quickchart:hover {\n",
              "    background-color: var(--hover-bg-color);\n",
              "    box-shadow: 0 1px 2px rgba(60, 64, 67, 0.3), 0 1px 3px 1px rgba(60, 64, 67, 0.15);\n",
              "    fill: var(--button-hover-fill-color);\n",
              "  }\n",
              "\n",
              "  .colab-df-quickchart-complete:disabled,\n",
              "  .colab-df-quickchart-complete:disabled:hover {\n",
              "    background-color: var(--disabled-bg-color);\n",
              "    fill: var(--disabled-fill-color);\n",
              "    box-shadow: none;\n",
              "  }\n",
              "\n",
              "  .colab-df-spinner {\n",
              "    border: 2px solid var(--fill-color);\n",
              "    border-color: transparent;\n",
              "    border-bottom-color: var(--fill-color);\n",
              "    animation:\n",
              "      spin 1s steps(1) infinite;\n",
              "  }\n",
              "\n",
              "  @keyframes spin {\n",
              "    0% {\n",
              "      border-color: transparent;\n",
              "      border-bottom-color: var(--fill-color);\n",
              "      border-left-color: var(--fill-color);\n",
              "    }\n",
              "    20% {\n",
              "      border-color: transparent;\n",
              "      border-left-color: var(--fill-color);\n",
              "      border-top-color: var(--fill-color);\n",
              "    }\n",
              "    30% {\n",
              "      border-color: transparent;\n",
              "      border-left-color: var(--fill-color);\n",
              "      border-top-color: var(--fill-color);\n",
              "      border-right-color: var(--fill-color);\n",
              "    }\n",
              "    40% {\n",
              "      border-color: transparent;\n",
              "      border-right-color: var(--fill-color);\n",
              "      border-top-color: var(--fill-color);\n",
              "    }\n",
              "    60% {\n",
              "      border-color: transparent;\n",
              "      border-right-color: var(--fill-color);\n",
              "    }\n",
              "    80% {\n",
              "      border-color: transparent;\n",
              "      border-right-color: var(--fill-color);\n",
              "      border-bottom-color: var(--fill-color);\n",
              "    }\n",
              "    90% {\n",
              "      border-color: transparent;\n",
              "      border-bottom-color: var(--fill-color);\n",
              "    }\n",
              "  }\n",
              "</style>\n",
              "\n",
              "  <script>\n",
              "    async function quickchart(key) {\n",
              "      const quickchartButtonEl =\n",
              "        document.querySelector('#' + key + ' button');\n",
              "      quickchartButtonEl.disabled = true;  // To prevent multiple clicks.\n",
              "      quickchartButtonEl.classList.add('colab-df-spinner');\n",
              "      try {\n",
              "        const charts = await google.colab.kernel.invokeFunction(\n",
              "            'suggestCharts', [key], {});\n",
              "      } catch (error) {\n",
              "        console.error('Error during call to suggestCharts:', error);\n",
              "      }\n",
              "      quickchartButtonEl.classList.remove('colab-df-spinner');\n",
              "      quickchartButtonEl.classList.add('colab-df-quickchart-complete');\n",
              "    }\n",
              "    (() => {\n",
              "      let quickchartButtonEl =\n",
              "        document.querySelector('#df-ef245ac9-172a-405f-983a-232e3ef723c0 button');\n",
              "      quickchartButtonEl.style.display =\n",
              "        google.colab.kernel.accessAllowed ? 'block' : 'none';\n",
              "    })();\n",
              "  </script>\n",
              "</div>\n",
              "    </div>\n",
              "  </div>\n"
            ],
            "application/vnd.google.colaboratory.intrinsic+json": {
              "type": "dataframe",
              "variable_name": "en_dataset"
            }
          },
          "metadata": {},
          "execution_count": 20
        }
      ]
    },
    {
      "cell_type": "code",
      "source": [
        "# combine title with text\n",
        "en_dataset['text'] = en_dataset['title'] + en_dataset['text']\n",
        "en_dataset.drop(['title'], axis=1, inplace=True)"
      ],
      "metadata": {
        "id": "ntp7_es2HK25"
      },
      "execution_count": null,
      "outputs": []
    },
    {
      "cell_type": "code",
      "source": [
        "en_dataset.head(1)"
      ],
      "metadata": {
        "colab": {
          "base_uri": "https://localhost:8080/",
          "height": 217
        },
        "id": "vV8C-_sLIe7m",
        "outputId": "2168445e-eb64-4092-dca1-6d94e50e430a"
      },
      "execution_count": null,
      "outputs": [
        {
          "output_type": "execute_result",
          "data": {
            "text/plain": [
              "                                                text subject       date  \\\n",
              "0   Donald Trump Sends Out Embarrassing New Yearâ...    News  31-Dec-17   \n",
              "\n",
              "  Unnamed: 4 Unnamed: 5 Unnamed: 6 Unnamed: 7 Unnamed: 8 Unnamed: 9  \\\n",
              "0        NaN        NaN        NaN        NaN        NaN        NaN   \n",
              "\n",
              "  Unnamed: 10  ... Unnamed: 163 Unnamed: 164 Unnamed: 165 Unnamed: 166  \\\n",
              "0         NaN  ...          NaN          NaN          NaN          NaN   \n",
              "\n",
              "  Unnamed: 167 Unnamed: 168 Unnamed: 169 Unnamed: 170 Unnamed: 171 label  \n",
              "0          NaN          NaN          NaN          NaN          NaN     0  \n",
              "\n",
              "[1 rows x 172 columns]"
            ],
            "text/html": [
              "\n",
              "  <div id=\"df-b9598ac5-1c7f-451c-b198-d50e4096a087\" class=\"colab-df-container\">\n",
              "    <div>\n",
              "<style scoped>\n",
              "    .dataframe tbody tr th:only-of-type {\n",
              "        vertical-align: middle;\n",
              "    }\n",
              "\n",
              "    .dataframe tbody tr th {\n",
              "        vertical-align: top;\n",
              "    }\n",
              "\n",
              "    .dataframe thead th {\n",
              "        text-align: right;\n",
              "    }\n",
              "</style>\n",
              "<table border=\"1\" class=\"dataframe\">\n",
              "  <thead>\n",
              "    <tr style=\"text-align: right;\">\n",
              "      <th></th>\n",
              "      <th>text</th>\n",
              "      <th>subject</th>\n",
              "      <th>date</th>\n",
              "      <th>Unnamed: 4</th>\n",
              "      <th>Unnamed: 5</th>\n",
              "      <th>Unnamed: 6</th>\n",
              "      <th>Unnamed: 7</th>\n",
              "      <th>Unnamed: 8</th>\n",
              "      <th>Unnamed: 9</th>\n",
              "      <th>Unnamed: 10</th>\n",
              "      <th>...</th>\n",
              "      <th>Unnamed: 163</th>\n",
              "      <th>Unnamed: 164</th>\n",
              "      <th>Unnamed: 165</th>\n",
              "      <th>Unnamed: 166</th>\n",
              "      <th>Unnamed: 167</th>\n",
              "      <th>Unnamed: 168</th>\n",
              "      <th>Unnamed: 169</th>\n",
              "      <th>Unnamed: 170</th>\n",
              "      <th>Unnamed: 171</th>\n",
              "      <th>label</th>\n",
              "    </tr>\n",
              "  </thead>\n",
              "  <tbody>\n",
              "    <tr>\n",
              "      <th>0</th>\n",
              "      <td>Donald Trump Sends Out Embarrassing New Yearâ...</td>\n",
              "      <td>News</td>\n",
              "      <td>31-Dec-17</td>\n",
              "      <td>NaN</td>\n",
              "      <td>NaN</td>\n",
              "      <td>NaN</td>\n",
              "      <td>NaN</td>\n",
              "      <td>NaN</td>\n",
              "      <td>NaN</td>\n",
              "      <td>NaN</td>\n",
              "      <td>...</td>\n",
              "      <td>NaN</td>\n",
              "      <td>NaN</td>\n",
              "      <td>NaN</td>\n",
              "      <td>NaN</td>\n",
              "      <td>NaN</td>\n",
              "      <td>NaN</td>\n",
              "      <td>NaN</td>\n",
              "      <td>NaN</td>\n",
              "      <td>NaN</td>\n",
              "      <td>0</td>\n",
              "    </tr>\n",
              "  </tbody>\n",
              "</table>\n",
              "<p>1 rows × 172 columns</p>\n",
              "</div>\n",
              "    <div class=\"colab-df-buttons\">\n",
              "\n",
              "  <div class=\"colab-df-container\">\n",
              "    <button class=\"colab-df-convert\" onclick=\"convertToInteractive('df-b9598ac5-1c7f-451c-b198-d50e4096a087')\"\n",
              "            title=\"Convert this dataframe to an interactive table.\"\n",
              "            style=\"display:none;\">\n",
              "\n",
              "  <svg xmlns=\"http://www.w3.org/2000/svg\" height=\"24px\" viewBox=\"0 -960 960 960\">\n",
              "    <path d=\"M120-120v-720h720v720H120Zm60-500h600v-160H180v160Zm220 220h160v-160H400v160Zm0 220h160v-160H400v160ZM180-400h160v-160H180v160Zm440 0h160v-160H620v160ZM180-180h160v-160H180v160Zm440 0h160v-160H620v160Z\"/>\n",
              "  </svg>\n",
              "    </button>\n",
              "\n",
              "  <style>\n",
              "    .colab-df-container {\n",
              "      display:flex;\n",
              "      gap: 12px;\n",
              "    }\n",
              "\n",
              "    .colab-df-convert {\n",
              "      background-color: #E8F0FE;\n",
              "      border: none;\n",
              "      border-radius: 50%;\n",
              "      cursor: pointer;\n",
              "      display: none;\n",
              "      fill: #1967D2;\n",
              "      height: 32px;\n",
              "      padding: 0 0 0 0;\n",
              "      width: 32px;\n",
              "    }\n",
              "\n",
              "    .colab-df-convert:hover {\n",
              "      background-color: #E2EBFA;\n",
              "      box-shadow: 0px 1px 2px rgba(60, 64, 67, 0.3), 0px 1px 3px 1px rgba(60, 64, 67, 0.15);\n",
              "      fill: #174EA6;\n",
              "    }\n",
              "\n",
              "    .colab-df-buttons div {\n",
              "      margin-bottom: 4px;\n",
              "    }\n",
              "\n",
              "    [theme=dark] .colab-df-convert {\n",
              "      background-color: #3B4455;\n",
              "      fill: #D2E3FC;\n",
              "    }\n",
              "\n",
              "    [theme=dark] .colab-df-convert:hover {\n",
              "      background-color: #434B5C;\n",
              "      box-shadow: 0px 1px 3px 1px rgba(0, 0, 0, 0.15);\n",
              "      filter: drop-shadow(0px 1px 2px rgba(0, 0, 0, 0.3));\n",
              "      fill: #FFFFFF;\n",
              "    }\n",
              "  </style>\n",
              "\n",
              "    <script>\n",
              "      const buttonEl =\n",
              "        document.querySelector('#df-b9598ac5-1c7f-451c-b198-d50e4096a087 button.colab-df-convert');\n",
              "      buttonEl.style.display =\n",
              "        google.colab.kernel.accessAllowed ? 'block' : 'none';\n",
              "\n",
              "      async function convertToInteractive(key) {\n",
              "        const element = document.querySelector('#df-b9598ac5-1c7f-451c-b198-d50e4096a087');\n",
              "        const dataTable =\n",
              "          await google.colab.kernel.invokeFunction('convertToInteractive',\n",
              "                                                    [key], {});\n",
              "        if (!dataTable) return;\n",
              "\n",
              "        const docLinkHtml = 'Like what you see? Visit the ' +\n",
              "          '<a target=\"_blank\" href=https://colab.research.google.com/notebooks/data_table.ipynb>data table notebook</a>'\n",
              "          + ' to learn more about interactive tables.';\n",
              "        element.innerHTML = '';\n",
              "        dataTable['output_type'] = 'display_data';\n",
              "        await google.colab.output.renderOutput(dataTable, element);\n",
              "        const docLink = document.createElement('div');\n",
              "        docLink.innerHTML = docLinkHtml;\n",
              "        element.appendChild(docLink);\n",
              "      }\n",
              "    </script>\n",
              "  </div>\n",
              "\n",
              "    </div>\n",
              "  </div>\n"
            ],
            "application/vnd.google.colaboratory.intrinsic+json": {
              "type": "dataframe",
              "variable_name": "en_dataset"
            }
          },
          "metadata": {},
          "execution_count": 22
        }
      ]
    },
    {
      "cell_type": "markdown",
      "source": [
        "# **Explore Arabic Dataset**"
      ],
      "metadata": {
        "id": "D8xeOCr72cqf"
      }
    },
    {
      "cell_type": "code",
      "source": [
        "print(len(title))\n",
        "print(len(text))\n",
        "print(len(label))"
      ],
      "metadata": {
        "colab": {
          "base_uri": "https://localhost:8080/"
        },
        "id": "TJflmxdH19Og",
        "outputId": "8e7eb88f-2ad6-4d29-d004-903a88571cda"
      },
      "execution_count": null,
      "outputs": [
        {
          "output_type": "stream",
          "name": "stdout",
          "text": [
            "374543\n",
            "374543\n",
            "374543\n"
          ]
        }
      ]
    },
    {
      "cell_type": "code",
      "source": [
        "text[0]"
      ],
      "metadata": {
        "colab": {
          "base_uri": "https://localhost:8080/",
          "height": 105
        },
        "id": "z1g6A64L9L8C",
        "outputId": "d3a6d625-e3be-406e-b565-1bf19ab9fe54"
      },
      "execution_count": null,
      "outputs": [
        {
          "output_type": "execute_result",
          "data": {
            "text/plain": [
              "'يخوض المنتخب الوطني المغربي لكرة القدم لأقل من 20 سنة، ما بين 24 و28 ماي الجاري تجمعا إعداديا مغلقا بمركب محمد السادس لكرة القدم بالمعمورة.\\n\\nوذكر بلاغ للجامعة الملكية المغربية لكرة القدم، أن هذا التجمع الاعدادي يدخل في إطار استعدادات النخبة الوطنية للمشاركة في البطولة العربية التي ستحتضنها مصر في الفترة المتراوحة ما بين 19 يونيو و3 يوليوز 2021.\\n\\nولهذا الغرض، وجه السيد فتحي جمال، المشرف العام على المنتخب الوطني الدعوة إلى 24 لاعبا ويتعلق الأمر بكل من :\\n\\n1- عبد الله بنتيك ......... أكاديمية محمد السادس\\n\\n2- اسماعيل لغزالي ..... أكاديمية محمد السادس\\n\\n3- أنس نناح ............... أكاديمية محمد السادس\\n\\n4- محمد أمين السهل .. أكاديمية محمد السادس\\n\\n5- حسن أكبوب ........... أكاديمية محمد السادس\\n\\n6- عمر صادق .............. أكاديمية محمد السادس\\n\\n7- عثمان شرايبي ........ أكاديمية محمد السادس\\n\\n8- محمد راديد ............. أكاديمية محمد السادس\\n\\n9- بدر أوهامي ............. النسمة السطاتية\\n\\n10- عبد اللطيف المتطوع .... شباب الصخور السوداء\\n\\n11- حسام بولاينين ........... الجيش الملكي\\n\\n12- نوفل طاهيري ............ الجيش الملكي\\n\\n13- أشرف لعزيري ........... الفتح الرياضي\\n\\n14- مختار فريطس ........... الفتح الرياضي\\n\\n15- المهدي موهوب ........ الفتح الرياضي\\n\\n16- محمد كاسو ............. أولمبيك خريبكة\\n\\n17- أنس عزيز ................ أولمبيك الدشيرة\\n\\n18- حاتم السواح ............ الرجاء الرياضي\\n\\n19- عبد الله أزرور............. الرجاء الرياضي\\n\\n20- حمزة ولد الحاج ........ نهضة بركان\\n\\n21- محمد مجاهيد .......... نهضة بركان\\n\\n22- حمزة بارودي ........... نهضة بركان\\n\\n23- ريان سيدي أحمد ..... اتحاد تواركة\\n\\n24- نسيم زيبوك ............وداد فاس'"
            ],
            "application/vnd.google.colaboratory.intrinsic+json": {
              "type": "string"
            }
          },
          "metadata": {},
          "execution_count": 24
        }
      ]
    },
    {
      "cell_type": "code",
      "source": [
        "title[0]"
      ],
      "metadata": {
        "colab": {
          "base_uri": "https://localhost:8080/",
          "height": 36
        },
        "id": "Rsb_LUigGcPt",
        "outputId": "d16eb344-9689-4fb0-abcc-60cbbf031b4d"
      },
      "execution_count": null,
      "outputs": [
        {
          "output_type": "execute_result",
          "data": {
            "text/plain": [
              "'المنتخب الوطني المغربي لأقل من 20 سنة يخوض تجمعا اعداديا بالمعمورة'"
            ],
            "application/vnd.google.colaboratory.intrinsic+json": {
              "type": "string"
            }
          },
          "metadata": {},
          "execution_count": 25
        }
      ]
    },
    {
      "cell_type": "code",
      "source": [
        "ar_dataset = pd.DataFrame({'title':title,'text':text,'label':label})"
      ],
      "metadata": {
        "id": "OWDNfeYtGhKD"
      },
      "execution_count": null,
      "outputs": []
    },
    {
      "cell_type": "code",
      "source": [
        "ar_dataset.head()"
      ],
      "metadata": {
        "colab": {
          "base_uri": "https://localhost:8080/",
          "height": 206
        },
        "id": "Nnx2XXq-GoLY",
        "outputId": "fe81f9d6-03ce-4788-b26f-ec612b00db12"
      },
      "execution_count": null,
      "outputs": [
        {
          "output_type": "execute_result",
          "data": {
            "text/plain": [
              "                                               title  \\\n",
              "0  المنتخب الوطني المغربي لأقل من 20 سنة يخوض تجم...   \n",
              "1  وزير النقل اعمارة:السرعة عامل مسبب لحوادث السي...   \n",
              "2    ميسي يؤكد أن الفوز بكأس اسبانيا كان \"نقطة تحول\"   \n",
              "3  دبلوماسي مغربي سابق بإسبانيا لـ2M.ma: خطأ مدري...   \n",
              "4  شركتان، فرنسية وبريطانية تعلنان عن نتائج إيجاب...   \n",
              "\n",
              "                                                text  label  \n",
              "0  يخوض المنتخب الوطني المغربي لكرة القدم لأقل من...      1  \n",
              "1  ترأس عبد القادر اعمارة، وزير التجهيز و النقل و...      1  \n",
              "2  أكد النجم الارجنتيني ليونيل ميسي أن فوز فريقه ...      1  \n",
              "3  أكّد الدبلوماسي المغربي السابق بإسبانيا، عبد ا...      1  \n",
              "4  أعلنت شركتا سانوفي الفرنسية العملاقة في تصنيع ...      1  "
            ],
            "text/html": [
              "\n",
              "  <div id=\"df-ccec2d50-7c4e-42b4-887a-876b17b95a94\" class=\"colab-df-container\">\n",
              "    <div>\n",
              "<style scoped>\n",
              "    .dataframe tbody tr th:only-of-type {\n",
              "        vertical-align: middle;\n",
              "    }\n",
              "\n",
              "    .dataframe tbody tr th {\n",
              "        vertical-align: top;\n",
              "    }\n",
              "\n",
              "    .dataframe thead th {\n",
              "        text-align: right;\n",
              "    }\n",
              "</style>\n",
              "<table border=\"1\" class=\"dataframe\">\n",
              "  <thead>\n",
              "    <tr style=\"text-align: right;\">\n",
              "      <th></th>\n",
              "      <th>title</th>\n",
              "      <th>text</th>\n",
              "      <th>label</th>\n",
              "    </tr>\n",
              "  </thead>\n",
              "  <tbody>\n",
              "    <tr>\n",
              "      <th>0</th>\n",
              "      <td>المنتخب الوطني المغربي لأقل من 20 سنة يخوض تجم...</td>\n",
              "      <td>يخوض المنتخب الوطني المغربي لكرة القدم لأقل من...</td>\n",
              "      <td>1</td>\n",
              "    </tr>\n",
              "    <tr>\n",
              "      <th>1</th>\n",
              "      <td>وزير النقل اعمارة:السرعة عامل مسبب لحوادث السي...</td>\n",
              "      <td>ترأس عبد القادر اعمارة، وزير التجهيز و النقل و...</td>\n",
              "      <td>1</td>\n",
              "    </tr>\n",
              "    <tr>\n",
              "      <th>2</th>\n",
              "      <td>ميسي يؤكد أن الفوز بكأس اسبانيا كان \"نقطة تحول\"</td>\n",
              "      <td>أكد النجم الارجنتيني ليونيل ميسي أن فوز فريقه ...</td>\n",
              "      <td>1</td>\n",
              "    </tr>\n",
              "    <tr>\n",
              "      <th>3</th>\n",
              "      <td>دبلوماسي مغربي سابق بإسبانيا لـ2M.ma: خطأ مدري...</td>\n",
              "      <td>أكّد الدبلوماسي المغربي السابق بإسبانيا، عبد ا...</td>\n",
              "      <td>1</td>\n",
              "    </tr>\n",
              "    <tr>\n",
              "      <th>4</th>\n",
              "      <td>شركتان، فرنسية وبريطانية تعلنان عن نتائج إيجاب...</td>\n",
              "      <td>أعلنت شركتا سانوفي الفرنسية العملاقة في تصنيع ...</td>\n",
              "      <td>1</td>\n",
              "    </tr>\n",
              "  </tbody>\n",
              "</table>\n",
              "</div>\n",
              "    <div class=\"colab-df-buttons\">\n",
              "\n",
              "  <div class=\"colab-df-container\">\n",
              "    <button class=\"colab-df-convert\" onclick=\"convertToInteractive('df-ccec2d50-7c4e-42b4-887a-876b17b95a94')\"\n",
              "            title=\"Convert this dataframe to an interactive table.\"\n",
              "            style=\"display:none;\">\n",
              "\n",
              "  <svg xmlns=\"http://www.w3.org/2000/svg\" height=\"24px\" viewBox=\"0 -960 960 960\">\n",
              "    <path d=\"M120-120v-720h720v720H120Zm60-500h600v-160H180v160Zm220 220h160v-160H400v160Zm0 220h160v-160H400v160ZM180-400h160v-160H180v160Zm440 0h160v-160H620v160ZM180-180h160v-160H180v160Zm440 0h160v-160H620v160Z\"/>\n",
              "  </svg>\n",
              "    </button>\n",
              "\n",
              "  <style>\n",
              "    .colab-df-container {\n",
              "      display:flex;\n",
              "      gap: 12px;\n",
              "    }\n",
              "\n",
              "    .colab-df-convert {\n",
              "      background-color: #E8F0FE;\n",
              "      border: none;\n",
              "      border-radius: 50%;\n",
              "      cursor: pointer;\n",
              "      display: none;\n",
              "      fill: #1967D2;\n",
              "      height: 32px;\n",
              "      padding: 0 0 0 0;\n",
              "      width: 32px;\n",
              "    }\n",
              "\n",
              "    .colab-df-convert:hover {\n",
              "      background-color: #E2EBFA;\n",
              "      box-shadow: 0px 1px 2px rgba(60, 64, 67, 0.3), 0px 1px 3px 1px rgba(60, 64, 67, 0.15);\n",
              "      fill: #174EA6;\n",
              "    }\n",
              "\n",
              "    .colab-df-buttons div {\n",
              "      margin-bottom: 4px;\n",
              "    }\n",
              "\n",
              "    [theme=dark] .colab-df-convert {\n",
              "      background-color: #3B4455;\n",
              "      fill: #D2E3FC;\n",
              "    }\n",
              "\n",
              "    [theme=dark] .colab-df-convert:hover {\n",
              "      background-color: #434B5C;\n",
              "      box-shadow: 0px 1px 3px 1px rgba(0, 0, 0, 0.15);\n",
              "      filter: drop-shadow(0px 1px 2px rgba(0, 0, 0, 0.3));\n",
              "      fill: #FFFFFF;\n",
              "    }\n",
              "  </style>\n",
              "\n",
              "    <script>\n",
              "      const buttonEl =\n",
              "        document.querySelector('#df-ccec2d50-7c4e-42b4-887a-876b17b95a94 button.colab-df-convert');\n",
              "      buttonEl.style.display =\n",
              "        google.colab.kernel.accessAllowed ? 'block' : 'none';\n",
              "\n",
              "      async function convertToInteractive(key) {\n",
              "        const element = document.querySelector('#df-ccec2d50-7c4e-42b4-887a-876b17b95a94');\n",
              "        const dataTable =\n",
              "          await google.colab.kernel.invokeFunction('convertToInteractive',\n",
              "                                                    [key], {});\n",
              "        if (!dataTable) return;\n",
              "\n",
              "        const docLinkHtml = 'Like what you see? Visit the ' +\n",
              "          '<a target=\"_blank\" href=https://colab.research.google.com/notebooks/data_table.ipynb>data table notebook</a>'\n",
              "          + ' to learn more about interactive tables.';\n",
              "        element.innerHTML = '';\n",
              "        dataTable['output_type'] = 'display_data';\n",
              "        await google.colab.output.renderOutput(dataTable, element);\n",
              "        const docLink = document.createElement('div');\n",
              "        docLink.innerHTML = docLinkHtml;\n",
              "        element.appendChild(docLink);\n",
              "      }\n",
              "    </script>\n",
              "  </div>\n",
              "\n",
              "\n",
              "<div id=\"df-72ccc35f-0860-496f-bad9-084f4b42f782\">\n",
              "  <button class=\"colab-df-quickchart\" onclick=\"quickchart('df-72ccc35f-0860-496f-bad9-084f4b42f782')\"\n",
              "            title=\"Suggest charts\"\n",
              "            style=\"display:none;\">\n",
              "\n",
              "<svg xmlns=\"http://www.w3.org/2000/svg\" height=\"24px\"viewBox=\"0 0 24 24\"\n",
              "     width=\"24px\">\n",
              "    <g>\n",
              "        <path d=\"M19 3H5c-1.1 0-2 .9-2 2v14c0 1.1.9 2 2 2h14c1.1 0 2-.9 2-2V5c0-1.1-.9-2-2-2zM9 17H7v-7h2v7zm4 0h-2V7h2v10zm4 0h-2v-4h2v4z\"/>\n",
              "    </g>\n",
              "</svg>\n",
              "  </button>\n",
              "\n",
              "<style>\n",
              "  .colab-df-quickchart {\n",
              "      --bg-color: #E8F0FE;\n",
              "      --fill-color: #1967D2;\n",
              "      --hover-bg-color: #E2EBFA;\n",
              "      --hover-fill-color: #174EA6;\n",
              "      --disabled-fill-color: #AAA;\n",
              "      --disabled-bg-color: #DDD;\n",
              "  }\n",
              "\n",
              "  [theme=dark] .colab-df-quickchart {\n",
              "      --bg-color: #3B4455;\n",
              "      --fill-color: #D2E3FC;\n",
              "      --hover-bg-color: #434B5C;\n",
              "      --hover-fill-color: #FFFFFF;\n",
              "      --disabled-bg-color: #3B4455;\n",
              "      --disabled-fill-color: #666;\n",
              "  }\n",
              "\n",
              "  .colab-df-quickchart {\n",
              "    background-color: var(--bg-color);\n",
              "    border: none;\n",
              "    border-radius: 50%;\n",
              "    cursor: pointer;\n",
              "    display: none;\n",
              "    fill: var(--fill-color);\n",
              "    height: 32px;\n",
              "    padding: 0;\n",
              "    width: 32px;\n",
              "  }\n",
              "\n",
              "  .colab-df-quickchart:hover {\n",
              "    background-color: var(--hover-bg-color);\n",
              "    box-shadow: 0 1px 2px rgba(60, 64, 67, 0.3), 0 1px 3px 1px rgba(60, 64, 67, 0.15);\n",
              "    fill: var(--button-hover-fill-color);\n",
              "  }\n",
              "\n",
              "  .colab-df-quickchart-complete:disabled,\n",
              "  .colab-df-quickchart-complete:disabled:hover {\n",
              "    background-color: var(--disabled-bg-color);\n",
              "    fill: var(--disabled-fill-color);\n",
              "    box-shadow: none;\n",
              "  }\n",
              "\n",
              "  .colab-df-spinner {\n",
              "    border: 2px solid var(--fill-color);\n",
              "    border-color: transparent;\n",
              "    border-bottom-color: var(--fill-color);\n",
              "    animation:\n",
              "      spin 1s steps(1) infinite;\n",
              "  }\n",
              "\n",
              "  @keyframes spin {\n",
              "    0% {\n",
              "      border-color: transparent;\n",
              "      border-bottom-color: var(--fill-color);\n",
              "      border-left-color: var(--fill-color);\n",
              "    }\n",
              "    20% {\n",
              "      border-color: transparent;\n",
              "      border-left-color: var(--fill-color);\n",
              "      border-top-color: var(--fill-color);\n",
              "    }\n",
              "    30% {\n",
              "      border-color: transparent;\n",
              "      border-left-color: var(--fill-color);\n",
              "      border-top-color: var(--fill-color);\n",
              "      border-right-color: var(--fill-color);\n",
              "    }\n",
              "    40% {\n",
              "      border-color: transparent;\n",
              "      border-right-color: var(--fill-color);\n",
              "      border-top-color: var(--fill-color);\n",
              "    }\n",
              "    60% {\n",
              "      border-color: transparent;\n",
              "      border-right-color: var(--fill-color);\n",
              "    }\n",
              "    80% {\n",
              "      border-color: transparent;\n",
              "      border-right-color: var(--fill-color);\n",
              "      border-bottom-color: var(--fill-color);\n",
              "    }\n",
              "    90% {\n",
              "      border-color: transparent;\n",
              "      border-bottom-color: var(--fill-color);\n",
              "    }\n",
              "  }\n",
              "</style>\n",
              "\n",
              "  <script>\n",
              "    async function quickchart(key) {\n",
              "      const quickchartButtonEl =\n",
              "        document.querySelector('#' + key + ' button');\n",
              "      quickchartButtonEl.disabled = true;  // To prevent multiple clicks.\n",
              "      quickchartButtonEl.classList.add('colab-df-spinner');\n",
              "      try {\n",
              "        const charts = await google.colab.kernel.invokeFunction(\n",
              "            'suggestCharts', [key], {});\n",
              "      } catch (error) {\n",
              "        console.error('Error during call to suggestCharts:', error);\n",
              "      }\n",
              "      quickchartButtonEl.classList.remove('colab-df-spinner');\n",
              "      quickchartButtonEl.classList.add('colab-df-quickchart-complete');\n",
              "    }\n",
              "    (() => {\n",
              "      let quickchartButtonEl =\n",
              "        document.querySelector('#df-72ccc35f-0860-496f-bad9-084f4b42f782 button');\n",
              "      quickchartButtonEl.style.display =\n",
              "        google.colab.kernel.accessAllowed ? 'block' : 'none';\n",
              "    })();\n",
              "  </script>\n",
              "</div>\n",
              "    </div>\n",
              "  </div>\n"
            ],
            "application/vnd.google.colaboratory.intrinsic+json": {
              "type": "dataframe",
              "variable_name": "ar_dataset"
            }
          },
          "metadata": {},
          "execution_count": 27
        }
      ]
    },
    {
      "cell_type": "code",
      "source": [
        "ar_dataset['text'] = ar_dataset['title'] + ar_dataset['text']\n",
        "ar_dataset.drop(['title'],axis=1,inplace=True)"
      ],
      "metadata": {
        "id": "Z4-4sFYvGrRk"
      },
      "execution_count": null,
      "outputs": []
    },
    {
      "cell_type": "code",
      "source": [
        "# Check the value counts of the 'label' column before sampling\n",
        "print(\"Before sampling:\")\n",
        "print(ar_dataset['label'].value_counts())"
      ],
      "metadata": {
        "colab": {
          "base_uri": "https://localhost:8080/"
        },
        "id": "hwMynAugJQMN",
        "outputId": "472a1ee2-cefd-4e9d-fa34-66ecdf319c7b"
      },
      "execution_count": null,
      "outputs": [
        {
          "output_type": "stream",
          "name": "stdout",
          "text": [
            "Before sampling:\n",
            "label\n",
            "1    207310\n",
            "0    167233\n",
            "Name: count, dtype: int64\n"
          ]
        }
      ]
    },
    {
      "cell_type": "code",
      "source": [
        "# sample dataset\n",
        "true_sample = ar_dataset[ar_dataset['label'] == 1][:5000]\n",
        "fake_sample = ar_dataset[ar_dataset['label'] == 0][:5000]"
      ],
      "metadata": {
        "id": "JrAGOpLdJUzr"
      },
      "execution_count": null,
      "outputs": []
    },
    {
      "cell_type": "code",
      "source": [
        "ar_dataset = pd.concat([fake_sample,true_sample],ignore_index=True,sort=False)\n"
      ],
      "metadata": {
        "id": "ExK3P0zFKppe"
      },
      "execution_count": null,
      "outputs": []
    },
    {
      "cell_type": "code",
      "source": [
        "ar_dataset['label'].value_counts()"
      ],
      "metadata": {
        "colab": {
          "base_uri": "https://localhost:8080/"
        },
        "id": "ijVY_t20KtQK",
        "outputId": "eabc5a3e-e097-47b2-d17f-b54f8eb89fbb"
      },
      "execution_count": null,
      "outputs": [
        {
          "output_type": "execute_result",
          "data": {
            "text/plain": [
              "label\n",
              "0    5000\n",
              "1    5000\n",
              "Name: count, dtype: int64"
            ]
          },
          "metadata": {},
          "execution_count": 32
        }
      ]
    },
    {
      "cell_type": "code",
      "source": [
        "from nltk import FreqDist\n",
        "def plot_word_frequency(words, top_n=15, rotation=0):\n",
        "    word_freq = FreqDist(words)\n",
        "    labels = [element[0] for element in word_freq.most_common(top_n)]\n",
        "    counts = [element[1] for element in word_freq.most_common(top_n)]\n",
        "    plt.figure(figsize=(28, 5))\n",
        "    g = sns.barplot(x=labels, y=counts)\n",
        "    return g"
      ],
      "metadata": {
        "id": "T1er-J5_NVSz"
      },
      "execution_count": null,
      "outputs": []
    },
    {
      "cell_type": "code",
      "source": [
        "notesb = \"\".join(ar_dataset.text)\n",
        "notes_wordsb = notesb.split()"
      ],
      "metadata": {
        "id": "xnOTL3OlOIGU"
      },
      "execution_count": null,
      "outputs": []
    },
    {
      "cell_type": "code",
      "execution_count": null,
      "metadata": {
        "id": "ddfa4b71",
        "outputId": "d7cba9e0-7206-44eb-be05-9d8f2ebfc1bc",
        "colab": {
          "base_uri": "https://localhost:8080/",
          "height": 320
        }
      },
      "outputs": [
        {
          "output_type": "execute_result",
          "data": {
            "text/plain": [
              "Text(0.5, 1.0, 'Word frequencies After removing stopwords and punctuations')"
            ]
          },
          "metadata": {},
          "execution_count": 35
        },
        {
          "output_type": "display_data",
          "data": {
            "text/plain": [
              "<Figure size 2800x500 with 1 Axes>"
            ],
            "image/png": "[encoded data removed]"
          },
          "metadata": {}
        }
      ],
      "source": [
        "plot_word_frequency(notes_wordsb).set_title('Word frequencies After removing stopwords and punctuations',fontsize =14)"
      ]
    },
    {
      "cell_type": "markdown",
      "source": [
        "# **data preprocessing before training**"
      ],
      "metadata": {
        "id": "dg1AxJGsOZD7"
      }
    },
    {
      "cell_type": "code",
      "source": [
        "# Remove Stopwords\n",
        "def remove_english_stopwords(text):\n",
        "    stop_words = stopwords.words('english')\n",
        "    words = text.split()\n",
        "    filtered_sentence = ''\n",
        "    for word in words:\n",
        "        if word not in stop_words:\n",
        "            filtered_sentence = filtered_sentence + word + ' '\n",
        "    return filtered_sentence\n",
        "\n",
        "def remove_arabic_stopwords(text):\n",
        "    stop_words = stp.stopwords_list()\n",
        "    words = text.split()\n",
        "    filtered_sentence = ''\n",
        "    for word in words:\n",
        "        if word not in stop_words:\n",
        "            filtered_sentence = filtered_sentence + word + ' '\n",
        "    return filtered_sentence\n",
        "\n",
        "# Remove Punvtuation\n",
        "def remove_punctuation(text):\n",
        "    table = str.maketrans('','',string.punctuation)\n",
        "    words = text.split()\n",
        "    filtered_sentence = ''\n",
        "    for word in words:\n",
        "        word = word.translate(table)\n",
        "        filtered_sentence = filtered_sentence + word + ' '\n",
        "    return filtered_sentence\n",
        "\n",
        "# Normalize Text\n",
        "def normalize_english_text(text):\n",
        "    text = text.lower()\n",
        "    # get rid of urls\n",
        "    text = re.sub('https?://\\S+|www\\.\\S+', '', text)\n",
        "    # get rid of non words and extra spaces\n",
        "    text = re.sub('\\\\W', ' ', text)\n",
        "    text = re.sub('\\n', '', text)\n",
        "    text = re.sub(' +', ' ', text)\n",
        "    text = re.sub('^ ', '', text)\n",
        "    text = re.sub(' $', '', text)\n",
        "    return text\n",
        "\n",
        "\n",
        "def normalize_arabic_text(text):\n",
        "    text = re.sub(r\"[إأٱآا]\", \"ا\", text)\n",
        "    text = re.sub(r\"ى\", \"ي\", text)\n",
        "    text = re.sub(r\"ؤ\", \"ء\", text)\n",
        "    text = re.sub(r\"ئ\", \"ء\", text)\n",
        "    text = re.sub(r'[^ا-ي ]', \"\", text)\n",
        "\n",
        "    noise = re.compile(\"\"\" ّ    | # Tashdid\n",
        "                         َ    | # Fatha\n",
        "                         ً    | # Tanwin Fath\n",
        "                         ُ    | # Damma\n",
        "                         ٌ    | # Tanwin Damm\n",
        "                         ِ    | # Kasra\n",
        "                         ٍ    | # Tanwin Kasr\n",
        "                         ْ    | # Sukun\n",
        "                         ـ     # Tatwil/Kashida\n",
        "                     \"\"\", re.VERBOSE)\n",
        "    text = re.sub(noise, '', text)\n",
        "    return text\n",
        "\n",
        "# combine all functions into one\n",
        "def clean_arabic_text(text):\n",
        "    text = text.replace(',',' , ')\n",
        "    text = text.replace('.',' . ')\n",
        "    text = text.replace('/',' / ')\n",
        "    text = text.replace('@',' @ ')\n",
        "    text = text.replace('#',' # ')\n",
        "    text = text.replace('?',' ? ')\n",
        "    text = normalize_arabic_text(text)\n",
        "    text = remove_punctuation(text)\n",
        "    text = remove_arabic_stopwords(text)\n",
        "    return text\n",
        "def clean_english_text(text):\n",
        "    if isinstance(text, str):\n",
        "        text = text.lower()\n",
        "        text = text.replace(',', ' , ')\n",
        "        text = text.replace('.', ' . ')\n",
        "        text = normalize_english_text(text)\n",
        "        text = remove_punctuation(text)\n",
        "        text = remove_english_stopwords(text)\n",
        "        return text\n",
        "\n",
        "# Apply the function to your DataFrame, handling NaN values\n",
        "en_dataset['text'] = en_dataset['text'].apply(clean_english_text)\n",
        "en_dataset['text'] = en_dataset['text'].fillna('')  # Fill NaN values with an empty string or any other suitable value\n"
      ],
      "metadata": {
        "id": "xCtBabqvOQVh"
      },
      "execution_count": null,
      "outputs": []
    },
    {
      "cell_type": "code",
      "source": [
        "en_dataset['text'] = en_dataset['text'].apply(clean_english_text)"
      ],
      "metadata": {
        "id": "8lwDEwgcOtuy"
      },
      "execution_count": null,
      "outputs": []
    },
    {
      "cell_type": "code",
      "source": [
        "ar_dataset['text'] = ar_dataset['text'].apply(clean_arabic_text)"
      ],
      "metadata": {
        "id": "CYg6w3JPOurj"
      },
      "execution_count": null,
      "outputs": []
    },
    {
      "cell_type": "markdown",
      "source": [
        "# **`Feature Engineering`**"
      ],
      "metadata": {
        "id": "P_JS9YzfP32M"
      }
    },
    {
      "cell_type": "code",
      "source": [
        "# split data\n",
        "# for arabic data\n",
        "ar_X_train, ar_X_test, ar_y_train, ar_y_test = train_test_split(ar_dataset[\"text\"]\n",
        "                                                                , ar_dataset['label']\n",
        "                                                                , test_size=0.1,\n",
        "                                                                shuffle=True)"
      ],
      "metadata": {
        "id": "_26rKAq0P67W"
      },
      "execution_count": null,
      "outputs": []
    },
    {
      "cell_type": "code",
      "source": [
        "from sklearn.feature_extraction.text import TfidfVectorizer\n",
        "\n",
        "tfidf_vect = TfidfVectorizer(analyzer='word',max_features=5000)\n",
        "tfidf_vect.fit(ar_dataset['text'].values.astype('U'))\n",
        "xtrain_tfidf = tfidf_vect.transform(ar_X_train.values.astype('U')).toarray()\n",
        "xvalid_tfidf = tfidf_vect.transform(ar_y_train.values.astype('U')).toarray()\n",
        "\n",
        "print(xtrain_tfidf.shape)\n",
        "print(xvalid_tfidf.shape)"
      ],
      "metadata": {
        "colab": {
          "base_uri": "https://localhost:8080/"
        },
        "id": "5_QOC_iBQR9g",
        "outputId": "9549da02-ddfe-4f53-896e-894bfab787e1"
      },
      "execution_count": null,
      "outputs": [
        {
          "output_type": "stream",
          "name": "stdout",
          "text": [
            "(9000, 5000)\n",
            "(9000, 5000)\n"
          ]
        }
      ]
    },
    {
      "cell_type": "code",
      "source": [
        "tfidf_feature_names = tfidf_vect.get_feature_names_out()\n",
        "print(\"\\nSample of TF-IDF Feature Names:\")\n",
        "print(tfidf_feature_names[:10])"
      ],
      "metadata": {
        "colab": {
          "base_uri": "https://localhost:8080/"
        },
        "id": "tcat4U0pQaa2",
        "outputId": "bd90844d-ae96-41d9-9af8-9ad5472f588a"
      },
      "execution_count": null,
      "outputs": [
        {
          "output_type": "stream",
          "name": "stdout",
          "text": [
            "\n",
            "Sample of TF-IDF Feature Names:\n",
            "['ابتدا' 'ابدا' 'ابرام' 'ابراهيم' 'ابرز' 'ابرزها' 'ابريل' 'ابطال' 'ابعاد'\n",
            " 'ابل']\n"
          ]
        }
      ]
    },
    {
      "cell_type": "code",
      "source": [
        "from sklearn.feature_extraction.text import TfidfVectorizer\n",
        "import pandas as pd\n",
        "\n",
        "# Assuming you have a DataFrame named ar_dataset with a 'text' column\n",
        "# and X_train, y_train are the training and validation sets\n",
        "\n",
        "tfidf_vect = TfidfVectorizer(analyzer='word', max_features=5000)\n",
        "tfidf_vect.fit(ar_dataset['text'].values.astype('U'))\n",
        "\n",
        "xtrain_tfidf = tfidf_vect.transform(ar_X_train.values.astype('U')).toarray()\n",
        "xvalid_tfidf = tfidf_vect.transform(ar_y_train.values.astype('U')).toarray()\n",
        "\n",
        "# Get feature names\n",
        "tfidf_feature_names = tfidf_vect.get_feature_names_out()\n",
        "\n",
        "# Display the shape of the TF-IDF matrices\n",
        "print(\"TF-IDF Training Set Shape:\", xtrain_tfidf.shape)\n",
        "print(\"TF-IDF Validation Set Shape:\", xvalid_tfidf.shape)\n",
        "\n",
        "# Display a sample of feature names with their corresponding Arabic text\n",
        "sample_indices = [0, 1, 2, 3, 4]  # Adjust the indices as needed\n",
        "sample_feature_names = tfidf_feature_names[sample_indices]\n",
        "\n",
        "# Create a mapping between feature indices and Arabic text\n",
        "feature_mapping = dict(zip(sample_feature_names, sample_indices))\n",
        "\n",
        "# Display the mapping\n",
        "print(\"\\nSample of TF-IDF Feature Names and Corresponding Arabic Text:\")\n",
        "for feature_name, index in feature_mapping.items():\n",
        "    print(f\"Feature Index {index}: {feature_name}\")\n"
      ],
      "metadata": {
        "colab": {
          "base_uri": "https://localhost:8080/"
        },
        "id": "xW7F1gD9Qhd0",
        "outputId": "3b2da447-81d3-4852-cc11-a8ad087549b5"
      },
      "execution_count": null,
      "outputs": [
        {
          "output_type": "stream",
          "name": "stdout",
          "text": [
            "TF-IDF Training Set Shape: (9000, 5000)\n",
            "TF-IDF Validation Set Shape: (9000, 5000)\n",
            "\n",
            "Sample of TF-IDF Feature Names and Corresponding Arabic Text:\n",
            "Feature Index 0: ابتدا\n",
            "Feature Index 1: ابدا\n",
            "Feature Index 2: ابرام\n",
            "Feature Index 3: ابراهيم\n",
            "Feature Index 4: ابرز\n"
          ]
        }
      ]
    },
    {
      "cell_type": "code",
      "execution_count": null,
      "metadata": {
        "id": "50035a89",
        "outputId": "0140bd92-384f-43d2-fc39-54187f6acf37",
        "colab": {
          "base_uri": "https://localhost:8080/"
        }
      },
      "outputs": [
        {
          "output_type": "stream",
          "name": "stdout",
          "text": [
            "(9000, 5000)\n",
            "(9000, 5000)\n"
          ]
        }
      ],
      "source": [
        "from sklearn.feature_extraction.text import CountVectorizer\n",
        "\n",
        "count_vec = CountVectorizer(analyzer='word', max_features=5000)\n",
        "count_train = count_vec.fit(ar_dataset['text'].values.astype('U'))\n",
        "bag_of_words_train = count_vec.transform(ar_X_train.values.astype('U')).toarray()\n",
        "bag_of_words_test = count_vec.transform(ar_X_train.values.astype('U')).toarray()\n",
        "\n",
        "\n",
        "\n",
        "print(bag_of_words_train.shape)\n",
        "print(bag_of_words_test.shape)"
      ]
    },
    {
      "cell_type": "code",
      "execution_count": null,
      "metadata": {
        "id": "86734fd1",
        "outputId": "06508f9d-75ae-4871-cc07-058032638afa",
        "colab": {
          "base_uri": "https://localhost:8080/",
          "height": 206
        }
      },
      "outputs": [
        {
          "output_type": "execute_result",
          "data": {
            "text/plain": [
              "                                                   text  label\n",
              "6252  بورتريه الحاجة الحمداوية سيدة فن العيطة بالمغر...      1\n",
              "4684  تم تمديد اجال اقتنا قسيمة السياراتمددت المديري...      0\n",
              "1731  ثلاث قطاعات تهتز اليوم وقع الاضراباتتصاعدت وتي...      0\n",
              "4742  قطاع العمل التشغيل الضمان الاجتماعيهذه الوثاق ...      0\n",
              "4521  فتح مسابقة لتوظيف طالب قاضاعلنت وزارة العدل فت...      0"
            ],
            "text/html": [
              "\n",
              "  <div id=\"df-1acff8bf-d433-4889-a566-113d33dc0c58\" class=\"colab-df-container\">\n",
              "    <div>\n",
              "<style scoped>\n",
              "    .dataframe tbody tr th:only-of-type {\n",
              "        vertical-align: middle;\n",
              "    }\n",
              "\n",
              "    .dataframe tbody tr th {\n",
              "        vertical-align: top;\n",
              "    }\n",
              "\n",
              "    .dataframe thead th {\n",
              "        text-align: right;\n",
              "    }\n",
              "</style>\n",
              "<table border=\"1\" class=\"dataframe\">\n",
              "  <thead>\n",
              "    <tr style=\"text-align: right;\">\n",
              "      <th></th>\n",
              "      <th>text</th>\n",
              "      <th>label</th>\n",
              "    </tr>\n",
              "  </thead>\n",
              "  <tbody>\n",
              "    <tr>\n",
              "      <th>6252</th>\n",
              "      <td>بورتريه الحاجة الحمداوية سيدة فن العيطة بالمغر...</td>\n",
              "      <td>1</td>\n",
              "    </tr>\n",
              "    <tr>\n",
              "      <th>4684</th>\n",
              "      <td>تم تمديد اجال اقتنا قسيمة السياراتمددت المديري...</td>\n",
              "      <td>0</td>\n",
              "    </tr>\n",
              "    <tr>\n",
              "      <th>1731</th>\n",
              "      <td>ثلاث قطاعات تهتز اليوم وقع الاضراباتتصاعدت وتي...</td>\n",
              "      <td>0</td>\n",
              "    </tr>\n",
              "    <tr>\n",
              "      <th>4742</th>\n",
              "      <td>قطاع العمل التشغيل الضمان الاجتماعيهذه الوثاق ...</td>\n",
              "      <td>0</td>\n",
              "    </tr>\n",
              "    <tr>\n",
              "      <th>4521</th>\n",
              "      <td>فتح مسابقة لتوظيف طالب قاضاعلنت وزارة العدل فت...</td>\n",
              "      <td>0</td>\n",
              "    </tr>\n",
              "  </tbody>\n",
              "</table>\n",
              "</div>\n",
              "    <div class=\"colab-df-buttons\">\n",
              "\n",
              "  <div class=\"colab-df-container\">\n",
              "    <button class=\"colab-df-convert\" onclick=\"convertToInteractive('df-1acff8bf-d433-4889-a566-113d33dc0c58')\"\n",
              "            title=\"Convert this dataframe to an interactive table.\"\n",
              "            style=\"display:none;\">\n",
              "\n",
              "  <svg xmlns=\"http://www.w3.org/2000/svg\" height=\"24px\" viewBox=\"0 -960 960 960\">\n",
              "    <path d=\"M120-120v-720h720v720H120Zm60-500h600v-160H180v160Zm220 220h160v-160H400v160Zm0 220h160v-160H400v160ZM180-400h160v-160H180v160Zm440 0h160v-160H620v160ZM180-180h160v-160H180v160Zm440 0h160v-160H620v160Z\"/>\n",
              "  </svg>\n",
              "    </button>\n",
              "\n",
              "  <style>\n",
              "    .colab-df-container {\n",
              "      display:flex;\n",
              "      gap: 12px;\n",
              "    }\n",
              "\n",
              "    .colab-df-convert {\n",
              "      background-color: #E8F0FE;\n",
              "      border: none;\n",
              "      border-radius: 50%;\n",
              "      cursor: pointer;\n",
              "      display: none;\n",
              "      fill: #1967D2;\n",
              "      height: 32px;\n",
              "      padding: 0 0 0 0;\n",
              "      width: 32px;\n",
              "    }\n",
              "\n",
              "    .colab-df-convert:hover {\n",
              "      background-color: #E2EBFA;\n",
              "      box-shadow: 0px 1px 2px rgba(60, 64, 67, 0.3), 0px 1px 3px 1px rgba(60, 64, 67, 0.15);\n",
              "      fill: #174EA6;\n",
              "    }\n",
              "\n",
              "    .colab-df-buttons div {\n",
              "      margin-bottom: 4px;\n",
              "    }\n",
              "\n",
              "    [theme=dark] .colab-df-convert {\n",
              "      background-color: #3B4455;\n",
              "      fill: #D2E3FC;\n",
              "    }\n",
              "\n",
              "    [theme=dark] .colab-df-convert:hover {\n",
              "      background-color: #434B5C;\n",
              "      box-shadow: 0px 1px 3px 1px rgba(0, 0, 0, 0.15);\n",
              "      filter: drop-shadow(0px 1px 2px rgba(0, 0, 0, 0.3));\n",
              "      fill: #FFFFFF;\n",
              "    }\n",
              "  </style>\n",
              "\n",
              "    <script>\n",
              "      const buttonEl =\n",
              "        document.querySelector('#df-1acff8bf-d433-4889-a566-113d33dc0c58 button.colab-df-convert');\n",
              "      buttonEl.style.display =\n",
              "        google.colab.kernel.accessAllowed ? 'block' : 'none';\n",
              "\n",
              "      async function convertToInteractive(key) {\n",
              "        const element = document.querySelector('#df-1acff8bf-d433-4889-a566-113d33dc0c58');\n",
              "        const dataTable =\n",
              "          await google.colab.kernel.invokeFunction('convertToInteractive',\n",
              "                                                    [key], {});\n",
              "        if (!dataTable) return;\n",
              "\n",
              "        const docLinkHtml = 'Like what you see? Visit the ' +\n",
              "          '<a target=\"_blank\" href=https://colab.research.google.com/notebooks/data_table.ipynb>data table notebook</a>'\n",
              "          + ' to learn more about interactive tables.';\n",
              "        element.innerHTML = '';\n",
              "        dataTable['output_type'] = 'display_data';\n",
              "        await google.colab.output.renderOutput(dataTable, element);\n",
              "        const docLink = document.createElement('div');\n",
              "        docLink.innerHTML = docLinkHtml;\n",
              "        element.appendChild(docLink);\n",
              "      }\n",
              "    </script>\n",
              "  </div>\n",
              "\n",
              "\n",
              "<div id=\"df-75ef4576-9a4a-4cdd-a2d4-05898a93f1d6\">\n",
              "  <button class=\"colab-df-quickchart\" onclick=\"quickchart('df-75ef4576-9a4a-4cdd-a2d4-05898a93f1d6')\"\n",
              "            title=\"Suggest charts\"\n",
              "            style=\"display:none;\">\n",
              "\n",
              "<svg xmlns=\"http://www.w3.org/2000/svg\" height=\"24px\"viewBox=\"0 0 24 24\"\n",
              "     width=\"24px\">\n",
              "    <g>\n",
              "        <path d=\"M19 3H5c-1.1 0-2 .9-2 2v14c0 1.1.9 2 2 2h14c1.1 0 2-.9 2-2V5c0-1.1-.9-2-2-2zM9 17H7v-7h2v7zm4 0h-2V7h2v10zm4 0h-2v-4h2v4z\"/>\n",
              "    </g>\n",
              "</svg>\n",
              "  </button>\n",
              "\n",
              "<style>\n",
              "  .colab-df-quickchart {\n",
              "      --bg-color: #E8F0FE;\n",
              "      --fill-color: #1967D2;\n",
              "      --hover-bg-color: #E2EBFA;\n",
              "      --hover-fill-color: #174EA6;\n",
              "      --disabled-fill-color: #AAA;\n",
              "      --disabled-bg-color: #DDD;\n",
              "  }\n",
              "\n",
              "  [theme=dark] .colab-df-quickchart {\n",
              "      --bg-color: #3B4455;\n",
              "      --fill-color: #D2E3FC;\n",
              "      --hover-bg-color: #434B5C;\n",
              "      --hover-fill-color: #FFFFFF;\n",
              "      --disabled-bg-color: #3B4455;\n",
              "      --disabled-fill-color: #666;\n",
              "  }\n",
              "\n",
              "  .colab-df-quickchart {\n",
              "    background-color: var(--bg-color);\n",
              "    border: none;\n",
              "    border-radius: 50%;\n",
              "    cursor: pointer;\n",
              "    display: none;\n",
              "    fill: var(--fill-color);\n",
              "    height: 32px;\n",
              "    padding: 0;\n",
              "    width: 32px;\n",
              "  }\n",
              "\n",
              "  .colab-df-quickchart:hover {\n",
              "    background-color: var(--hover-bg-color);\n",
              "    box-shadow: 0 1px 2px rgba(60, 64, 67, 0.3), 0 1px 3px 1px rgba(60, 64, 67, 0.15);\n",
              "    fill: var(--button-hover-fill-color);\n",
              "  }\n",
              "\n",
              "  .colab-df-quickchart-complete:disabled,\n",
              "  .colab-df-quickchart-complete:disabled:hover {\n",
              "    background-color: var(--disabled-bg-color);\n",
              "    fill: var(--disabled-fill-color);\n",
              "    box-shadow: none;\n",
              "  }\n",
              "\n",
              "  .colab-df-spinner {\n",
              "    border: 2px solid var(--fill-color);\n",
              "    border-color: transparent;\n",
              "    border-bottom-color: var(--fill-color);\n",
              "    animation:\n",
              "      spin 1s steps(1) infinite;\n",
              "  }\n",
              "\n",
              "  @keyframes spin {\n",
              "    0% {\n",
              "      border-color: transparent;\n",
              "      border-bottom-color: var(--fill-color);\n",
              "      border-left-color: var(--fill-color);\n",
              "    }\n",
              "    20% {\n",
              "      border-color: transparent;\n",
              "      border-left-color: var(--fill-color);\n",
              "      border-top-color: var(--fill-color);\n",
              "    }\n",
              "    30% {\n",
              "      border-color: transparent;\n",
              "      border-left-color: var(--fill-color);\n",
              "      border-top-color: var(--fill-color);\n",
              "      border-right-color: var(--fill-color);\n",
              "    }\n",
              "    40% {\n",
              "      border-color: transparent;\n",
              "      border-right-color: var(--fill-color);\n",
              "      border-top-color: var(--fill-color);\n",
              "    }\n",
              "    60% {\n",
              "      border-color: transparent;\n",
              "      border-right-color: var(--fill-color);\n",
              "    }\n",
              "    80% {\n",
              "      border-color: transparent;\n",
              "      border-right-color: var(--fill-color);\n",
              "      border-bottom-color: var(--fill-color);\n",
              "    }\n",
              "    90% {\n",
              "      border-color: transparent;\n",
              "      border-bottom-color: var(--fill-color);\n",
              "    }\n",
              "  }\n",
              "</style>\n",
              "\n",
              "  <script>\n",
              "    async function quickchart(key) {\n",
              "      const quickchartButtonEl =\n",
              "        document.querySelector('#' + key + ' button');\n",
              "      quickchartButtonEl.disabled = true;  // To prevent multiple clicks.\n",
              "      quickchartButtonEl.classList.add('colab-df-spinner');\n",
              "      try {\n",
              "        const charts = await google.colab.kernel.invokeFunction(\n",
              "            'suggestCharts', [key], {});\n",
              "      } catch (error) {\n",
              "        console.error('Error during call to suggestCharts:', error);\n",
              "      }\n",
              "      quickchartButtonEl.classList.remove('colab-df-spinner');\n",
              "      quickchartButtonEl.classList.add('colab-df-quickchart-complete');\n",
              "    }\n",
              "    (() => {\n",
              "      let quickchartButtonEl =\n",
              "        document.querySelector('#df-75ef4576-9a4a-4cdd-a2d4-05898a93f1d6 button');\n",
              "      quickchartButtonEl.style.display =\n",
              "        google.colab.kernel.accessAllowed ? 'block' : 'none';\n",
              "    })();\n",
              "  </script>\n",
              "</div>\n",
              "    </div>\n",
              "  </div>\n"
            ],
            "application/vnd.google.colaboratory.intrinsic+json": {
              "type": "dataframe",
              "variable_name": "ar_dataset_sampled",
              "summary": "{\n  \"name\": \"ar_dataset_sampled\",\n  \"rows\": 2000,\n  \"fields\": [\n    {\n      \"column\": \"text\",\n      \"properties\": {\n        \"dtype\": \"string\",\n        \"num_unique_values\": 1988,\n        \"samples\": [\n          \"\\u0634\\u0642\\u064a\\u0642 \\u0641\\u0631\\u0627\\u0633 \\u0633\\u064a\\u062e\\u0637\\u0637 \\u0644\\u0644\\u0647\\u062c\\u0648\\u0645 \\u0639\\u0646\\u0627\\u0635\\u0631 \\u0627\\u0644\\u0634\\u0631\\u0637\\u0629 \\u0627\\u0643\\u062a\\u0634\\u0641 \\u0627\\u0646 \\u0641\\u0631\\u0627\\u0633 \\u064a\\u0633\\u0627\\u0639\\u062f\\u0647\\u0645 \\u0627\\u0644\\u064a\\u0643\\u0645 \\u0627\\u062d\\u062f\\u0627\\u062b \\u0627\\u062c\\u0644 \\u0627\\u0628\\u0646\\u064a\\u0641\\u064a \\u062d\\u0644\\u0642\\u0629 \\u0627\\u0644\\u064a\\u0648\\u0645 \\u0627\\u0644\\u0645\\u0633\\u0644\\u0633\\u0644 \\u0627\\u0644\\u062a\\u0631\\u0643\\u064a \\u0627\\u062c\\u0644 \\u0627\\u0644\\u0628\\u062f\\u0627\\u064a\\u0629 \\u0639\\u0627\\u062f\\u0644 \\u062a\\u0648\\u0628\\u0627\\u0644 \\u0633\\u064a\\u0643\\u062a\\u0634\\u0641 \\u0627\\u0646 \\u0641\\u0631\\u0627\\u0633 \\u062a\\u0645\\u0643\\u0646 \\u0627\\u0644\\u0639\\u062b\\u0648\\u0631 \\u0639\\u0646\\u0648\\u0627\\u0646 \\u0627\\u0644\\u0645\\u0635\\u0646\\u0639 \\u062a\\u0635\\u0646\\u0639 \\u0627\\u0644\\u0645\\u062e\\u0631\\u0627\\u062a \\u0648\\u0627\\u0639\\u062a\\u0631\\u0641 \\u0628\\u0627\\u0644\\u062d\\u0642\\u064a\\u0642\\u0629 \\u0644\\u0644\\u0646\\u0627\\u0628 \\u0627\\u0644\\u0639\\u0627\\u0645 \\u0634\\u0642\\u064a\\u0642 \\u0641\\u0631\\u0627\\u0633 \\u0633\\u064a\\u0642\\u0631\\u0631 \\u0627\\u0644\\u0647\\u062c\\u0631\\u0629 \\u0627\\u0644\\u064a \\u0628\\u0644\\u062f \\u0627\\u062e\\u0631 \\u0627\\u0643\\u062a\\u0634\\u0641 \\u0627\\u0644\\u0646\\u0627\\u0628 \\u0627\\u0644\\u062d\\u0642\\u064a\\u0642\\u0629 \\u0648\\u0639\\u0646\\u0627\\u0635\\u0631 \\u0627\\u0644\\u0634\\u0631\\u0637\\u0629 \\u0633\\u064a\\u062a\\u0639\\u0631\\u0636\\u0648\\u0646 \\u0644\\u0644\\u0647\\u062c\\u0648\\u0645 \\u062d\\u0627\\u0648\\u0644\\u0648\\u0627 \\u0627\\u0642\\u062a\\u062d\\u0627\\u0645 \\u0627\\u0644\\u0645\\u0643\\u0627\\u0646 \\u062a\\u0635\\u0646\\u0639 \\u0627\\u0644\\u0645\\u062e\\u062f\\u0631\\u0627\\u062a \\u0648\\u0645\\u0633\\u0627\\u0639\\u062f\\u0629 \\u0627\\u0644\\u0646\\u0627\\u0628 \\u0627\\u0644\\u0639\\u0627\\u0645 \\u0633\\u062a\\u062a\\u0639\\u0631\\u0636 \\u0644\\u0645\\u062d\\u0627\\u0648\\u0644\\u0629 \\u0642\\u062a\\u0644 \\u0627\\u0637\\u0644\\u0642 \\u0627\\u0644\\u0646\\u0627\\u0631 \\u0643\\u0644\\u062b\\u0648\\u0645 \\u0633\\u062a\\u0648\\u0627\\u062c\\u0647 \\u0627\\u0636\\u0637\\u0631\\u0627\\u0628\\u0627\\u062a \\u0646\\u0641\\u0633\\u064a\\u0629 \\u0627\\u0643\\u062f \\u0627\\u0644\\u0637\\u0628\\u064a\\u0628 \\u0628\\u0627\\u0646 \\u0639\\u0644\\u0627\\u0645\\u0627\\u062a \\u0627\\u0644\\u0639\\u0645\\u0644\\u064a\\u0629 \\u0633\\u062a\\u0638\\u0644 \\u0628\\u0648\\u062c\\u0647\\u0647\\u0627 \\u0648\\u0645\\u0633\\u0627\\u0639\\u062f\\u064a \\u0639\\u0627\\u062f\\u0644 \\u062a\\u0648\\u0628\\u0627\\u0644 \\u0633\\u064a\\u0643\\u062f\\u0648\\u0646 \\u0644\\u0644\\u0646\\u0627\\u0628 \\u0627\\u0644\\u0639\\u0627\\u0645 \\u0628\\u0627\\u0646 \\u0641\\u0631\\u0627\\u0633 \\u0627\\u0645\\u0631\\u0647\\u0645 \\u0628\\u0627\\u0637\\u0644\\u0627\\u0642 \\u0627\\u0644\\u0646\\u0627\\u0631 \\u0639\\u0646\\u0627\\u0635\\u0631 \\u0627\\u0644\\u0634\\u0631\\u0637\\u0629 \\u0627\\u0644\\u0627\\u062e\\u064a\\u0631 \\u0633\\u064a\\u0633\\u0645\\u062d \\u0628\\u062d\\u0631\\u064a \\u0635\\u0644\\u0627\\u062d \\u0627\\u0644\\u062f\\u064a\\u0646 \\u0628\\u0627\\u0646 \\u064a\\u0638\\u0644 \\u0627\\u0644\\u064a \\u062c\\u0627\\u0646\\u0628 \\u0643\\u0644\\u062b\\u0648\\u0645 \\u0627\\u0644\\u062d\\u0627\\u062f\\u062b \\u062a\\u0639\\u0631\\u0636\\u062a \\u0627\\u0644\\u064a\\u0647 \\u0648\\u0635\\u0648\\u0646\\u064a\\u0627 \\u062a\\u062a\\u062c\\u0633\\u0633 \",\n          \"\\u0627\\u0644\\u0633\\u0641\\u0627\\u0631\\u0627\\u062a \\u0627\\u0644\\u062c\\u0632\\u0627\\u0631\\u064a\\u0629 \\u0628\\u0627\\u0644\\u062e\\u0627\\u0631\\u062c \\u062a\\u0631\\u0648\\u062c \\u0644\\u062a\\u0633\\u0647\\u064a\\u0644\\u0627\\u062a \\u0627\\u0646\\u0634\\u0627 \\u0645\\u0634\\u0627\\u0631\\u064a\\u0639 \\u0644\\u0644\\u062c\\u0627\\u0644\\u064a\\u0629\\u0634\\u0631\\u0639\\u062a \\u0627\\u0644\\u0633\\u0641\\u0627\\u0631\\u0627\\u062a \\u0648\\u0627\\u0644\\u0642\\u0646\\u0635\\u0644\\u064a\\u0627\\u062a \\u0627\\u0644\\u062c\\u0632\\u0627\\u0631\\u064a\\u0629 \\u0627\\u0644\\u062a\\u0631\\u0648\\u064a\\u062c \\u0644\\u0644\\u062a\\u0633\\u0647\\u064a\\u0644\\u0627\\u062a \\u0627\\u062f\\u0631\\u062c\\u062a\\u0647\\u0627 \\u0627\\u0644\\u062d\\u0643\\u0648\\u0645\\u0629 \\u0645\\u062e\\u0631\\u0627 \\u0627\\u0637\\u0627\\u0631 \\u062a\\u0646\\u0645\\u064a\\u0629 \\u0642\\u0637\\u0627\\u0639 \\u0627\\u0644\\u0645\\u0633\\u0633\\u0627\\u062a \\u0627\\u0644\\u0645\\u0635\\u063a\\u0631\\u0629 \\u0648\\u0627\\u0644\\u0645\\u0642\\u0627\\u0648\\u0644\\u0627\\u062a\\u064a\\u0629 \\u0627\\u0644\\u062c\\u0632\\u0627\\u0631 \\u0648\\u062a\\u0634\\u062c\\u064a\\u0639 \\u0627\\u0644\\u062c\\u0632\\u0627\\u0631\\u064a\\u064a\\u0646 \\u0627\\u0644\\u0645\\u0642\\u064a\\u0645\\u064a\\u0646 \\u0628\\u0627\\u0644\\u0645\\u0647\\u062c\\u0631 \\u062a\\u062d\\u0642\\u064a\\u0642 \\u0645\\u0634\\u0627\\u0631\\u064a\\u0639\\u0647\\u0645 \\u0627\\u0631\\u0636 \\u0627\\u0644\\u0648\\u0637\\u0646 \\u0648\\u0646\\u0634\\u0631\\u062a \\u0633\\u0641\\u0627\\u0631\\u0627\\u062a \\u0627\\u0644\\u062c\\u0632\\u0627\\u0631 \\u0628\\u0627\\u0644\\u062e\\u0627\\u0631\\u062c \\u063a\\u0631\\u0627\\u0631 \\u0633\\u0641\\u0627\\u0631\\u0629 \\u0627\\u0644\\u062c\\u0632\\u0627\\u0631 \\u0627\\u0646\\u0642\\u0631\\u0629 \\u0648\\u062f\\u0628\\u064a \\u0627\\u0639\\u0644\\u0627\\u0646\\u0627\\u062a \\u0644\\u0641\\u0627\\u062f\\u0629 \\u0627\\u0644\\u062c\\u0627\\u0644\\u064a\\u0629 \\u0627\\u0644\\u062c\\u0632\\u0627\\u0631\\u064a\\u0629 \\u0644\\u0634\\u0631\\u062d \\u0627\\u0644\\u062a\\u062f\\u0627\\u0628\\u064a\\u0631 \\u0627\\u0644\\u062c\\u062f\\u064a\\u062f\\u0629 \\u0627\\u0644\\u0645\\u062a\\u0639\\u0644\\u0642\\u0629 \\u0628\\u062a\\u0634\\u062c\\u064a\\u0639 \\u0627\\u0644\\u0645\\u0647\\u0627\\u062c\\u0631\\u064a\\u0646 \\u0627\\u0646\\u0634\\u0627 \\u0645\\u0633\\u0633\\u0627\\u062a \\u0645\\u0635\\u063a\\u0631\\u0629 \\u062f\\u0627\\u062e\\u0644 \\u0627\\u0644\\u0648\\u0637\\u0646 \\u0648\\u0627\\u0644\\u0627\\u0633\\u062a\\u0641\\u0627\\u062f\\u0629 \\u0627\\u0644\\u062a\\u062f\\u0627\\u0628\\u064a\\u0631 \\u0627\\u0642\\u0631\\u062a\\u0647\\u0627 \\u0627\\u0644\\u0648\\u0632\\u0627\\u0631\\u0629 \\u0627\\u0644\\u0645\\u0646\\u062a\\u062f\\u0628\\u0629 \\u0627\\u0644\\u0648\\u0632\\u064a\\u0631 \\u0627\\u0644\\u0627\\u0648\\u0644 \\u0627\\u0644\\u0645\\u0643\\u0644\\u0641\\u0629 \\u0628\\u0627\\u0644\\u0645\\u0633\\u0633\\u0627\\u062a \\u0627\\u0644\\u0645\\u0635\\u063a\\u0631\\u0629 \\u0648\\u062a\\u0634\\u0645\\u0644 \\u0627\\u0644\\u062a\\u0633\\u0647\\u064a\\u0644\\u0627\\u062a \\u0627\\u0644\\u062c\\u062f\\u064a\\u062f\\u0629 \\u0627\\u0639\\u0641\\u0627 \\u0634\\u0628\\u0627\\u0628 \\u0627\\u0644\\u062c\\u0627\\u0644\\u064a\\u0629 \\u0627\\u0644\\u0631\\u0627\\u063a\\u0628\\u064a\\u0646 \\u0627\\u0646\\u0634\\u0627 \\u0645\\u0633\\u0633\\u0627\\u062a \\u0645\\u0635\\u063a\\u0631\\u0629 \\u0627\\u0637\\u0627\\u0631 \\u0627\\u0644\\u0648\\u0643\\u0627\\u0644\\u0629 \\u0627\\u0644\\u0648\\u0637\\u0646\\u064a\\u0629 \\u0644\\u062f\\u0639\\u0645 \\u0648\\u062a\\u0646\\u0645\\u064a\\u0629 \\u0627\\u0644\\u0645\\u0642\\u0627\\u0648\\u0644\\u0627\\u062a\\u064a\\u0629 \\u0634\\u0631\\u0637 \\u0627\\u0644\\u062a\\u0646\\u0642\\u0644 \\u0627\\u0644\\u064a \\u0627\\u0644\\u0648\\u0637\\u0646 \\u0644\\u0644\\u0642\\u064a\\u0627\\u0645 \\u0628\\u0627\\u0644\\u0627\\u062c\\u0631\\u0627\\u0627\\u062a \\u0627\\u0644\\u0627\\u062f\\u0627\\u0631\\u064a\\u0629 \\u0627\\u0644\\u0627\\u0648\\u0644\\u064a\\u0629 \\u0645\\u0633\\u062a\\u0648\\u064a \\u0627\\u0644\\u0648\\u0643\\u0627\\u0644\\u0627\\u062a \\u0627\\u0644\\u0648\\u0644\\u0627\\u064a\\u0629 \\u064a\\u0645\\u0643\\u0646 \\u062a\\u0648\\u0643\\u064a\\u0644 \\u0637\\u0631\\u0641 \\u062b\\u0627\\u0646 \\u0639\\u0628\\u0631 \\u0648\\u0643\\u0627\\u0644\\u0629 \\u0635\\u0627\\u062f\\u0631\\u0629 \\u0627\\u0644\\u0645\\u0631\\u0627\\u0643\\u0632 \\u0627\\u0644\\u062f\\u0628\\u0644\\u0648\\u0645\\u0627\\u0633\\u064a\\u0629 \\u0648\\u0627\\u0644\\u0642\\u0646\\u0635\\u0644\\u064a\\u0629 \\u0627\\u0644\\u062c\\u0632\\u0627\\u0631\\u064a\\u0629 \\u0628\\u0627\\u0644\\u062e\\u0627\\u0631\\u062c \\u0645\\u0631\\u0641\\u0648\\u0642\\u0629 \\u0628\\u0646\\u0633\\u062e\\u0629 \\u0627\\u0644\\u0628\\u0637\\u0627\\u0642\\u0629 \\u0627\\u0644\\u0642\\u0646\\u0635\\u0644\\u064a\\u0629 \\u0633\\u0627\\u0631\\u064a\\u0629 \\u0627\\u0644\\u0645\\u0641\\u0639\\u0648\\u0644 \\u0648\\u0646\\u0633\\u062e\\u0629 \\u062c\\u0648\\u0627\\u0632 \\u0627\\u0644\\u0633\\u0641\\u0631 \\u0627\\u0644\\u062c\\u0632\\u0627\\u0631\\u064a \\u0635\\u0627\\u0644\\u062d \\u0648\\u0633\\u0627\\u0631\\u064a \\u0627\\u0644\\u0645\\u0641\\u0639\\u0648\\u0644 \\u0627\\u0633\\u062a\\u0643\\u0645\\u0627\\u0644 \\u0627\\u0644\\u0645\\u0644\\u0641 \\u0648\\u0627\\u0633\\u062a\\u064a\\u0641\\u0627 \\u0627\\u0644\\u0634\\u0631\\u0648\\u0637 \\u0627\\u0644\\u0645\\u062a\\u0639\\u0644\\u0642\\u0629 \\u0628\\u0627\\u0646\\u0634\\u0627 \\u0627\\u0644\\u0645\\u0634\\u0631\\u0648\\u0639 \\u064a\\u062a\\u0645 \\u0628\\u0631\\u0645\\u062c\\u0629 \\u062c\\u0644\\u0633\\u0629 \\u064a\\u062d\\u0636\\u0631\\u0647\\u0627 \\u0627\\u0644\\u0645\\u0639\\u0646\\u064a \\u0628\\u0627\\u0644\\u0627\\u0645\\u0631 \\u0627\\u0645\\u0627\\u0645 \\u0644\\u062c\\u0646\\u0629 \\u0627\\u0646\\u062a\\u0642\\u0627 \\u0648\\u0627\\u0639\\u062a\\u0645\\u0627\\u062f \\u0648\\u062a\\u0645\\u0648\\u064a\\u0644 \\u0627\\u0644\\u0645\\u0634\\u0627\\u0631\\u064a\\u0639 \\u0628\\u063a\\u0631\\u0636 \\u062f\\u0631\\u0627\\u0633\\u0629 \\u0627\\u0644\\u0645\\u0644\\u0641 \\u062d\\u0627\\u0644\\u0629 \\u062a\\u0639\\u0630\\u0631 \\u062d\\u0636\\u0648\\u0631 \\u0627\\u0644\\u0645\\u0639\\u0646\\u064a \\u0648\\u062a\\u0642\\u062f\\u064a\\u0645\\u0647 \\u062a\\u0628\\u0631\\u064a\\u0631 \\u064a\\u0645\\u0643\\u0646 \\u0639\\u0642\\u062f \\u062c\\u0644\\u0633\\u0629 \\u0639\\u0628\\u0631 \\u0627\\u0644\\u062a\\u062d\\u0627\\u0636\\u0631 \\u062d\\u0627\\u0644\\u0629 \\u0627\\u0639\\u062a\\u0645\\u0627\\u062f \\u0627\\u0644\\u0645\\u0634\\u0631\\u0648\\u0639 \\u0637\\u0631\\u0641 \\u0644\\u0644\\u062c\\u0646\\u0629\\u064a\\u0644\\u062a\\u062d\\u0642 \\u0635\\u0627\\u062d\\u0628 \\u0627\\u0644\\u0645\\u0634\\u0631\\u0648\\u0639 \\u0627\\u0644\\u0645\\u063a\\u062a\\u0631\\u0628 \\u0628\\u0627\\u0631\\u0636 \\u0627\\u0644\\u0648\\u0637\\u0646 \\u0627\\u0644\\u0627\\u062c\\u0627\\u0644 \\u0627\\u0644\\u0645\\u062d\\u062f\\u062f\\u0629 \\u0627\\u062c\\u0644 \\u0645\\u0628\\u0627\\u0634\\u0631\\u0629 \\u0627\\u0644\\u0627\\u062c\\u0631\\u0627\\u0627\\u062a \\u0627\\u0644\\u0639\\u0645\\u0644\\u064a\\u0629 \\u0644\\u062a\\u0646\\u0641\\u064a\\u0630 \\u0627\\u0644\\u0645\\u0634\\u0631\\u0648\\u0639 \\u064a\\u062e\\u0635 \\u0627\\u0644\\u062f\\u0648\\u0631\\u0629 \\u0627\\u0644\\u062a\\u0643\\u0648\\u064a\\u0646\\u064a\\u0629 \\u0627\\u0644\\u0645\\u062a\\u0639\\u0644\\u0642\\u0629 \\u0628\\u0627\\u0644\\u064a\\u0627\\u062a \\u062e\\u0644\\u0642 \\u0627\\u0644\\u0645\\u0633\\u0633\\u0627\\u062a \\u0627\\u0644\\u0645\\u0635\\u063a\\u0631\\u0629 \\u062a\\u0639\\u062f \\u0627\\u062d\\u062f \\u0627\\u0644\\u062e\\u0637\\u0648\\u0627\\u062a \\u0627\\u0644\\u0645\\u0637\\u0644\\u0648\\u0628\\u0629 \\u064a\\u062a\\u0645 \\u062a\\u0639\\u0648\\u064a\\u0636\\u0647\\u0627 \\u0628\\u062f\\u0648\\u0631\\u0629 \\u062a\\u062a\\u0639\\u0644\\u0642 \\u0628\\u0627\\u0644\\u064a\\u0627\\u062a \\u062a\\u0633\\u064a\\u064a\\u0631 \\u0627\\u0644\\u0645\\u0633\\u0633\\u0627\\u062a \\u0627\\u0644\\u0645\\u0635\\u063a\\u0631\\u0629 \\u0627\\u0644\\u0645\\u0635\\u0627\\u062f\\u0642\\u0629 \\u0627\\u0644\\u0645\\u0634\\u0631\\u0648\\u0639 \",\n          \"\\u0648\\u0632\\u0627\\u0631\\u0629 \\u0627\\u0644\\u062b\\u0642\\u0627\\u0641\\u0629 \\u062a\\u0646\\u0641\\u064a \\u0627\\u0637\\u0644\\u0627\\u0642 \\u0627\\u0633\\u0645\\u0627 \\u0627\\u0644\\u0635\\u062d\\u0627\\u0628\\u0629 \\u0642\\u0627\\u0639\\u0627\\u062a \\u0627\\u0644\\u0633\\u064a\\u0646\\u0645\\u0627\\u0646\\u0641\\u062a \\u0648\\u0632\\u0627\\u0631\\u0629 \\u0627\\u0644\\u062b\\u0642\\u0627\\u0641\\u0629 \\u0648\\u0627\\u0644\\u0641\\u0646\\u0648\\u0646 \\u0627\\u0644\\u0627\\u062d\\u062f \\u0627\\u0637\\u0644\\u0627\\u0642 \\u0627\\u0633\\u0645\\u0627 \\u0627\\u0644\\u0635\\u062d\\u0627\\u0628\\u0629 \\u0642\\u0627\\u0639\\u0627\\u062a \\u0627\\u0644\\u0633\\u064a\\u0646\\u0645\\u0627 \\u0627\\u0644\\u062c\\u0632\\u0627\\u0631 \\u0648\\u062c\\u0627 \\u0628\\u064a\\u0627\\u0646 \\u0644\\u0644\\u0648\\u0632\\u0627\\u0631\\u0629 \\u062a\\u062f\\u0627\\u0648\\u0644\\u062a \\u0635\\u0641\\u062d\\u0627\\u062a \\u0627\\u0644\\u0648\\u0633\\u0627\\u0637 \\u0627\\u0644\\u0627\\u062c\\u062a\\u0645\\u0627\\u0639\\u064a\\u0629 \\u0627\\u0637\\u0644\\u0627\\u0642 \\u062a\\u0633\\u0645\\u064a\\u0627\\u062a \\u062d\\u0642\\u064a\\u0642\\u064a\\u0629 \\u0642\\u0627\\u0639\\u0627\\u062a \\u0627\\u0644\\u0633\\u064a\\u0646\\u0645\\u0627 \\u0627\\u0644\\u062c\\u0632\\u0627\\u0631 \\u0648\\u0627\\u0633\\u062a\\u062e\\u062f\\u0645 \\u0635\\u0648\\u0631\\u0627 \\u0645\\u0632\\u064a\\u0641\\u0629 \\u0628\\u0627\\u0633\\u0645\\u0627 \\u0627\\u0644\\u0635\\u062d\\u0627\\u0628\\u0629 \\u0631\\u0636\\u0648\\u0627\\u0646 \\u0627\\u0644\\u0644\\u0647 \\u0648\\u062a\\u0627\\u0628\\u0639\\u062a \\u0648\\u0627\\u0630 \\u062a\\u0646\\u0641\\u064a \\u0648\\u0632\\u0627\\u0631\\u0629 \\u0627\\u0644\\u062b\\u0642\\u0627\\u0641\\u0629 \\u0648\\u0627\\u0644\\u0641\\u0646\\u0648\\u0646 \\u0627\\u0644\\u062a\\u0632\\u064a\\u064a\\u0641 \\u064a\\u0637\\u0627\\u0644 \\u0627\\u0644\\u0642\\u0627\\u0639\\u0627\\u062a \\u0641\\u0627\\u0646\\u0647\\u0627 \\u062a\\u0633\\u062c\\u0644 \\u0627\\u0646 \\u062a\\u0633\\u0645\\u064a\\u0629 \\u0633\\u064a\\u0646\\u0645\\u0627 \\u0627\\u0641\\u0644\\u0648 \\u0633\\u064a\\u062f\\u064a \\u0639\\u0642\\u0628\\u0629 \\u0633\\u0628\\u0639\\u064a\\u0646\\u064a\\u0627\\u062a \\u0627\\u0644\\u0642\\u0631\\u0646 \\u0627\\u0644\\u0645\\u0627\\u0636\\u064a \\u0648\\u0644\\u064a\\u062f\\u0629 \\u0627\\u0639\\u0627\\u062f\\u0629 \\u0627\\u0644\\u0641\\u062a\\u062d \\u0627\\u0633\\u062a\\u0644\\u0645\\u062a\\u0647\\u0627 \\u0648\\u0632\\u0627\\u0631\\u0629 \\u0627\\u0644\\u062b\\u0642\\u0627\\u0641\\u0629 \\u0648\\u0627\\u0644\\u0641\\u0646\\u0648\\u0646 \\u0628\\u0644\\u062f\\u064a\\u0629 \\u0627\\u0641\\u0644\\u0648 \\u0633\\u0646\\u0629 \\u0628\\u0642\\u0631\\u0627\\u0631 \\u062a\\u062e\\u0635\\u064a\\u0635 \\u0648\\u062a\\u0645 \\u062a\\u0631\\u0645\\u064a\\u0645\\u0647\\u0627 \\u0648\\u062a\\u062c\\u0647\\u064a\\u0632\\u0647\\u0627 \\u0644\\u062a\\u0643\\u0648\\u0646 \\u0639\\u0645\\u0644\\u064a\\u0629 \\u0648\\u0627\\u0643\\u062f\\u062a \\u0648\\u0632\\u0627\\u0631\\u0629 \\u0627\\u0644\\u062b\\u0642\\u0627\\u0641\\u0629 \\u0648\\u0627\\u0644\\u0641\\u0646\\u0648\\u0646 \\u0627\\u0646\\u0647\\u0627 \\u062a\\u0648\\u0644\\u064a \\u0639\\u0646\\u0627\\u064a\\u0629 \\u0643\\u0628\\u0631\\u064a \\u0644\\u062a\\u0633\\u0645\\u064a\\u0627\\u062a \\u0642\\u0627\\u0639\\u0627\\u062a \\u0627\\u0644\\u0633\\u064a\\u0646\\u0645\\u0627 \\u0648\\u062a\\u0631\\u0628\\u0637 \\u0627\\u0644\\u0641\\u0636\\u0627\\u0627\\u062a \\u064a\\u0646\\u0633\\u062c\\u0645 \\u0648\\u0631\\u0645\\u0648\\u0632 \\u0627\\u0644\\u0627\\u0645\\u0629 \\u0648\\u062a\\u0635\\u063a\\u064a \\u0627\\u0644\\u064a \\u0627\\u0644\\u0627\\u0631\\u0627 \\u0627\\u0644\\u0645\\u0639\\u062a\\u062f\\u0644\\u0629 \\u0648\\u0627\\u0644\\u0627\\u0635\\u064a\\u0644\\u0629 \"\n        ],\n        \"semantic_type\": \"\",\n        \"description\": \"\"\n      }\n    },\n    {\n      \"column\": \"label\",\n      \"properties\": {\n        \"dtype\": \"number\",\n        \"std\": 0,\n        \"min\": 0,\n        \"max\": 1,\n        \"num_unique_values\": 2,\n        \"samples\": [\n          0,\n          1\n        ],\n        \"semantic_type\": \"\",\n        \"description\": \"\"\n      }\n    }\n  ]\n}"
            }
          },
          "metadata": {},
          "execution_count": 44
        }
      ],
      "source": [
        "# Reduce the size of the dataset by sampling a fraction (e.g., 10%)\n",
        "sample_fraction = 0.2\n",
        "ar_dataset_sampled = ar_dataset.sample(frac=sample_fraction, random_state=42)\n",
        "X_train_sample, X_test_sample,y_train_sample, y_test_sample = train_test_split(ar_dataset_sampled[\"text\"]\n",
        "                                                                , ar_dataset_sampled['label']\n",
        "                                                                , test_size=0.1,\n",
        "                                                                shuffle=True)\n",
        "ar_dataset_sampled.head()"
      ]
    },
    {
      "cell_type": "code",
      "execution_count": null,
      "metadata": {
        "id": "5ebf23f5",
        "outputId": "50af7da0-9e17-4064-b73d-4b9b0279ae3a",
        "colab": {
          "base_uri": "https://localhost:8080/"
        }
      },
      "outputs": [
        {
          "output_type": "stream",
          "name": "stdout",
          "text": [
            "Requirement already satisfied: nltk in /usr/local/lib/python3.10/dist-packages (3.8.1)\n",
            "Requirement already satisfied: click in /usr/local/lib/python3.10/dist-packages (from nltk) (8.1.7)\n",
            "Requirement already satisfied: joblib in /usr/local/lib/python3.10/dist-packages (from nltk) (1.4.2)\n",
            "Requirement already satisfied: regex>=2021.8.3 in /usr/local/lib/python3.10/dist-packages (from nltk) (2023.12.25)\n",
            "Requirement already satisfied: tqdm in /usr/local/lib/python3.10/dist-packages (from nltk) (4.66.4)\n"
          ]
        }
      ],
      "source": [
        "!pip install nltk\n"
      ]
    },
    {
      "cell_type": "code",
      "execution_count": null,
      "metadata": {
        "id": "b3fa2044",
        "outputId": "c23300ef-6327-4193-8e0a-cca99db1e0ca",
        "colab": {
          "base_uri": "https://localhost:8080/"
        }
      },
      "outputs": [
        {
          "output_type": "stream",
          "name": "stderr",
          "text": [
            "/usr/local/lib/python3.10/dist-packages/sklearn/feature_extraction/text.py:409: UserWarning: Your stop_words may be inconsistent with your preprocessing. Tokenizing the stop words generated tokens ['آمين', 'أب', 'أخ', 'أفعل', 'أفعله', 'ؤلاء', 'إل', 'إم', 'ات', 'اتان', 'ارتد', 'ان', 'انفك', 'برح', 'تان', 'تبد', 'تحو', 'تعل', 'حد', 'حم', 'حي', 'خب', 'ذار', 'سيما', 'صه', 'ظل', 'ظن', 'عد', 'قط', 'مر', 'مكان', 'مكانكن', 'نب', 'هات', 'هب', 'واها', 'وراء'] not in stop_words.\n",
            "  warnings.warn(\n"
          ]
        },
        {
          "output_type": "stream",
          "name": "stdout",
          "text": [
            "Feature Names: ['اابريل' 'اابريل ملف' 'اابريل ملف المرتزقة' ... 'ييلاطو رشيد'\n",
            " 'ييلاطو رشيد شو' 'ييلاطو رشيد شو الفيديواستضاف']\n",
            "\n",
            "Table of Features for Each N-gram:\n",
            "                                                 Text      1-gram  \\\n",
            "0   بورتريه الحاجة الحمداوية سيدة فن العيطة بالمغر...   (شاهدوا,)   \n",
            "1   تم تمديد اجال اقتنا قسيمة السياراتمددت المديري...   (الحلقة,)   \n",
            "2   ثلاث قطاعات تهتز اليوم وقع الاضراباتتصاعدت وتي...  (التاسعة,)   \n",
            "3   قطاع العمل التشغيل الضمان الاجتماعيهذه الوثاق ...    (سلسلة,)   \n",
            "4   فتح مسابقة لتوظيف طالب قاضاعلنت وزارة العدل فت...      (دار,)   \n",
            "..                                                ...         ...   \n",
            "95  ايران ادارة بايدن رفع العقوبات محادثات احيا ال...    (وفاته,)   \n",
            "96  اضيفي الي منزلك لمسة طبيعية الاكسسوارات يدوية ...     (خميس,)   \n",
            "97  الاهلي المصري يضع قدما نصف نهاي ابطال افريقياح...    (دقيقة,)   \n",
            "98  حزب ايطالي يطالب بتوضيح حدث قبالة السواحل اللي...     (ليلا,)   \n",
            "99  الشرطة تستبعد ان يكون الهجوم بسكين المانيا بدا...    (اليكم,)   \n",
            "\n",
            "                 2-gram                      3-gram  \\\n",
            "0      (شاهدوا, الحلقة)   (شاهدوا, الحلقة, التاسعة)   \n",
            "1     (الحلقة, التاسعة)    (الحلقة, التاسعة, سلسلة)   \n",
            "2      (التاسعة, سلسلة)       (التاسعة, سلسلة, دار)   \n",
            "3          (سلسلة, دار)  (سلسلة, دار, السلعةتتمحور)   \n",
            "4   (دار, السلعةتتمحور)    (دار, السلعةتتمحور, قصة)   \n",
            "..                  ...                         ...   \n",
            "95        (وفاته, خميس)        (وفاته, خميس, دقيقة)   \n",
            "96        (خميس, دقيقة)         (خميس, دقيقة, ليلا)   \n",
            "97        (دقيقة, ليلا)        (دقيقة, ليلا, اليكم)   \n",
            "98        (ليلا, اليكم)        (ليلا, اليكم, اعادة)   \n",
            "99       (اليكم, اعادة)      (اليكم, اعادة, الحلقة)   \n",
            "\n",
            "                                 4-gram  \n",
            "0      (شاهدوا, الحلقة, التاسعة, سلسلة)  \n",
            "1         (الحلقة, التاسعة, سلسلة, دار)  \n",
            "2   (التاسعة, سلسلة, دار, السلعةتتمحور)  \n",
            "3       (سلسلة, دار, السلعةتتمحور, قصة)  \n",
            "4        (دار, السلعةتتمحور, قصة, سلسة)  \n",
            "..                                  ...  \n",
            "95           (وفاته, خميس, دقيقة, ليلا)  \n",
            "96           (خميس, دقيقة, ليلا, اليكم)  \n",
            "97          (دقيقة, ليلا, اليكم, اعادة)  \n",
            "98         (ليلا, اليكم, اعادة, الحلقة)  \n",
            "99      (اليكم, اعادة, الحلقة, التاسعة)  \n",
            "\n",
            "[100 rows x 5 columns]\n"
          ]
        }
      ],
      "source": [
        "\n",
        "from nltk.util import ngrams\n",
        "import pandas as pd\n",
        "from nltk.corpus import stopwords\n",
        "\n",
        "# Assuming you have a DataFrame named ar_dataset with a 'text' column\n",
        "# and ar_dataset_sampled is a downsampled dataset\n",
        "\n",
        "# Define the n-gram range\n",
        "ngram_range = (1, 4)\n",
        "\n",
        "# Create CountVectorizer with stop words and n-gram range\n",
        "vectorizer = CountVectorizer(analyzer='word', stop_words=stopwords.words('arabic'), ngram_range=ngram_range)\n",
        "\n",
        "# Fit and transform the text to get the features\n",
        "X = vectorizer.fit_transform(ar_dataset_sampled['text'].values.astype('U'))\n",
        "\n",
        "# Display the feature names\n",
        "feature_names = vectorizer.get_feature_names_out()\n",
        "print(\"Feature Names:\", feature_names)\n",
        "\n",
        "# Create a DataFrame to store the n-gram features\n",
        "data = {\"Text\": []}\n",
        "\n",
        "# Display n-gram features for each sample\n",
        "for sample_index in range(len(ar_dataset_sampled)):\n",
        "    data[\"Text\"].append(ar_dataset_sampled['text'].iloc[sample_index])\n",
        "\n",
        "    for i in range(1, ngram_range[1] + 1):\n",
        "        ngram_features = list(ngrams(ar_dataset_sampled['text'].iloc[sample_index].split(), i))\n",
        "\n",
        "        # Pad the feature list with zeros to ensure equal length\n",
        "        padded_features = ngram_features + [0] * (5 - len(ngram_features))\n",
        "        data[f\"{i}-gram\"] = padded_features\n",
        "\n",
        "# Find the common length for all lists in the DataFrame\n",
        "min_length = min(len(data[col]) for col in data)\n",
        "\n",
        "# Trim all lists to the common length\n",
        "for col in data:\n",
        "    data[col] = data[col][:min_length]\n",
        "\n",
        "# Create a DataFrame to display the results\n",
        "result_df = pd.DataFrame(data)\n",
        "print(\"\\nTable of Features for Each N-gram:\")\n",
        "print(result_df)\n"
      ]
    },
    {
      "cell_type": "code",
      "execution_count": null,
      "metadata": {
        "id": "3e9a696b",
        "outputId": "faace6dc-2e51-4e16-c41b-dbd599702bab",
        "colab": {
          "base_uri": "https://localhost:8080/"
        }
      },
      "outputs": [
        {
          "output_type": "stream",
          "name": "stdout",
          "text": [
            "       بورتريه الحاجة الحمداوية سيدة فن العيطة بالمغرب ثارت وجه المستعمروقفت المسرح غنت وابدعت رواع الفن الشعبي التراثي مدي عقود وفجر اليوم رحلت الحاجة الحمداوية عمر ناهز عاما ايقونة الاغنية الشعبية وبالاغنية الشعبية ثارت وجه المستعمر الفرنسيظلت ابنة الدار البيضا وفية لنمطها الموسيقي تحمل الدف المعروف بالبندير انيقة بقفطانها المغربيبورتريه الراحلة الحمداوية الفيديو التالي   \\\n",
            "1-gram                                          (شاهدوا,)                                                                                                                                                                                                                                                                                                                                 \n",
            "2-gram                                   (شاهدوا, الحلقة)                                                                                                                                                                                                                                                                                                                                 \n",
            "3-gram                          (شاهدوا, الحلقة, التاسعة)                                                                                                                                                                                                                                                                                                                                 \n",
            "4-gram                   (شاهدوا, الحلقة, التاسعة, سلسلة)                                                                                                                                                                                                                                                                                                                                 \n",
            "\n",
            "       تم تمديد اجال اقتنا قسيمة السياراتمددت المديرية العامة للضراب وبصفة استثناية مهلة اقتنا قسيمة السيارات الي غاية يوم الخميس افريل الرابعة زوالا مقرر نهايتها يوم امس الاربعا وقالت المديرية العامة للضراب بيان اصدرته الاربعا ان القرار يهدف الي تسهيل عملية اقتنا قسيمة السيارات للمواطنين مالكي السيارات تعذر اقتناها الاجال السابقة كشفت المديرية ان القسيمات متوفرة القيم مستوي قباضات الضراب ومكاتب البريد موضحة ان مالكي السيارات النفعية المخصصة للاستغلال تحدد قسيمتها حمولة اما يخص سيارات نقل المسافرين فان المبلغ يحدد عدد المقاعد وقالت المديرية العامة للضراب ان تاخير اقتنا القسيمة انقضا مدة التسديد يدي الي تطبيق الغرامة الجباية المنصوص المادة قانون الطابع المقدرة بزيادة قدرها بالماة قيمة القسيمة اقتنا تلقاي القسيمة وترفع الزيادة الي بالماة اذا تمت معاينة المخالفة الاعوان المهلين وذكر البيان ان عدم الصاق واستظهار القسيمة الزجاج الامامي للسيارة يدي حتما الي تطبيق غرامة جباية تساوي بالماة مبلغ القسيمة طبق للمادة قانون الطبع جمال الدين حديد   \\\n",
            "1-gram                                          (الحلقة,)                                                                                                                                                                                                                                                                                                                                                                                                                                                                                                                                                                                                                                                                                                                                                                                                                                                                                                                             \n",
            "2-gram                                  (الحلقة, التاسعة)                                                                                                                                                                                                                                                                                                                                                                                                                                                                                                                                                                                                                                                                                                                                                                                                                                                                                                                             \n",
            "3-gram                           (الحلقة, التاسعة, سلسلة)                                                                                                                                                                                                                                                                                                                                                                                                                                                                                                                                                                                                                                                                                                                                                                                                                                                                                                                             \n",
            "4-gram                      (الحلقة, التاسعة, سلسلة, دار)                                                                                                                                                                                                                                                                                                                                                                                                                                                                                                                                                                                                                                                                                                                                                                                                                                                                                                                             \n",
            "\n",
            "       ثلاث قطاعات تهتز اليوم وقع الاضراباتتصاعدت وتيرة الاحتجاجات الايام الاخيرة عدد القطاعات وتوقف موظفوها العمل لرفع مطالب اجتماعية تتلخص مجملها صرف منح وعلاوات ورفع الاجور ودراسة جدية لعدد المطالب الاخري واهتزت اليوم الاثنين ثلاثة قطاعات وقع احتجاجات احدها فجاياحيث توقف اساتذة الاطوار التعليمية الثلاثة الابتداي والمتوسط والثانوي العمل عدد المسسات التربوية بناا دعوة المجلس الوطني المستقل لمستخدمي التدريس للقطاع ثلاثي الاطوار للتربية كنابست حدد يومي ال افريل الجاري للاضراب احتجاجا عدم تكفل الوصاية بمطالبهم وبالمقابل يواصل مستخدمو قطاع التجارة اضرابهم الدوري لثلاثة ايام اسبوعيا اجل الضغط وزارة التجارة لتجسيد مطالبهم ميدانيا بعيدا جلسات الحوار تثمر يطمح اليه عمال قطاع التجارة وبشكل مفاجدخل عمال عدد المراكز البريدية مختلف ولايات الوطن اضراب مفاج العمل اليوم تعرف المراكز البريدية توافدا كبيرا للمواطنين لسحب الاموال عشية حلول رمضان المبارك وتوقف عمال عدد مكاتب البريد العمل للمطالبة بصرف المنح والعلاوات المتاخرة ومست الاضرابات مخرا قطاعات عديدة غرار الصحة والتربية والتجارة والبريد يسعي عمالها الي الضغط مسوليها اجل تحقيق مطالبهم اختلافها   \\\n",
            "1-gram                                         (التاسعة,)                                                                                                                                                                                                                                                                                                                                                                                                                                                                                                                                                                                                                                                                                                                                                                                                                                                                                                                                                                                                                                   \n",
            "2-gram                                   (التاسعة, سلسلة)                                                                                                                                                                                                                                                                                                                                                                                                                                                                                                                                                                                                                                                                                                                                                                                                                                                                                                                                                                                                                                   \n",
            "3-gram                              (التاسعة, سلسلة, دار)                                                                                                                                                                                                                                                                                                                                                                                                                                                                                                                                                                                                                                                                                                                                                                                                                                                                                                                                                                                                                                   \n",
            "4-gram                (التاسعة, سلسلة, دار, السلعةتتمحور)                                                                                                                                                                                                                                                                                                                                                                                                                                                                                                                                                                                                                                                                                                                                                                                                                                                                                                                                                                                                                                   \n",
            "\n",
            "       قطاع العمل التشغيل الضمان الاجتماعيهذه الوثاق الادارية المطلوبة الملفات الادارية تم الغاهااعلنت وزارة العمل التشغيل الضمان الاجتماعي الاربعا الغا وثيقة مطلوبة الملفات الادارية عبر المسسات التابعة للقطاع اطار استراتيجية رقمنة وعصرنة القطاع لمحاربة البيروقراطية وتخفيف العب المواطنين ورد بيان الوزارة اطلعت المغرب الاوسط عليهفي اطار الاستراتيجية المسطرة لرقمنة وعصرنة القطاع لمحاربة البيروقراطية وتخفيف العب المواطنين تعلم وزارة العمل والتشغيل والضمان الاجتماعي انه تم اعادة النظر الوثاق الادارية تطلب المواطنين للحصول او الاستفادة الخدمات والاداات تقدمها الهيات التابعة للقطاع تقرر اعفا المواطن او المسسات تقديم الوثاق تتولي الهيات الوصاية انجازها اضافة الي شهادة الميلاد شهادة الجنسية وصحيفة السوابق العدليةوكمرحلة اولي مجال العمل تم اعفا المواطنين والمسسات تقديم يلي نسخة جواز العمل او رخصة العمل المقت او التصريح بعامل اجنبي خاضع لجواز العمل ملف التاشير عقود العمل النموذجية للعمال الاجانب مفتشية العمل وشهادة الجنسية وصحيفة السوابق العدلية رقم وشهادة الميلاد ملف تسجيل المنظمة النقابية مجال التشغيل تم اعفا المستخدم تقديم يليشهادة ادا المستحقات المحينة لصناديق الضمان الاجتماعي حالة تحويل عقود الادماج المهني الي عقود عمل مدعمة ملف عقد العمل المدعم وجدول التصريح بالمستفيدين هية الضمان الاجتماعي والتصريح بالاشتراك ووضعية الاستهلاك ملف المحاسبة لصب مساهمة الدولة ملف عقد العمل المدعم وجهاز الادماج المهني والادماج الاجتماعي وشهادة ادا المستحقات المحينة لصناديق الضمان الاجتماعي ملف الموافقة المبدية لتشغيل عمال اجانب او جزاريين ونسخة بطاقة الانتساب للضمان الاجتماعي ملف تجديد جواز العمل للعامل الاجنبي او ملف طلب الترخيص الاستثناي بالنسبة العامل الاجنبي تجاوز سنة اعفا الاشخاص الطبيعيين تقديمشهادة الجنسية وصحيفة السوابق العدلية ملف طلب احداث هية خاصة معتمدة لتنصيب العمال واعفا اصحاب عقود العمل المدعمة تقديم كشف الراتب السنوي ونسخة العقد ساري المفعول وقرار فسخ العقد وشهادة توقيف الراتب للموافقة طلب التحويل واعفا حاملي المشاريع جهاز انشا المسسة المصغرة المسير طرف الصندوق الوطني للتامين البطالة تقديمشهادة التسجيل الوكالة الوطنية للتشغيل مرحلة ايداع الملف ونسخة شهادة تسجيل الصندوق الوطني للضمان الاجتماعي الاجرا مرحلة تمويل المشروع وشهادات تحديث الاشتراكات اتجاه صناديق الضمان الاجتماعي مرحلة انجاز واستغلال المشروع مجال الضمان الاجتماعياما مجال الضمان الاجتماعي تم اعفا المتقاعدين تقديم شهادة الدخل لتحديد نسبة التكفل بالاداات العينية او مستوي صندوق واعفا الممن اجتماعيا تقديم شهادة الميلاد رقم او شهادة الوفاة او عقد الزواج للاستفادة الاداات مستوي صندوق واعفا الاجرا تقديم شهادة ميلاد الممن اجتماعيا او الحقوق او شهادة عدم انتساب للاستفادة الخدمات العينية مستوي صندوق واعفا الاجرا تقديم شهادة ميلاد الحقوق او شهادة عدم الانتساب للممن اجتماعيا او الحقوق للاستفادة منحة الوفاة واعفا الممن اجتماعيا التنقل لمراكز المراقبة الطبية للضمان الاجتماعي للحصول راي طبي للادوية الخاضعة لشروط خاصة اما يخص التقاعد تم اعفا الاجرا تقديم شهادة ميلاد الممن اجتماعيا او شهادة عدم انتساب للممن اجتماعيا والزوجة للاستفادة معاش او منحة التقاعد المباشر واعفا الاجرا تقديم شهادة ميلاد الممن اجتماعيا او شهادة عدم انتساب الحقوق للاستفادة معاش او منحة التقاعد المنقول اعفا ابنا الشهدا الاجرا الاجرا تقديم شهادة الشهيد للاستفادة معاش او منحة تقاعد واعفا الابنا الذكور المعاقين بلغوا سن الرشد تقديم نسخة بطاقة المعاقن للاستفادة معاش التقاعد المنقول وبخصوص الانتساب تم اعفا المسسات المنتسبة لصندوق تقديم نسخة السجل التجاري ونسخة العقد التاسيسي للشركة يتعلق الامر او ا او الاعفا نسخة بطاقة الحرفي اجل تسليم شهادة الانتساب للمستخدم المنتسب جديدا يخص التعاقد العيادات الخاصة والصيدلياتفقد تم اعفا اصحاب العيادات الخاصة والصيدليات ترغب التعاقد الصندوق الوطني للضمان الاجتماعي الاجرا تقديم شهادة استيفا الاشتراكات ونسخة السجل التجاري واشار البيان الي ان الوثاق تم سحبها جات بناا توجيهات وزير العمل الاجتماع التنسيقي المنعقد يوم الاثنين جانفي واضاف البيان ان القطاع يقوم بالتحيين الدوري والمستمر للوثاق يمكن الاستغنا واستبدالها بتطبيقات وبرامج رقمية وياتي لمواكبة عصر تكنولوجيا المعلوماتية الحديثة وادماج الثقافة الرقمية لتحقيق تكفل اسرع وانجع بانشغالات المواطنين وتوفير خدمات نوعية وباقل التكاليف امال   \\\n",
            "1-gram                                           (سلسلة,)                                                                                                                                                                                                                                                                                                                                                                                                                                                                                                                                                                                                                                                                                                                                                                                                                                                                                                                                                                                                                                                                                                                                                                                                                                                                                                                                                                                                                                                                                                                                                                                                                                                                                                                                                                                                                                                                                                                                                                                                                                                                                                                                                                                                                                                                                                                                                                                                                                                                                                                                                                                                                                                                                                                                                                                                                                                                                                                                                                                                                                                                                                                                                                                                                                                                                                                                                                                                                                                                                                                                                                                                                                                                                                                                                                                                                                                                                                                                                                                       \n",
            "2-gram                                       (سلسلة, دار)                                                                                                                                                                                                                                                                                                                                                                                                                                                                                                                                                                                                                                                                                                                                                                                                                                                                                                                                                                                                                                                                                                                                                                                                                                                                                                                                                                                                                                                                                                                                                                                                                                                                                                                                                                                                                                                                                                                                                                                                                                                                                                                                                                                                                                                                                                                                                                                                                                                                                                                                                                                                                                                                                                                                                                                                                                                                                                                                                                                                                                                                                                                                                                                                                                                                                                                                                                                                                                                                                                                                                                                                                                                                                                                                                                                                                                                                                                                                                                                       \n",
            "3-gram                         (سلسلة, دار, السلعةتتمحور)                                                                                                                                                                                                                                                                                                                                                                                                                                                                                                                                                                                                                                                                                                                                                                                                                                                                                                                                                                                                                                                                                                                                                                                                                                                                                                                                                                                                                                                                                                                                                                                                                                                                                                                                                                                                                                                                                                                                                                                                                                                                                                                                                                                                                                                                                                                                                                                                                                                                                                                                                                                                                                                                                                                                                                                                                                                                                                                                                                                                                                                                                                                                                                                                                                                                                                                                                                                                                                                                                                                                                                                                                                                                                                                                                                                                                                                                                                                                                                                       \n",
            "4-gram                    (سلسلة, دار, السلعةتتمحور, قصة)                                                                                                                                                                                                                                                                                                                                                                                                                                                                                                                                                                                                                                                                                                                                                                                                                                                                                                                                                                                                                                                                                                                                                                                                                                                                                                                                                                                                                                                                                                                                                                                                                                                                                                                                                                                                                                                                                                                                                                                                                                                                                                                                                                                                                                                                                                                                                                                                                                                                                                                                                                                                                                                                                                                                                                                                                                                                                                                                                                                                                                                                                                                                                                                                                                                                                                                                                                                                                                                                                                                                                                                                                                                                                                                                                                                                                                                                                                                                                                                       \n",
            "\n",
            "       فتح مسابقة لتوظيف طالب قاضاعلنت وزارة العدل فتح مسابقة وطنية بالمدرسة العليا للقضا لتوظيف طالب قاضي سنة وتضمن العدد الاخير الجريدة الرسمية انه المرسوم التنفيذي الصادر ماي تم فتح مسابقة وطنية للقضا السنة الجارية ان تنطلق فترة التسجيلات الي ماي وتم تحديد فترة اجرا اختبارات القبول جويلية   \\\n",
            "1-gram                                             (دار,)                                                                                                                                                                                                                                               \n",
            "2-gram                                (دار, السلعةتتمحور)                                                                                                                                                                                                                                               \n",
            "3-gram                           (دار, السلعةتتمحور, قصة)                                                                                                                                                                                                                                               \n",
            "4-gram                     (دار, السلعةتتمحور, قصة, سلسة)                                                                                                                                                                                                                                               \n",
            "\n",
            "       مسار الراحلة الحاجة الحمداوية تحكيه اخر ظهور تلفزي لهاالجز الثاني زرعوالمدة تزيد نصف قرن ظلت الحاجة الحمداوية تصدح باغان ستبقي خالدة اذهان محبي فن العيطة مسار طويل حافل بالانجازات والخيبات تجربة ملية بالتحديات بداتها حرمت المراة الخروج المنزل تزوجت السابعة عشر عمرها وانجبت ولدها الوحيد انغام الموسيقي سكنتها طفلة صغيرة حركتها لتسير حلمها الغنا ستصبح رادة العيطة المرساوية واحدي اهرام الاغنية المغربية العدد الاول برنامجكم الجديد زرعوا يسلط عتيق بنشيكر الضو المشوار الفني الحافل بالعطا صور وشهادات تحكيه الفنانة الكبيرة بداياتها لقااتها الحفلات احيتها اعتقالها ومطاردتها ابان الحماية الفرنسية للمغرب الاحداث عاشتها   \\\n",
            "1-gram                                    (السلعةتتمحور,)                                                                                                                                                                                                                                                                                                                                                                                                                                                                                                                                                                                        \n",
            "2-gram                                (السلعةتتمحور, قصة)                                                                                                                                                                                                                                                                                                                                                                                                                                                                                                                                                                                        \n",
            "3-gram                          (السلعةتتمحور, قصة, سلسة)                                                                                                                                                                                                                                                                                                                                                                                                                                                                                                                                                                                        \n",
            "4-gram                     (السلعةتتمحور, قصة, سلسة, دار)                                                                                                                                                                                                                                                                                                                                                                                                                                                                                                                                                                                        \n",
            "\n",
            "       جراد يشرف التدشين الرسمي لمسسة ترقية وتسيير هياكل دعم المسسات الناشة الجيريا فانتوريشرف الوزير الاول عبد العزيز جراد يوم غد الثلاثا التدشين الرسمي لمسسة ترقية وتسيير هياكل دعم المسسات الناشة الجيريا فانتور المسسة المتواجدة دارتاك مستوي حظيرة دنيا بارك اولاد فايت بالجزار العاصمة بيان لمصالح الوزارة الاولي   \\\n",
            "1-gram                                             (قصة,)                                                                                                                                                                                                                                                                   \n",
            "2-gram                                        (قصة, سلسة)                                                                                                                                                                                                                                                                   \n",
            "3-gram                                   (قصة, سلسة, دار)                                                                                                                                                                                                                                                                   \n",
            "4-gram                           (قصة, سلسة, دار, السلعة)                                                                                                                                                                                                                                                                   \n",
            "\n",
            "       الدار البيضا المجلس الجماعي يتدارس مشروع تشييد نفق جديد بشارع المقاومةاعلن ريس مجلس مدينة الدار البيضاعبد العزيز العمري يوم الخميس الماضي الشروع دراسة مشروع تشييد نفق مروري جديد ياتي كامتداد لنفق دكار بشارع المقاومة بالعاصمة الاقتصادية نقله موقع فالنفق الجديد سيسمح للسيارات وعربات النقل بقطع الخط المستقبلي للترامواي سيمر عبر تقاطع شارع محمد السادس وشارع المقاومة   \\\n",
            "1-gram                                            (سلسة,)                                                                                                                                                                                                                                                                                                                              \n",
            "2-gram                                        (سلسة, دار)                                                                                                                                                                                                                                                                                                                              \n",
            "3-gram                                (سلسة, دار, السلعة)                                                                                                                                                                                                                                                                                                                              \n",
            "4-gram                         (سلسة, دار, السلعة, الحاج)                                                                                                                                                                                                                                                                                                                              \n",
            "\n",
            "       الرجا الرياضي يتعاقد رسميا التونسي لسعد الشابياعلن الرجا الرياضي رسميا تعاقده المدرب التونسي لسعد الشابي لخلافة جمال السلامي قدم استقالته الاسبوع الماضي واشارت ادارة الفريق الاخضر الي ان المدرب التونسي وقع عقدا يمتد لنهاية الموسم الرياضي الجاري قابل للتجديد نادي الرجا الرياضي يتعاقد المدرب التونسي لسعد الشابي وحل التونسي لسعد الشابي بمطار محمد الخامس بمدينة الدار البيضا مسا امس الاثنين ان يوقع اليوم رسميا عقد اشرافه النادي وسبق للسعد الشابي ان قاد الاتحاد الرياضي المنستيري لاحراز لقب كاس تونس واحتلال المركز الثالث منافسات الدوري التونسي الموسم المنصرم علما انه خاض تجارب الدوري النمساوي والتايلاندي   \\\n",
            "1-gram                                             (دار,)                                                                                                                                                                                                                                                                                                                                                                                                                                                                                                                                                                              \n",
            "2-gram                                      (دار, السلعة)                                                                                                                                                                                                                                                                                                                                                                                                                                                                                                                                                                              \n",
            "3-gram                               (دار, السلعة, الحاج)                                                                                                                                                                                                                                                                                                                                                                                                                                                                                                                                                                              \n",
            "4-gram                         (دار, السلعة, الحاج, سلام)                                                                                                                                                                                                                                                                                                                                                                                                                                                                                                                                                                              \n",
            "\n",
            "       مقري نواب حمس حقيقة نواب الشرفوصف ريس حركة مجتمع السلم حمس عبد الرزاق مقري نزاب الحركة بنوان الشرف منشور لع صفحته الرسمية فايسبوك قال مقري النواب رجالا ونسا تشرفت بالعمل كريس حركة مجتمع السلم رفقة اخواني واختي المكتب التنفيذي الوطني نواب دخلوا البرلمان بالارادة الشعبية الفعلية شرفوا مقاعدهم بالنزاهة ونظافة اليد والابتعاد الشبهات بخدمة المواطنين ولاياتهم بقدر استطاعتهم بالمساهمات التشريعية والرقابية التعديلات والمبادرات رغم التوازنات المختلة المعلومة بالحضور السياسي والاعلامي والشجاعة والحكمة الدفاع الحريات ومكافحة الفساد والدفاع القضايا العادلة راسها القضية الفلسطينية بانضباطهم الحزبي والاحترام المتبادل   \\\n",
            "1-gram                                          (السلعة,)                                                                                                                                                                                                                                                                                                                                                                                                                                                                                                                                                                                    \n",
            "2-gram                                    (السلعة, الحاج)                                                                                                                                                                                                                                                                                                                                                                                                                                                                                                                                                                                    \n",
            "3-gram                              (السلعة, الحاج, سلام)                                                                                                                                                                                                                                                                                                                                                                                                                                                                                                                                                                                    \n",
            "4-gram                        (السلعة, الحاج, سلام, صانع)                                                                                                                                                                                                                                                                                                                                                                                                                                                                                                                                                                                    \n",
            "\n",
            "        ...  \\\n",
            "1-gram  ...   \n",
            "2-gram  ...   \n",
            "3-gram  ...   \n",
            "4-gram  ...   \n",
            "\n",
            "       وزير الاقتصاد يتفقد مخازن صندوق موازنة الاسعار بنغازيتفقد وزير الاقتصاد والتجارة محمد الحويج مخازن السلع التموينية التابعة لصندوق موازنة الاسعار بمدينة بنغازي للاطلاع الحالة العامة للصندوق والسعة التخزينية ورافق الحويج زيارته مدير ادارة صندوق موازنة الاسعار محمد البوعيشي اطلع الطرفان ظروف التخزين والقدرة الاستيعابية واصناف وكميات السلع المتوفرة الي اكد المكتب الاعلامي للوزارة ان الوزير اعتمد محاضر توحيد الجهات التابعة للوزارة ممثلة الهية العامة لتشجيع الاستثمار وشون الخصخصة وهية الاشراف التامين ومركز تنمية الصادرات   \\\n",
            "1-gram                                            (اخوة,)                                                                                                                                                                                                                                                                                                                                                                                                                                                                                          \n",
            "2-gram                                    (اخوة, يكتشفون)                                                                                                                                                                                                                                                                                                                                                                                                                                                                                          \n",
            "3-gram                            (اخوة, يكتشفون, الحياة)                                                                                                                                                                                                                                                                                                                                                                                                                                                                                          \n",
            "4-gram                    (اخوة, يكتشفون, الحياة, السرية)                                                                                                                                                                                                                                                                                                                                                                                                                                                                                          \n",
            "\n",
            "       النجمة الثالثة تزين قميص حمدو الهونييتوج اللاعب الدولي الليبي حمدو الهوني مسا اليوم بلقب البطولة التونسية المحترفة فريقه الترجي للمرة الثالثة التوالي مسيرتهوكان رفاق الهوني حسمو اللقب اربع جولات نهاية الدوري وتحديدا مباراة الملعب التونسي فاز الترجي بهدف نظيف احرزه المدافع عبدالقادر بدران ويسعي الهوني وفريقه عقب التتويج لتدارك خسارة ذهاب ربع نهاي ابطال افريقيا امام شباب بلوزداد وقلب النتيجة الفريق الجزاري موقعة رادس يوم السبت المقبل   \\\n",
            "1-gram                                         (يكتشفون,)                                                                                                                                                                                                                                                                                                                                                                                                     \n",
            "2-gram                                  (يكتشفون, الحياة)                                                                                                                                                                                                                                                                                                                                                                                                     \n",
            "3-gram                          (يكتشفون, الحياة, السرية)                                                                                                                                                                                                                                                                                                                                                                                                     \n",
            "4-gram                 (يكتشفون, الحياة, السرية, لوالدهم)                                                                                                                                                                                                                                                                                                                                                                                                     \n",
            "\n",
            "       تعديلات ضرورية لاصلاح عمل البرلمان المقبلالحسين المسورياعتقد حان الوقت ان نقيم تجربة المتمر الوطني والبرلمان خلفت الكثير الاسلة صلاحيات المسسة التشريعية ودورها حدث انتجته ثقافة سياسية سلبية عززت يعتقده الكثير الليبيين بعدم جدوي الانتخابات ووجود المسسة باعتبارها اصبحت رمزا للفساد الاداري والمالي النواب خانوا ناخبيهم ودورهم الرقابي وظهرت مظاهر الثرا الفاحش واولادهم فالمتابع لممارسات المسسة التشريعية ليبيا سيجد انها اصبحت تجمع السلطة التشريعية والتنفيذية تعد مهمتها تشريعية رقابية دورها الاساسي اصبحت جزا السلطة التنفيذية الحكومة رقيبا بسبب مشاركة النواب اختيار وفرض الوزرا ريس الحكومة مقابل منح الثقة يفتح باب الفساد والابتزاز ويجعل النواب يدافعون وزراهم وبالتالي انتاج حكومات فاسدة وافشال اي مسعي لرقابة الحكومة ومسالتها حتي النواب الشرفا والمحترمين نر البرلمان يقوم بجلسات مسالة حقيقية للحكومة تعمل المناطق التابعة حكومة الثني سنوات رغم تقصيرها وفسادها وتجاوزاتها ومخالفتها وفقا لتقارير ديوان المحاسبة وهية الرقابة الادارية خاصة ان اشترط ريسها عبدالله الثني ان تكون المسالة علنا امام الليبيين واتهم الثني النواب بانهم مطالب ومصالح خاصة يريدون الوزرا تنفيذها بالمخالفة للقانون وحتي جات فرصة انها الانقسام الحكومي الا ان جلسة البرلمان سرت منح الثقة لحكومة الوحدة الوطنية الدبيبة اثبتت ان النواب شركا الحكومة الجديدة وبشهادة ريسها قال انه يختر الوزرا الا وزيرا واحدا وبالتالي امام تكرار المشهد يبدو انه اصبح اكثر ترسخا وحقا مكتسبا للنواب اعتقد انه اصبح الضروري وضع تعديلات ضرورية لاصلاح عمل ودور البرلمان المقبل تحديد صلاحياته ومهامه اجل ان يتم الاخذ مشروع الدستور الدام للبلاد واعتقد ان اول خطوة اصلاح عمل المسسة التشريعية سحب صلاحية وسلطة منح الثقة للحكومة النواب وارجاعها الي الشعب الليبي مصدر السلطات بانتخاب ريس الحكومة الشعب بشكل مباشر وبالتالي تكون الثقة منحت الشعب حاجة الي منحها نواب البرلمان وسيشكل حكومته وفق قناعته بكفاة الوزرا تنفيذ برنامج حكومته طرحه اجرا الانتخابات الشعب عبر وسال الاعلام والمناظرات منافسيه وصوت الشعب الليبي يخضع ريس الحكومة الفاز بثقة الشعب تشكيل حكومته لاي ابتزاز النواب سيتحمل مسولية فشل وزرا الحكومة او يفخر بنجاحهم اما البرلمان فيبقي دوره تشريعيا رقابيا بمراقبة الحكومة المشاركة تشكيلها والرقابة تكون باستدعا الوزرا ومسالتهم شكاوي المواطنين يمثلونهم والوزير يثبت تقصيره او فساده ترفع شكوي الي الناب العام يجب ناب البقا منطقته ومدينته والتواصل ناخبيه والاستماع الي مشاكلهم وكيفية حلها بترجمتها الي مشروعات قوانين ليعرضها جلسات مجلس النواب واقناع زملاه باقي المناطق بتبني القوانين والتصويت   \\\n",
            "1-gram                                          (الحياة,)                                                                                                                                                                                                                                                                                                                                                                                                                                                                                                                                                                                                                                                                                                                                                                                                                                                                                                                                                                                                                                                                                                                                                                                                                                                                                                                                                                                                                                                                                                                                                                                                                                                                                                                                                                                                                                                                                                                                                                                                                                                                                                                                                                                                                                                                                                                                                                        \n",
            "2-gram                                   (الحياة, السرية)                                                                                                                                                                                                                                                                                                                                                                                                                                                                                                                                                                                                                                                                                                                                                                                                                                                                                                                                                                                                                                                                                                                                                                                                                                                                                                                                                                                                                                                                                                                                                                                                                                                                                                                                                                                                                                                                                                                                                                                                                                                                                                                                                                                                                                                                                                                                                                        \n",
            "3-gram                          (الحياة, السرية, لوالدهم)                                                                                                                                                                                                                                                                                                                                                                                                                                                                                                                                                                                                                                                                                                                                                                                                                                                                                                                                                                                                                                                                                                                                                                                                                                                                                                                                                                                                                                                                                                                                                                                                                                                                                                                                                                                                                                                                                                                                                                                                                                                                                                                                                                                                                                                                                                                                                                        \n",
            "4-gram                   (الحياة, السرية, لوالدهم, وفاته)                                                                                                                                                                                                                                                                                                                                                                                                                                                                                                                                                                                                                                                                                                                                                                                                                                                                                                                                                                                                                                                                                                                                                                                                                                                                                                                                                                                                                                                                                                                                                                                                                                                                                                                                                                                                                                                                                                                                                                                                                                                                                                                                                                                                                                                                                                                                                                        \n",
            "\n",
            "       افراد الشرطة يساهمون غرس ازيد الف شجيرة بمناسبة اليوم العالمي للغاباتوتحيي الجزار غرار دول العالم اليوم الدولي للغابات الموافق مارس سنة شعار تاهيل الغابات الطريق الانعاش الرفاهية شارك افراد الشرطة رفقة السلطات المحلية والمجتمع المدني الناشط مجال حماية البية الحملة الوطنية الواسعة الحاملة لشعار فلنغرسها عملية تشجير سنة سمحت بغرس عدد معتبر مختلف انواع الاشجار النادرة الاصناف اتلفتها النيران الغابية الموسم الماضي بهدف المساهمة الميدانية اثرا التنوع النباتي الوطن وتوسيع الاملاك الغابية وحماية التربة ومحاربة التصحر يساعد ترقية الاطار المعيشي للمواطن ويحمي البية تنوعها العملية التطوعية ستستمر مصالح الشرطة المشاركة امتداد سنة ستسمح بالمشاركة الجهود الوطنية لتجسيد البرنامج الهادف الي غرس شجيرة اضافية وبالاضافة الي جهود مصالح الشرطة مكافحة اشكال التعدي الاملاك الغابية البية تبذل ايضا جهودا مجال الاعلام والتوعية لتعميق الوعي البيي والتعريف باهمية الحفاظ الثروة البيية وسبل ترقيتها اطار تنمية مستدامة   \\\n",
            "1-gram                                          (السرية,)                                                                                                                                                                                                                                                                                                                                                                                                                                                                                                                                                                                                                                                                                                                                                                                                                                                                                       \n",
            "2-gram                                  (السرية, لوالدهم)                                                                                                                                                                                                                                                                                                                                                                                                                                                                                                                                                                                                                                                                                                                                                                                                                                                                                       \n",
            "3-gram                           (السرية, لوالدهم, وفاته)                                                                                                                                                                                                                                                                                                                                                                                                                                                                                                                                                                                                                                                                                                                                                                                                                                                                                       \n",
            "4-gram                     (السرية, لوالدهم, وفاته, خميس)                                                                                                                                                                                                                                                                                                                                                                                                                                                                                                                                                                                                                                                                                                                                                                                                                                                                                       \n",
            "\n",
            "       ليلة العيد الحلويات وملابس جديدة وسباق الزمنليس للمناسبات طعم الطقوس الخاصة نرتبط وتمتد جذور ذاكرتنا الي سنوات بعيدة ترتبط ذاكرتنا بذاكرة الاجداد خاصة المناسبات تحتفي بالفرح ليلة العيد فتفوح صدي ذكرها رواح الحمامات القديمة وضحكات النسوة المشغولة براحة الحلويات ضجيج الاسواق وازدحامها المحبب لتنهي دورتها سهرة عالية جميلة تطربها اصوات تكبيرات العيد فتوقظ الطفولة قلب جلس ليستحضر تفاصيل الفرحة سهرة منزليةتنهي سهيلة ربة منزل معظم واجباتها الخاصة بالمنزل ليلة العيد لان الليلة مخصصة لاعتنا المراة لتجدد شي وتقول ان اعود الصالون انهيت الحمام المغربي ونقش الحنا اعود الي البيت لاستمتع بالسهرة زوجي واولادي باسترجاع ذكريات العيد والتخطيط لليوم التالي ويعتبر العيد رمزا للتجدد والصفا اقترنت طقوس العيد بتجديد الكثير الاشيا خططنا لتجديدها وتضيف اسما موظفة انها يجب ان تشعر بان شي مختلف العيد وانها يمكن ان ترتدي اي قطعة ملابس قديمة حمام العيد الليلة رمز للتجديد وتقول افك بيجامة العيد الجديدة اتذكر لهفة طفولتي الليلة المشاعر خصوصية بداخلي ذكريات الطفولةمن الصعب ان تخلو السهرة ليلة العيد حديث الذكريات وايام الطفولة فاطمة مدرسة لغة فرنسية تفضل السهر ليلة العيد لتسترجع اخواتها بهجة تكبيرات العيد مكدة ان اللحظات تعيد اليها صورة جمالية راعة طفولتها المدللة مدينتها للعيد تفاصيل كثيرة اجملها تكبيرات صلاة العيد وزيارات الاهل والاقارب والاصدقا للمعايدة تمتد قرابة الشهر العيد تبادل الاحاديثللحرمان طعم مختلف بنظر مروان كانت الحياة التجارية تتوقف تقريبا العيد والناس تقدس عطلة العيد الناس يقبلون الاسواق مختلف مناشط الحياة ليلة العيد بشكل منقطع النظير محل الحلاق يعتبر الاماكن الاكثر ازدحاما الليلة اعتبر ان انتظار الدور وتبادل الاحاديث شبان الحي الحلاق اجمل ذكرياتي العيد يمكن ان اتخلي العادة زيارة الحلاق ليلة العيد ويكد انه يشعر بالمتعة حقا يجد المحل مزدحما لان الازدحام يعيد اليه لحظات البهجة يعيشها طفولته التسوقيبقي لمحبي التسوق شغف بازدحام الاسواق ليلة العيد يمكن ان تعود منال موظفة السوق ان تتاكد انها انتهت تماما شرا حاجياتها وتفحصت المحلات حتي تتاكد انها اشترت الافضل وتقول العادة قديمة فاحيانا اتذرع بشرا اشيا بسيطة حتي امام لاذهب الي السوق خاصة ليلة العيد استمتع بازدحام ليلة العيد وبهجتها حلويات العيدولان العيد يكتمل الا بحلويات العيد كانت النسوة تجتمع لتحضيره بانواعه المختلفة وبكميات كبيرة احبت راضية ربة بيت ان تستغل فرصة وجود والدتها ضيافتها برفقة اختها لتحيي ليلة العيد بتحضير الانواع المختلفة حلوي العيد خاصة التشاراك الطابع القلاوة يجب ان تكون حاضرة العيد   \\\n",
            "1-gram                                         (لوالدهم,)                                                                                                                                                                                                                                                                                                                                                                                                                                                                                                                                                                                                                                                                                                                                                                                                                                                                                                                                                                                                                                                                                                                                                                                                                                                                                                                                                                                                                                                                                                                                                                                                                                                                                                                                                                                                                                                                                                                                                                                                                                                                                                                                                                                                                                                                                                           \n",
            "2-gram                                   (لوالدهم, وفاته)                                                                                                                                                                                                                                                                                                                                                                                                                                                                                                                                                                                                                                                                                                                                                                                                                                                                                                                                                                                                                                                                                                                                                                                                                                                                                                                                                                                                                                                                                                                                                                                                                                                                                                                                                                                                                                                                                                                                                                                                                                                                                                                                                                                                                                                                                                           \n",
            "3-gram                             (لوالدهم, وفاته, خميس)                                                                                                                                                                                                                                                                                                                                                                                                                                                                                                                                                                                                                                                                                                                                                                                                                                                                                                                                                                                                                                                                                                                                                                                                                                                                                                                                                                                                                                                                                                                                                                                                                                                                                                                                                                                                                                                                                                                                                                                                                                                                                                                                                                                                                                                                                                           \n",
            "4-gram                      (لوالدهم, وفاته, خميس, دقيقة)                                                                                                                                                                                                                                                                                                                                                                                                                                                                                                                                                                                                                                                                                                                                                                                                                                                                                                                                                                                                                                                                                                                                                                                                                                                                                                                                                                                                                                                                                                                                                                                                                                                                                                                                                                                                                                                                                                                                                                                                                                                                                                                                                                                                                                                                                                           \n",
            "\n",
            "       ايران ادارة بايدن رفع العقوبات محادثات احيا الاتفاق النوويقالت ايران الاثنين انه يتعين الولايات المتحدة رفع العقوبات المفروضة الجمهورية الاسلامية اولا اذا كانت تريد اجرا محادثات لانقاذ الاتفاق النووي الموقع عام قوي عالمية انسحب الريس الامريكي السابق دونالد ترامب الريس الامريكي جو بايدن قال ان واشنطن مستعدة لاجرا محادثات بشان عودة البلدين الي الامتثال للاتفاق ضمنت ايران طريقه رفع العقوبات مقابل تقليص نشاطها النووي طرف يريد الاخر ان يتحرك اولا ويخشي الغرب ان تكون ايران تسعي لامتلاك اسلحة نووية طهران تقول ان يكن هدفها وقال سعيد خطيب زاده المتحدث باسم وزارة الخارجية يتعين ادارة الريس جو بايدن تغيير سياسة الضغوط القصوي اتبعها ترامب طهران اذا كانت تريد اجرا محادثات ايران يتعين اولا رفع العقوبات وقالت واشنطن الاحد انها شعرت بخيبة امل لرفض ايران اجرا محادثات مستعدة للانخراط جديد عملية دبلوماسية مجدية وستتشاور قوي كبري تطالب ايران برفع العقوبات الامريكية اولا تقول واشنطن انه يتعين طهران العودة للالتزام بالاتفاق تعمل خرقه بشكل متزايد وقال خطيب زاده رفض الادارة الامريكية الجديدة العودة للاتفاق خطا تاريخي وتابع ان ايران ستواصل العمل الوكالة الدولية للطاقة الذرية الرغم تقليص التعاون جهة مقابة تمضي بريطانيا وفرنسا والمانيا قدما خطة تدعمها الولايات المتحدة لاصدار قرار مجلس محافظي الوكالة الدولية للطاقة الذرية ينتقد ايران لتقليصها تعاونها الوكالة رغم تحذيرات روسية وايرانية عواقب خطيرة ويعقد مجلس محافظي الوكالة الملف دولة اجتماعه ربع السنوي الاسبوع جهود متعثرة لاحيا الاتفاق النووي المبرم ايران والقوي العالمية اصبح الريس الامريكي جو بايدن السلطة وسرعت ايران الاونة الاخيرة وتيرة انتهاكاتها للاتفاق ابرم عام محاولة واضحة لزيادة الضغط بايدن اصرار طرف ان يتحرك الاخر اولا وجات انتهاكات طهران للاتفاق ردا انسحاب واشنطن عام واعادة فرض العقوبات الامريكية رفعت بموجبه احدث انتهاك تقليص طهران الاسبوع الماضي لتعاونها الوكالة الدولية للطاقة الذرية بوقف اجراات تفتيش ومراقبة اضافية كانت مطبقة بموجب الاتفاق سلطة اجرا الوكالة عمليات تفتيش مفاجة بمنشات يعلن انها مرتبطة بالطاقة النووية ووزعت الدول الاوروبية الثلاث موقعة الاتفاق النووي مسودة قرار اجل الاجتماع سيعقد فيينا تعبر القلق الشديد حيال تقليص ايران للشفافية وتحثها التراجع الخطوات تعبر المسودة ارسلت الي اعضا مجلس محافظي الوكالة وحصلت رويترز ايضا القلق ازا عدم احراز تقدم الحصول تفسيرات ايران بشان جزيات يورانيوم عثر ثلاثة مواقع قديمة موقعان اعلنت الوكالة الدولية للطاقة الذرية اكتشاف الجزيات الاسبوع الماضي وغضبت ايران احتمال توجيه الانتقاد وهددت بالغا اتفاق ابرم اسبوع الوكالة يقضي بالاستمرار مقتا كثير اجراات المراقبة كانت قررت انهاها ترتيب وصفه المدير العام للوكالة بانه يشبه الصندوق الاسود ويسري لمدة تصل الي ثلاثة اشهر بهدف اتاحة فرصة للدبلوماسية يبدو ان الدبلوماسية تحقق تقدما يذكر قالت ايران الاحد انها تقبل اقتراحا قدمه منسق السياسة الخارجية بالاتحاد الاوروبي جوزيب بوريل بعقد اجتماع رسمي باقي اطراف الاتفاق النووي والولايات المتحدة يتضح دولة ستدعم اصدار قرار وحذرت روسيا وثيقة تبين موقفها الامر وحصلت رويترز اعلان ايران ان تبني قرار يلحق الضرر بجهود احيا الاتفاق يعرف رسميا باسم خطة العمل الشاملة المشتركة وانها ستعارضه وجا مذكرة روسيا الموجهة لباقي الاعضا يساعد تبني القرار العملية السياسية الرامية الي العودة للتطبيق الشامل الطبيعي لخطة العمل الشاملة المشتركة وتضيف العكس فانها ستعقد بشدة الجهود وتقوض فرص احيا خطة العمل الشاملة المشتركة والتعاون الطبيعي ايران والوكالة   \\\n",
            "1-gram                                           (وفاته,)                                                                                                                                                                                                                                                                                                                                                                                                                                                                                                                                                                                                                                                                                                                                                                                                                                                                                                                                                                                                                                                                                                                                                                                                                                                                                                                                                                                                                                                                                                                                                                                                                                                                                                                                                                                                                                                                                                                                                                                                                                                                                                                                                                                                                                                                                                                                                                                                                                                                                                                                                                                                                                                                                                                                                                                                                                                                                                                                                                                                                                                                                                                                                                                                               \n",
            "2-gram                                      (وفاته, خميس)                                                                                                                                                                                                                                                                                                                                                                                                                                                                                                                                                                                                                                                                                                                                                                                                                                                                                                                                                                                                                                                                                                                                                                                                                                                                                                                                                                                                                                                                                                                                                                                                                                                                                                                                                                                                                                                                                                                                                                                                                                                                                                                                                                                                                                                                                                                                                                                                                                                                                                                                                                                                                                                                                                                                                                                                                                                                                                                                                                                                                                                                                                                                                                                                               \n",
            "3-gram                               (وفاته, خميس, دقيقة)                                                                                                                                                                                                                                                                                                                                                                                                                                                                                                                                                                                                                                                                                                                                                                                                                                                                                                                                                                                                                                                                                                                                                                                                                                                                                                                                                                                                                                                                                                                                                                                                                                                                                                                                                                                                                                                                                                                                                                                                                                                                                                                                                                                                                                                                                                                                                                                                                                                                                                                                                                                                                                                                                                                                                                                                                                                                                                                                                                                                                                                                                                                                                                                                               \n",
            "4-gram                         (وفاته, خميس, دقيقة, ليلا)                                                                                                                                                                                                                                                                                                                                                                                                                                                                                                                                                                                                                                                                                                                                                                                                                                                                                                                                                                                                                                                                                                                                                                                                                                                                                                                                                                                                                                                                                                                                                                                                                                                                                                                                                                                                                                                                                                                                                                                                                                                                                                                                                                                                                                                                                                                                                                                                                                                                                                                                                                                                                                                                                                                                                                                                                                                                                                                                                                                                                                                                                                                                                                                                               \n",
            "\n",
            "       اضيفي الي منزلك لمسة طبيعية الاكسسوارات يدوية الصنعلكي تضيفي الي منزلك لمسة طبيعية يمكنك ان تصنعي اكسسوارات راعة الحبال الحالة تحصلين مثلا غطا للمصابيح او اطار للمرايا او قاعدة تضعينها مادة الطعام ندعوك الي ان تتعلمي كيفية صناعة يمكنك ان تضيفي الي منزلك علامة فارقة فريدة ومميزة مصنوعة الحبال الحبال لتزيين منزلكيمكنك ان تلجي الي الحبال السميكة تصنعي اكسسوارات تساعدك تزيين منزلك بطريقة فريدة لتزيين المصابيحيتعين الحالة ان تقومي الخطوات السهلة والسريعة احضري علبة المعدن او الخشب مفتوحة جانب واحد احدثي الجانب المفتوح ثغرة تتيح ادخال سلك المصباح اللمبة عبرها ادخلي السلك الثغرة علقي اللمبة ضعي مساحة العلبة ايا شكلها كمية كافية الغرا قومي بلف الحبل العلبة ان تتلاصق اجزاه واخيرا اتركي الغرا يجف قاعدة اطباق للمادةبطريقة سهلة يمكنك ان تصنعي الحبال قاعدة لاطباق المادة اختاري حبلا بالسماكة تريدين احضري قطعة الخشب والافضل ان تكون مستديرة الشكل ضعي كامل مساحتها كمية كافية الغرا قومي بلف الحبل مساحتها بشكل حلزوني ان تتشكل دوار تنطلق الوسط الي الاطراف يجب ان تكون الدوار متلاصقة تماما ويجب الحالة انتظار ان يجف الغرا لتزيين البرطماناتمن الممكن ان يستخدم الحبل لتزيين البرطمانات الزجاجية الغاية يجب طلا المساحة الخارجية للمرطبان بالغرا يلف الحبل ان يغطي المساحة يمكن الحصول برطمان بشكل مختلف ومميز لاطار المرايايمكن تزيين المراة بالحبل سوا شكلها داريا او مربعا او يكفي دهن اطراف المراة بالغرا الصاق طبقات متتالية الحبل يمكن صنع اكسسوارات راعة لمنزلك الحبال   \\\n",
            "1-gram                                            (خميس,)                                                                                                                                                                                                                                                                                                                                                                                                                                                                                                                                                                                                                                                                                                                                                                                                                                                                                                                                                                                                                                                                                                                                                                                                                                                                                                                                                           \n",
            "2-gram                                      (خميس, دقيقة)                                                                                                                                                                                                                                                                                                                                                                                                                                                                                                                                                                                                                                                                                                                                                                                                                                                                                                                                                                                                                                                                                                                                                                                                                                                                                                                                                           \n",
            "3-gram                                (خميس, دقيقة, ليلا)                                                                                                                                                                                                                                                                                                                                                                                                                                                                                                                                                                                                                                                                                                                                                                                                                                                                                                                                                                                                                                                                                                                                                                                                                                                                                                                                                           \n",
            "4-gram                         (خميس, دقيقة, ليلا, اليكم)                                                                                                                                                                                                                                                                                                                                                                                                                                                                                                                                                                                                                                                                                                                                                                                                                                                                                                                                                                                                                                                                                                                                                                                                                                                                                                                                                           \n",
            "\n",
            "       الاهلي المصري يضع قدما نصف نهاي ابطال افريقياحسم الاهلي المصري مواجهة ذهاب ربع نهاي دوري ابطال افريقيا بفوزه ضيفه ماميلودي صن داونز الجنوب افريقي بثناية مقابل وافتتح طاهر محمد طاهر اول اهداف المارد الاحمر الدقيقة الثالثة والعشرين تسديدة قوية وعزز صلاح محسن تقدم الاهلي نهاية المباراة بدقيقة واحدة خطا فادح حارس الفريق الجنوب افريقي وسيتقابل الفريقان السبت المقبل افريقيا ايابا اجل تاكيد تفوقه والعبور الي المربع الذهبي البطولة القارية الابرز مستوي الاندية طريقه للمحافظة لقبه   \\\n",
            "1-gram                                           (دقيقة,)                                                                                                                                                                                                                                                                                                                                                                                                                                             \n",
            "2-gram                                      (دقيقة, ليلا)                                                                                                                                                                                                                                                                                                                                                                                                                                             \n",
            "3-gram                               (دقيقة, ليلا, اليكم)                                                                                                                                                                                                                                                                                                                                                                                                                                             \n",
            "4-gram                        (دقيقة, ليلا, اليكم, اعادة)                                                                                                                                                                                                                                                                                                                                                                                                                                             \n",
            "\n",
            "       حزب ايطالي يطالب بتوضيح حدث قبالة السواحل الليبيةطالبت زعيمة الحزب الديمقراطي البرلمان الايطالي ديبورا سيراكياني بتوضيح سريع الهجوم تعرضت قوارب الصيد الايطالية خفر السواحل الليبي تسبب اصابة القاد جوزيبي جياكالوني واعتبرت سيراكياني ان امر خطير للغاية مقبول واشارت زعيمة الحزب الايطالي الي انه المقبول تعريض سلامة الصيادين الايطاليين للخطر وفقا نقلتة نقلته وكالة نوفا الايطالية   \\\n",
            "1-gram                                            (ليلا,)                                                                                                                                                                                                                                                                                                                                         \n",
            "2-gram                                      (ليلا, اليكم)                                                                                                                                                                                                                                                                                                                                         \n",
            "3-gram                               (ليلا, اليكم, اعادة)                                                                                                                                                                                                                                                                                                                                         \n",
            "4-gram                       (ليلا, اليكم, اعادة, الحلقة)                                                                                                                                                                                                                                                                                                                                         \n",
            "\n",
            "       الشرطة تستبعد ان يكون الهجوم بسكين المانيا بدافع جهادياعلنت السلطات الالمانية السبت ان محققي الشرطة يدرسون ان التطرف ام العامل النفسي ورا تنفيذ رجل يبلغ عاما هجوما بسكين مدينة فورتسبورغ البلاد اودي بثلاث نسا وخل ستة مصابين بجروح بالغة ونف المشتبه الصومالي وصل الي المانيا عام الاعتدا وسط المدينة مسا الجمعة مستهدفا متجرا لبيع المعدات المنزلية ان يتوج الي مصرف وسيطرت الشرطة لاحقا اطلقت النار الجز الاسفل جسمه وعثر المحققون سج تظهر ان الرجل يتلقي العلاج مصحة للامراض النفسية اشارت الشرطة الي انه اسلاميا معروفا بالنسبة للسلطات احد الشهود قال انه هتف الله اكبر اثنا الهجوم اثار تسالات دوافعه وقال وزير داخلية ولاية بافاريا يواكيم هيرمان ان الشرطة زالت تبحث الادلة هاتفان محمولان شدد ان الادلة وجود تطرف اسلامي محتمل والدلال احتمال وجود خلل الجاني يمكن الا تتعارض وقالت المستشارة الالمانية انغيلا ميركل المكد ان العمل المرو موج ضد الانسانية الاديان حزب البديل اجل المانيا اليميني المتشدد سارع للتعليق الهجوم ياتي ثلاثة شهور الانتخابات العامة وندد الريس المشارك للحزب المناهض للهجرة يورغ موتين بعمليات القتل الاسلامية بالسكاكين قلب المانيا مخرا مضيفا ان يحصل ماساة بالنسبة للضحايا اتعاطف وتجسيد اخر لسياسة ميركل الفاشلة بشان الهجرة وشدد حزب البديل اجل المانيا مرارا ان قرار المستشارة الالمانية انغيلا ميركل السماح بدخول اكثر مليون طالب لجو فر العديد سوريا والعراق ساهم رفع مستوي المخاطر الامنية وذكرت نسخة صحيفة دير شبيغل الالكترونية ان المشتبه قال استجوابه ان يندرج اطار الجهاد جهتها قالت صحيفة بيلد دايلي ان الشرطة عثرت مواد دعاية صادرة تنظيم الدولة الاسلامية صندوق قمامة ماوي للمشردين اقام المشتبه الشرطة قالت انه يمكنها تاكيد ورد التقرير الصحافي حال تاكدت دوافعه الاسلامية يعيد الهجوم فتح الجدل المانيا بشان الهجرة ملف بدا انه يعد اولوية حملات العام الجاري الانتخابية مقارنة الوضع فاز البديل اجل المانيا بمقاعد البرلمان لاول المدينة البافارية جلب السكان الزهور والشموع صباحا الي موقع عملية الطعن وقالت فرانسيسكا جلبت الشموع الي الموقع احد اصدقاها انه امر فظيع اشعر بحزن بالغ وصدمة اتيت الي اري ان اقل يمكن القيام ابدا التعاطف بدوره اعرب الريس الالماني فرانك فالتر شتاينماير صدمته لالوحشية الشديدة للجريمة وتابع نعيش حالة حداد المانيا برم تها اليوم اقارب الضحايا متمنيا للمصابين الشفا العاجل وقالت الشرطة ان واحدا المصابين الستة يزال وضع حرج خلص المحققون الي ان المشتبه دخل الي محل معدات منزلية وسال الباعة مكان وجود السكاكين حصوله سكين الي الباعة وطعنها عدة مرات الي ان ماتت وفق افاد مدير الشرطة المنطقة وطعن الرجل اثر امراتين اخريين ان يغادر المحل واظهرت تسجيلات مصورة انتشرت الانترنت مارة يحمل كراسي اثنا محاولتهم منع تقد المهاجم وطاردت مجموعة الاشخاص المهاجم وصول سيارة شرطة الي الموقع وفق اظهر احد التسجيلات تزال دوافع المنف واضحة كانت المانيا حالة تاه عدة هجمات نفذها اسلاميون متطرفون وشهدت فورتسبورغ خمس سنوات هجوما نف شخص بفاس ادي الي اصابة اربعة اشخاص بجروح متن قطار وحاول منف الاعتدا الافغاني مهاجمة احد المارة اثنا فراره ان ترديه الشرطة تبني تنظيم الدولة الاسلامية الاعتدا الهجوم الاكثر دموية الدوافع الاسلامية وقع ديسمبر نف جهادي عملية دهس سوق لعيد الميلاد برلين اودت شخصا المهاجم التونسي طالب لجو فشل الحصول وضع الحماية انصار تنظيم الدولة الاسلامية يبلغ عدد الاسلاميين يعتبرون خطرين المانيا اخر احصا مقارنة يناير   \n",
            "1-gram                                           (اليكم,)                                                                                                                                                                                                                                                                                                                                                                                                                                                                                                                                                                                                                                                                                                                                                                                                                                                                                                                                                                                                                                                                                                                                                                                                                                                                                                                                                                                                                                                                                                                                                                                                                                                                                                                                                                                                                                                                                                                                                                                                                                                                                                                                                                                                                                                                                                                                                                                                                                                                                                                                                                                                                                                                                                                                                                                                                                                                                                                                                                                                                                                                                                 \n",
            "2-gram                                     (اليكم, اعادة)                                                                                                                                                                                                                                                                                                                                                                                                                                                                                                                                                                                                                                                                                                                                                                                                                                                                                                                                                                                                                                                                                                                                                                                                                                                                                                                                                                                                                                                                                                                                                                                                                                                                                                                                                                                                                                                                                                                                                                                                                                                                                                                                                                                                                                                                                                                                                                                                                                                                                                                                                                                                                                                                                                                                                                                                                                                                                                                                                                                                                                                                                                 \n",
            "3-gram                             (اليكم, اعادة, الحلقة)                                                                                                                                                                                                                                                                                                                                                                                                                                                                                                                                                                                                                                                                                                                                                                                                                                                                                                                                                                                                                                                                                                                                                                                                                                                                                                                                                                                                                                                                                                                                                                                                                                                                                                                                                                                                                                                                                                                                                                                                                                                                                                                                                                                                                                                                                                                                                                                                                                                                                                                                                                                                                                                                                                                                                                                                                                                                                                                                                                                                                                                                                                 \n",
            "4-gram                    (اليكم, اعادة, الحلقة, التاسعة)                                                                                                                                                                                                                                                                                                                                                                                                                                                                                                                                                                                                                                                                                                                                                                                                                                                                                                                                                                                                                                                                                                                                                                                                                                                                                                                                                                                                                                                                                                                                                                                                                                                                                                                                                                                                                                                                                                                                                                                                                                                                                                                                                                                                                                                                                                                                                                                                                                                                                                                                                                                                                                                                                                                                                                                                                                                                                                                                                                                                                                                                                                 \n",
            "\n",
            "[4 rows x 100 columns]\n"
          ]
        }
      ],
      "source": [
        "# Display the results in a table\n",
        "result_df_display = result_df.set_index('Text').transpose()\n",
        "result_df_display.columns.name = None  # Remove the column name for better display\n",
        "print(result_df_display)\n"
      ]
    },
    {
      "cell_type": "code",
      "execution_count": null,
      "metadata": {
        "id": "4fb40704",
        "outputId": "ac955da3-cb1b-493e-e47b-8ea7facb7cb9",
        "colab": {
          "base_uri": "https://localhost:8080/"
        }
      },
      "outputs": [
        {
          "output_type": "stream",
          "name": "stdout",
          "text": [
            "\n",
            "Table of Features for Each N-gram:\n",
            "                                                 Text      1-gram  \\\n",
            "0   بورتريه الحاجة الحمداوية سيدة فن العيطة بالمغر...   (شاهدوا,)   \n",
            "1   تم تمديد اجال اقتنا قسيمة السياراتمددت المديري...   (الحلقة,)   \n",
            "2   ثلاث قطاعات تهتز اليوم وقع الاضراباتتصاعدت وتي...  (التاسعة,)   \n",
            "3   قطاع العمل التشغيل الضمان الاجتماعيهذه الوثاق ...    (سلسلة,)   \n",
            "4   فتح مسابقة لتوظيف طالب قاضاعلنت وزارة العدل فت...      (دار,)   \n",
            "..                                                ...         ...   \n",
            "95  ايران ادارة بايدن رفع العقوبات محادثات احيا ال...    (وفاته,)   \n",
            "96  اضيفي الي منزلك لمسة طبيعية الاكسسوارات يدوية ...     (خميس,)   \n",
            "97  الاهلي المصري يضع قدما نصف نهاي ابطال افريقياح...    (دقيقة,)   \n",
            "98  حزب ايطالي يطالب بتوضيح حدث قبالة السواحل اللي...     (ليلا,)   \n",
            "99  الشرطة تستبعد ان يكون الهجوم بسكين المانيا بدا...    (اليكم,)   \n",
            "\n",
            "                 2-gram                      3-gram  \\\n",
            "0      (شاهدوا, الحلقة)   (شاهدوا, الحلقة, التاسعة)   \n",
            "1     (الحلقة, التاسعة)    (الحلقة, التاسعة, سلسلة)   \n",
            "2      (التاسعة, سلسلة)       (التاسعة, سلسلة, دار)   \n",
            "3          (سلسلة, دار)  (سلسلة, دار, السلعةتتمحور)   \n",
            "4   (دار, السلعةتتمحور)    (دار, السلعةتتمحور, قصة)   \n",
            "..                  ...                         ...   \n",
            "95        (وفاته, خميس)        (وفاته, خميس, دقيقة)   \n",
            "96        (خميس, دقيقة)         (خميس, دقيقة, ليلا)   \n",
            "97        (دقيقة, ليلا)        (دقيقة, ليلا, اليكم)   \n",
            "98        (ليلا, اليكم)        (ليلا, اليكم, اعادة)   \n",
            "99       (اليكم, اعادة)      (اليكم, اعادة, الحلقة)   \n",
            "\n",
            "                                 4-gram  \n",
            "0      (شاهدوا, الحلقة, التاسعة, سلسلة)  \n",
            "1         (الحلقة, التاسعة, سلسلة, دار)  \n",
            "2   (التاسعة, سلسلة, دار, السلعةتتمحور)  \n",
            "3       (سلسلة, دار, السلعةتتمحور, قصة)  \n",
            "4        (دار, السلعةتتمحور, قصة, سلسة)  \n",
            "..                                  ...  \n",
            "95           (وفاته, خميس, دقيقة, ليلا)  \n",
            "96           (خميس, دقيقة, ليلا, اليكم)  \n",
            "97          (دقيقة, ليلا, اليكم, اعادة)  \n",
            "98         (ليلا, اليكم, اعادة, الحلقة)  \n",
            "99      (اليكم, اعادة, الحلقة, التاسعة)  \n",
            "\n",
            "[100 rows x 5 columns]\n",
            "       بورتريه الحاجة الحمداوية سيدة فن العيطة بالمغرب ثارت وجه المستعمروقفت المسرح غنت وابدعت رواع الفن الشعبي التراثي مدي عقود وفجر اليوم رحلت الحاجة الحمداوية عمر ناهز عاما ايقونة الاغنية الشعبية وبالاغنية الشعبية ثارت وجه المستعمر الفرنسيظلت ابنة الدار البيضا وفية لنمطها الموسيقي تحمل الدف المعروف بالبندير انيقة بقفطانها المغربيبورتريه الراحلة الحمداوية الفيديو التالي   \\\n",
            "1-gram                                          (شاهدوا,)                                                                                                                                                                                                                                                                                                                                 \n",
            "2-gram                                   (شاهدوا, الحلقة)                                                                                                                                                                                                                                                                                                                                 \n",
            "3-gram                          (شاهدوا, الحلقة, التاسعة)                                                                                                                                                                                                                                                                                                                                 \n",
            "4-gram                   (شاهدوا, الحلقة, التاسعة, سلسلة)                                                                                                                                                                                                                                                                                                                                 \n",
            "\n",
            "       تم تمديد اجال اقتنا قسيمة السياراتمددت المديرية العامة للضراب وبصفة استثناية مهلة اقتنا قسيمة السيارات الي غاية يوم الخميس افريل الرابعة زوالا مقرر نهايتها يوم امس الاربعا وقالت المديرية العامة للضراب بيان اصدرته الاربعا ان القرار يهدف الي تسهيل عملية اقتنا قسيمة السيارات للمواطنين مالكي السيارات تعذر اقتناها الاجال السابقة كشفت المديرية ان القسيمات متوفرة القيم مستوي قباضات الضراب ومكاتب البريد موضحة ان مالكي السيارات النفعية المخصصة للاستغلال تحدد قسيمتها حمولة اما يخص سيارات نقل المسافرين فان المبلغ يحدد عدد المقاعد وقالت المديرية العامة للضراب ان تاخير اقتنا القسيمة انقضا مدة التسديد يدي الي تطبيق الغرامة الجباية المنصوص المادة قانون الطابع المقدرة بزيادة قدرها بالماة قيمة القسيمة اقتنا تلقاي القسيمة وترفع الزيادة الي بالماة اذا تمت معاينة المخالفة الاعوان المهلين وذكر البيان ان عدم الصاق واستظهار القسيمة الزجاج الامامي للسيارة يدي حتما الي تطبيق غرامة جباية تساوي بالماة مبلغ القسيمة طبق للمادة قانون الطبع جمال الدين حديد   \\\n",
            "1-gram                                          (الحلقة,)                                                                                                                                                                                                                                                                                                                                                                                                                                                                                                                                                                                                                                                                                                                                                                                                                                                                                                                             \n",
            "2-gram                                  (الحلقة, التاسعة)                                                                                                                                                                                                                                                                                                                                                                                                                                                                                                                                                                                                                                                                                                                                                                                                                                                                                                                             \n",
            "3-gram                           (الحلقة, التاسعة, سلسلة)                                                                                                                                                                                                                                                                                                                                                                                                                                                                                                                                                                                                                                                                                                                                                                                                                                                                                                                             \n",
            "4-gram                      (الحلقة, التاسعة, سلسلة, دار)                                                                                                                                                                                                                                                                                                                                                                                                                                                                                                                                                                                                                                                                                                                                                                                                                                                                                                                             \n",
            "\n",
            "       ثلاث قطاعات تهتز اليوم وقع الاضراباتتصاعدت وتيرة الاحتجاجات الايام الاخيرة عدد القطاعات وتوقف موظفوها العمل لرفع مطالب اجتماعية تتلخص مجملها صرف منح وعلاوات ورفع الاجور ودراسة جدية لعدد المطالب الاخري واهتزت اليوم الاثنين ثلاثة قطاعات وقع احتجاجات احدها فجاياحيث توقف اساتذة الاطوار التعليمية الثلاثة الابتداي والمتوسط والثانوي العمل عدد المسسات التربوية بناا دعوة المجلس الوطني المستقل لمستخدمي التدريس للقطاع ثلاثي الاطوار للتربية كنابست حدد يومي ال افريل الجاري للاضراب احتجاجا عدم تكفل الوصاية بمطالبهم وبالمقابل يواصل مستخدمو قطاع التجارة اضرابهم الدوري لثلاثة ايام اسبوعيا اجل الضغط وزارة التجارة لتجسيد مطالبهم ميدانيا بعيدا جلسات الحوار تثمر يطمح اليه عمال قطاع التجارة وبشكل مفاجدخل عمال عدد المراكز البريدية مختلف ولايات الوطن اضراب مفاج العمل اليوم تعرف المراكز البريدية توافدا كبيرا للمواطنين لسحب الاموال عشية حلول رمضان المبارك وتوقف عمال عدد مكاتب البريد العمل للمطالبة بصرف المنح والعلاوات المتاخرة ومست الاضرابات مخرا قطاعات عديدة غرار الصحة والتربية والتجارة والبريد يسعي عمالها الي الضغط مسوليها اجل تحقيق مطالبهم اختلافها   \\\n",
            "1-gram                                         (التاسعة,)                                                                                                                                                                                                                                                                                                                                                                                                                                                                                                                                                                                                                                                                                                                                                                                                                                                                                                                                                                                                                                   \n",
            "2-gram                                   (التاسعة, سلسلة)                                                                                                                                                                                                                                                                                                                                                                                                                                                                                                                                                                                                                                                                                                                                                                                                                                                                                                                                                                                                                                   \n",
            "3-gram                              (التاسعة, سلسلة, دار)                                                                                                                                                                                                                                                                                                                                                                                                                                                                                                                                                                                                                                                                                                                                                                                                                                                                                                                                                                                                                                   \n",
            "4-gram                (التاسعة, سلسلة, دار, السلعةتتمحور)                                                                                                                                                                                                                                                                                                                                                                                                                                                                                                                                                                                                                                                                                                                                                                                                                                                                                                                                                                                                                                   \n",
            "\n",
            "       قطاع العمل التشغيل الضمان الاجتماعيهذه الوثاق الادارية المطلوبة الملفات الادارية تم الغاهااعلنت وزارة العمل التشغيل الضمان الاجتماعي الاربعا الغا وثيقة مطلوبة الملفات الادارية عبر المسسات التابعة للقطاع اطار استراتيجية رقمنة وعصرنة القطاع لمحاربة البيروقراطية وتخفيف العب المواطنين ورد بيان الوزارة اطلعت المغرب الاوسط عليهفي اطار الاستراتيجية المسطرة لرقمنة وعصرنة القطاع لمحاربة البيروقراطية وتخفيف العب المواطنين تعلم وزارة العمل والتشغيل والضمان الاجتماعي انه تم اعادة النظر الوثاق الادارية تطلب المواطنين للحصول او الاستفادة الخدمات والاداات تقدمها الهيات التابعة للقطاع تقرر اعفا المواطن او المسسات تقديم الوثاق تتولي الهيات الوصاية انجازها اضافة الي شهادة الميلاد شهادة الجنسية وصحيفة السوابق العدليةوكمرحلة اولي مجال العمل تم اعفا المواطنين والمسسات تقديم يلي نسخة جواز العمل او رخصة العمل المقت او التصريح بعامل اجنبي خاضع لجواز العمل ملف التاشير عقود العمل النموذجية للعمال الاجانب مفتشية العمل وشهادة الجنسية وصحيفة السوابق العدلية رقم وشهادة الميلاد ملف تسجيل المنظمة النقابية مجال التشغيل تم اعفا المستخدم تقديم يليشهادة ادا المستحقات المحينة لصناديق الضمان الاجتماعي حالة تحويل عقود الادماج المهني الي عقود عمل مدعمة ملف عقد العمل المدعم وجدول التصريح بالمستفيدين هية الضمان الاجتماعي والتصريح بالاشتراك ووضعية الاستهلاك ملف المحاسبة لصب مساهمة الدولة ملف عقد العمل المدعم وجهاز الادماج المهني والادماج الاجتماعي وشهادة ادا المستحقات المحينة لصناديق الضمان الاجتماعي ملف الموافقة المبدية لتشغيل عمال اجانب او جزاريين ونسخة بطاقة الانتساب للضمان الاجتماعي ملف تجديد جواز العمل للعامل الاجنبي او ملف طلب الترخيص الاستثناي بالنسبة العامل الاجنبي تجاوز سنة اعفا الاشخاص الطبيعيين تقديمشهادة الجنسية وصحيفة السوابق العدلية ملف طلب احداث هية خاصة معتمدة لتنصيب العمال واعفا اصحاب عقود العمل المدعمة تقديم كشف الراتب السنوي ونسخة العقد ساري المفعول وقرار فسخ العقد وشهادة توقيف الراتب للموافقة طلب التحويل واعفا حاملي المشاريع جهاز انشا المسسة المصغرة المسير طرف الصندوق الوطني للتامين البطالة تقديمشهادة التسجيل الوكالة الوطنية للتشغيل مرحلة ايداع الملف ونسخة شهادة تسجيل الصندوق الوطني للضمان الاجتماعي الاجرا مرحلة تمويل المشروع وشهادات تحديث الاشتراكات اتجاه صناديق الضمان الاجتماعي مرحلة انجاز واستغلال المشروع مجال الضمان الاجتماعياما مجال الضمان الاجتماعي تم اعفا المتقاعدين تقديم شهادة الدخل لتحديد نسبة التكفل بالاداات العينية او مستوي صندوق واعفا الممن اجتماعيا تقديم شهادة الميلاد رقم او شهادة الوفاة او عقد الزواج للاستفادة الاداات مستوي صندوق واعفا الاجرا تقديم شهادة ميلاد الممن اجتماعيا او الحقوق او شهادة عدم انتساب للاستفادة الخدمات العينية مستوي صندوق واعفا الاجرا تقديم شهادة ميلاد الحقوق او شهادة عدم الانتساب للممن اجتماعيا او الحقوق للاستفادة منحة الوفاة واعفا الممن اجتماعيا التنقل لمراكز المراقبة الطبية للضمان الاجتماعي للحصول راي طبي للادوية الخاضعة لشروط خاصة اما يخص التقاعد تم اعفا الاجرا تقديم شهادة ميلاد الممن اجتماعيا او شهادة عدم انتساب للممن اجتماعيا والزوجة للاستفادة معاش او منحة التقاعد المباشر واعفا الاجرا تقديم شهادة ميلاد الممن اجتماعيا او شهادة عدم انتساب الحقوق للاستفادة معاش او منحة التقاعد المنقول اعفا ابنا الشهدا الاجرا الاجرا تقديم شهادة الشهيد للاستفادة معاش او منحة تقاعد واعفا الابنا الذكور المعاقين بلغوا سن الرشد تقديم نسخة بطاقة المعاقن للاستفادة معاش التقاعد المنقول وبخصوص الانتساب تم اعفا المسسات المنتسبة لصندوق تقديم نسخة السجل التجاري ونسخة العقد التاسيسي للشركة يتعلق الامر او ا او الاعفا نسخة بطاقة الحرفي اجل تسليم شهادة الانتساب للمستخدم المنتسب جديدا يخص التعاقد العيادات الخاصة والصيدلياتفقد تم اعفا اصحاب العيادات الخاصة والصيدليات ترغب التعاقد الصندوق الوطني للضمان الاجتماعي الاجرا تقديم شهادة استيفا الاشتراكات ونسخة السجل التجاري واشار البيان الي ان الوثاق تم سحبها جات بناا توجيهات وزير العمل الاجتماع التنسيقي المنعقد يوم الاثنين جانفي واضاف البيان ان القطاع يقوم بالتحيين الدوري والمستمر للوثاق يمكن الاستغنا واستبدالها بتطبيقات وبرامج رقمية وياتي لمواكبة عصر تكنولوجيا المعلوماتية الحديثة وادماج الثقافة الرقمية لتحقيق تكفل اسرع وانجع بانشغالات المواطنين وتوفير خدمات نوعية وباقل التكاليف امال   \\\n",
            "1-gram                                           (سلسلة,)                                                                                                                                                                                                                                                                                                                                                                                                                                                                                                                                                                                                                                                                                                                                                                                                                                                                                                                                                                                                                                                                                                                                                                                                                                                                                                                                                                                                                                                                                                                                                                                                                                                                                                                                                                                                                                                                                                                                                                                                                                                                                                                                                                                                                                                                                                                                                                                                                                                                                                                                                                                                                                                                                                                                                                                                                                                                                                                                                                                                                                                                                                                                                                                                                                                                                                                                                                                                                                                                                                                                                                                                                                                                                                                                                                                                                                                                                                                                                                                       \n",
            "2-gram                                       (سلسلة, دار)                                                                                                                                                                                                                                                                                                                                                                                                                                                                                                                                                                                                                                                                                                                                                                                                                                                                                                                                                                                                                                                                                                                                                                                                                                                                                                                                                                                                                                                                                                                                                                                                                                                                                                                                                                                                                                                                                                                                                                                                                                                                                                                                                                                                                                                                                                                                                                                                                                                                                                                                                                                                                                                                                                                                                                                                                                                                                                                                                                                                                                                                                                                                                                                                                                                                                                                                                                                                                                                                                                                                                                                                                                                                                                                                                                                                                                                                                                                                                                                       \n",
            "3-gram                         (سلسلة, دار, السلعةتتمحور)                                                                                                                                                                                                                                                                                                                                                                                                                                                                                                                                                                                                                                                                                                                                                                                                                                                                                                                                                                                                                                                                                                                                                                                                                                                                                                                                                                                                                                                                                                                                                                                                                                                                                                                                                                                                                                                                                                                                                                                                                                                                                                                                                                                                                                                                                                                                                                                                                                                                                                                                                                                                                                                                                                                                                                                                                                                                                                                                                                                                                                                                                                                                                                                                                                                                                                                                                                                                                                                                                                                                                                                                                                                                                                                                                                                                                                                                                                                                                                                       \n",
            "4-gram                    (سلسلة, دار, السلعةتتمحور, قصة)                                                                                                                                                                                                                                                                                                                                                                                                                                                                                                                                                                                                                                                                                                                                                                                                                                                                                                                                                                                                                                                                                                                                                                                                                                                                                                                                                                                                                                                                                                                                                                                                                                                                                                                                                                                                                                                                                                                                                                                                                                                                                                                                                                                                                                                                                                                                                                                                                                                                                                                                                                                                                                                                                                                                                                                                                                                                                                                                                                                                                                                                                                                                                                                                                                                                                                                                                                                                                                                                                                                                                                                                                                                                                                                                                                                                                                                                                                                                                                                       \n",
            "\n",
            "       فتح مسابقة لتوظيف طالب قاضاعلنت وزارة العدل فتح مسابقة وطنية بالمدرسة العليا للقضا لتوظيف طالب قاضي سنة وتضمن العدد الاخير الجريدة الرسمية انه المرسوم التنفيذي الصادر ماي تم فتح مسابقة وطنية للقضا السنة الجارية ان تنطلق فترة التسجيلات الي ماي وتم تحديد فترة اجرا اختبارات القبول جويلية   \\\n",
            "1-gram                                             (دار,)                                                                                                                                                                                                                                               \n",
            "2-gram                                (دار, السلعةتتمحور)                                                                                                                                                                                                                                               \n",
            "3-gram                           (دار, السلعةتتمحور, قصة)                                                                                                                                                                                                                                               \n",
            "4-gram                     (دار, السلعةتتمحور, قصة, سلسة)                                                                                                                                                                                                                                               \n",
            "\n",
            "       مسار الراحلة الحاجة الحمداوية تحكيه اخر ظهور تلفزي لهاالجز الثاني زرعوالمدة تزيد نصف قرن ظلت الحاجة الحمداوية تصدح باغان ستبقي خالدة اذهان محبي فن العيطة مسار طويل حافل بالانجازات والخيبات تجربة ملية بالتحديات بداتها حرمت المراة الخروج المنزل تزوجت السابعة عشر عمرها وانجبت ولدها الوحيد انغام الموسيقي سكنتها طفلة صغيرة حركتها لتسير حلمها الغنا ستصبح رادة العيطة المرساوية واحدي اهرام الاغنية المغربية العدد الاول برنامجكم الجديد زرعوا يسلط عتيق بنشيكر الضو المشوار الفني الحافل بالعطا صور وشهادات تحكيه الفنانة الكبيرة بداياتها لقااتها الحفلات احيتها اعتقالها ومطاردتها ابان الحماية الفرنسية للمغرب الاحداث عاشتها   \\\n",
            "1-gram                                    (السلعةتتمحور,)                                                                                                                                                                                                                                                                                                                                                                                                                                                                                                                                                                                        \n",
            "2-gram                                (السلعةتتمحور, قصة)                                                                                                                                                                                                                                                                                                                                                                                                                                                                                                                                                                                        \n",
            "3-gram                          (السلعةتتمحور, قصة, سلسة)                                                                                                                                                                                                                                                                                                                                                                                                                                                                                                                                                                                        \n",
            "4-gram                     (السلعةتتمحور, قصة, سلسة, دار)                                                                                                                                                                                                                                                                                                                                                                                                                                                                                                                                                                                        \n",
            "\n",
            "       جراد يشرف التدشين الرسمي لمسسة ترقية وتسيير هياكل دعم المسسات الناشة الجيريا فانتوريشرف الوزير الاول عبد العزيز جراد يوم غد الثلاثا التدشين الرسمي لمسسة ترقية وتسيير هياكل دعم المسسات الناشة الجيريا فانتور المسسة المتواجدة دارتاك مستوي حظيرة دنيا بارك اولاد فايت بالجزار العاصمة بيان لمصالح الوزارة الاولي   \\\n",
            "1-gram                                             (قصة,)                                                                                                                                                                                                                                                                   \n",
            "2-gram                                        (قصة, سلسة)                                                                                                                                                                                                                                                                   \n",
            "3-gram                                   (قصة, سلسة, دار)                                                                                                                                                                                                                                                                   \n",
            "4-gram                           (قصة, سلسة, دار, السلعة)                                                                                                                                                                                                                                                                   \n",
            "\n",
            "       الدار البيضا المجلس الجماعي يتدارس مشروع تشييد نفق جديد بشارع المقاومةاعلن ريس مجلس مدينة الدار البيضاعبد العزيز العمري يوم الخميس الماضي الشروع دراسة مشروع تشييد نفق مروري جديد ياتي كامتداد لنفق دكار بشارع المقاومة بالعاصمة الاقتصادية نقله موقع فالنفق الجديد سيسمح للسيارات وعربات النقل بقطع الخط المستقبلي للترامواي سيمر عبر تقاطع شارع محمد السادس وشارع المقاومة   \\\n",
            "1-gram                                            (سلسة,)                                                                                                                                                                                                                                                                                                                              \n",
            "2-gram                                        (سلسة, دار)                                                                                                                                                                                                                                                                                                                              \n",
            "3-gram                                (سلسة, دار, السلعة)                                                                                                                                                                                                                                                                                                                              \n",
            "4-gram                         (سلسة, دار, السلعة, الحاج)                                                                                                                                                                                                                                                                                                                              \n",
            "\n",
            "       الرجا الرياضي يتعاقد رسميا التونسي لسعد الشابياعلن الرجا الرياضي رسميا تعاقده المدرب التونسي لسعد الشابي لخلافة جمال السلامي قدم استقالته الاسبوع الماضي واشارت ادارة الفريق الاخضر الي ان المدرب التونسي وقع عقدا يمتد لنهاية الموسم الرياضي الجاري قابل للتجديد نادي الرجا الرياضي يتعاقد المدرب التونسي لسعد الشابي وحل التونسي لسعد الشابي بمطار محمد الخامس بمدينة الدار البيضا مسا امس الاثنين ان يوقع اليوم رسميا عقد اشرافه النادي وسبق للسعد الشابي ان قاد الاتحاد الرياضي المنستيري لاحراز لقب كاس تونس واحتلال المركز الثالث منافسات الدوري التونسي الموسم المنصرم علما انه خاض تجارب الدوري النمساوي والتايلاندي   \\\n",
            "1-gram                                             (دار,)                                                                                                                                                                                                                                                                                                                                                                                                                                                                                                                                                                              \n",
            "2-gram                                      (دار, السلعة)                                                                                                                                                                                                                                                                                                                                                                                                                                                                                                                                                                              \n",
            "3-gram                               (دار, السلعة, الحاج)                                                                                                                                                                                                                                                                                                                                                                                                                                                                                                                                                                              \n",
            "4-gram                         (دار, السلعة, الحاج, سلام)                                                                                                                                                                                                                                                                                                                                                                                                                                                                                                                                                                              \n",
            "\n",
            "       مقري نواب حمس حقيقة نواب الشرفوصف ريس حركة مجتمع السلم حمس عبد الرزاق مقري نزاب الحركة بنوان الشرف منشور لع صفحته الرسمية فايسبوك قال مقري النواب رجالا ونسا تشرفت بالعمل كريس حركة مجتمع السلم رفقة اخواني واختي المكتب التنفيذي الوطني نواب دخلوا البرلمان بالارادة الشعبية الفعلية شرفوا مقاعدهم بالنزاهة ونظافة اليد والابتعاد الشبهات بخدمة المواطنين ولاياتهم بقدر استطاعتهم بالمساهمات التشريعية والرقابية التعديلات والمبادرات رغم التوازنات المختلة المعلومة بالحضور السياسي والاعلامي والشجاعة والحكمة الدفاع الحريات ومكافحة الفساد والدفاع القضايا العادلة راسها القضية الفلسطينية بانضباطهم الحزبي والاحترام المتبادل   \\\n",
            "1-gram                                          (السلعة,)                                                                                                                                                                                                                                                                                                                                                                                                                                                                                                                                                                                    \n",
            "2-gram                                    (السلعة, الحاج)                                                                                                                                                                                                                                                                                                                                                                                                                                                                                                                                                                                    \n",
            "3-gram                              (السلعة, الحاج, سلام)                                                                                                                                                                                                                                                                                                                                                                                                                                                                                                                                                                                    \n",
            "4-gram                        (السلعة, الحاج, سلام, صانع)                                                                                                                                                                                                                                                                                                                                                                                                                                                                                                                                                                                    \n",
            "\n",
            "        ...  \\\n",
            "1-gram  ...   \n",
            "2-gram  ...   \n",
            "3-gram  ...   \n",
            "4-gram  ...   \n",
            "\n",
            "       وزير الاقتصاد يتفقد مخازن صندوق موازنة الاسعار بنغازيتفقد وزير الاقتصاد والتجارة محمد الحويج مخازن السلع التموينية التابعة لصندوق موازنة الاسعار بمدينة بنغازي للاطلاع الحالة العامة للصندوق والسعة التخزينية ورافق الحويج زيارته مدير ادارة صندوق موازنة الاسعار محمد البوعيشي اطلع الطرفان ظروف التخزين والقدرة الاستيعابية واصناف وكميات السلع المتوفرة الي اكد المكتب الاعلامي للوزارة ان الوزير اعتمد محاضر توحيد الجهات التابعة للوزارة ممثلة الهية العامة لتشجيع الاستثمار وشون الخصخصة وهية الاشراف التامين ومركز تنمية الصادرات   \\\n",
            "1-gram                                            (اخوة,)                                                                                                                                                                                                                                                                                                                                                                                                                                                                                          \n",
            "2-gram                                    (اخوة, يكتشفون)                                                                                                                                                                                                                                                                                                                                                                                                                                                                                          \n",
            "3-gram                            (اخوة, يكتشفون, الحياة)                                                                                                                                                                                                                                                                                                                                                                                                                                                                                          \n",
            "4-gram                    (اخوة, يكتشفون, الحياة, السرية)                                                                                                                                                                                                                                                                                                                                                                                                                                                                                          \n",
            "\n",
            "       النجمة الثالثة تزين قميص حمدو الهونييتوج اللاعب الدولي الليبي حمدو الهوني مسا اليوم بلقب البطولة التونسية المحترفة فريقه الترجي للمرة الثالثة التوالي مسيرتهوكان رفاق الهوني حسمو اللقب اربع جولات نهاية الدوري وتحديدا مباراة الملعب التونسي فاز الترجي بهدف نظيف احرزه المدافع عبدالقادر بدران ويسعي الهوني وفريقه عقب التتويج لتدارك خسارة ذهاب ربع نهاي ابطال افريقيا امام شباب بلوزداد وقلب النتيجة الفريق الجزاري موقعة رادس يوم السبت المقبل   \\\n",
            "1-gram                                         (يكتشفون,)                                                                                                                                                                                                                                                                                                                                                                                                     \n",
            "2-gram                                  (يكتشفون, الحياة)                                                                                                                                                                                                                                                                                                                                                                                                     \n",
            "3-gram                          (يكتشفون, الحياة, السرية)                                                                                                                                                                                                                                                                                                                                                                                                     \n",
            "4-gram                 (يكتشفون, الحياة, السرية, لوالدهم)                                                                                                                                                                                                                                                                                                                                                                                                     \n",
            "\n",
            "       تعديلات ضرورية لاصلاح عمل البرلمان المقبلالحسين المسورياعتقد حان الوقت ان نقيم تجربة المتمر الوطني والبرلمان خلفت الكثير الاسلة صلاحيات المسسة التشريعية ودورها حدث انتجته ثقافة سياسية سلبية عززت يعتقده الكثير الليبيين بعدم جدوي الانتخابات ووجود المسسة باعتبارها اصبحت رمزا للفساد الاداري والمالي النواب خانوا ناخبيهم ودورهم الرقابي وظهرت مظاهر الثرا الفاحش واولادهم فالمتابع لممارسات المسسة التشريعية ليبيا سيجد انها اصبحت تجمع السلطة التشريعية والتنفيذية تعد مهمتها تشريعية رقابية دورها الاساسي اصبحت جزا السلطة التنفيذية الحكومة رقيبا بسبب مشاركة النواب اختيار وفرض الوزرا ريس الحكومة مقابل منح الثقة يفتح باب الفساد والابتزاز ويجعل النواب يدافعون وزراهم وبالتالي انتاج حكومات فاسدة وافشال اي مسعي لرقابة الحكومة ومسالتها حتي النواب الشرفا والمحترمين نر البرلمان يقوم بجلسات مسالة حقيقية للحكومة تعمل المناطق التابعة حكومة الثني سنوات رغم تقصيرها وفسادها وتجاوزاتها ومخالفتها وفقا لتقارير ديوان المحاسبة وهية الرقابة الادارية خاصة ان اشترط ريسها عبدالله الثني ان تكون المسالة علنا امام الليبيين واتهم الثني النواب بانهم مطالب ومصالح خاصة يريدون الوزرا تنفيذها بالمخالفة للقانون وحتي جات فرصة انها الانقسام الحكومي الا ان جلسة البرلمان سرت منح الثقة لحكومة الوحدة الوطنية الدبيبة اثبتت ان النواب شركا الحكومة الجديدة وبشهادة ريسها قال انه يختر الوزرا الا وزيرا واحدا وبالتالي امام تكرار المشهد يبدو انه اصبح اكثر ترسخا وحقا مكتسبا للنواب اعتقد انه اصبح الضروري وضع تعديلات ضرورية لاصلاح عمل ودور البرلمان المقبل تحديد صلاحياته ومهامه اجل ان يتم الاخذ مشروع الدستور الدام للبلاد واعتقد ان اول خطوة اصلاح عمل المسسة التشريعية سحب صلاحية وسلطة منح الثقة للحكومة النواب وارجاعها الي الشعب الليبي مصدر السلطات بانتخاب ريس الحكومة الشعب بشكل مباشر وبالتالي تكون الثقة منحت الشعب حاجة الي منحها نواب البرلمان وسيشكل حكومته وفق قناعته بكفاة الوزرا تنفيذ برنامج حكومته طرحه اجرا الانتخابات الشعب عبر وسال الاعلام والمناظرات منافسيه وصوت الشعب الليبي يخضع ريس الحكومة الفاز بثقة الشعب تشكيل حكومته لاي ابتزاز النواب سيتحمل مسولية فشل وزرا الحكومة او يفخر بنجاحهم اما البرلمان فيبقي دوره تشريعيا رقابيا بمراقبة الحكومة المشاركة تشكيلها والرقابة تكون باستدعا الوزرا ومسالتهم شكاوي المواطنين يمثلونهم والوزير يثبت تقصيره او فساده ترفع شكوي الي الناب العام يجب ناب البقا منطقته ومدينته والتواصل ناخبيه والاستماع الي مشاكلهم وكيفية حلها بترجمتها الي مشروعات قوانين ليعرضها جلسات مجلس النواب واقناع زملاه باقي المناطق بتبني القوانين والتصويت   \\\n",
            "1-gram                                          (الحياة,)                                                                                                                                                                                                                                                                                                                                                                                                                                                                                                                                                                                                                                                                                                                                                                                                                                                                                                                                                                                                                                                                                                                                                                                                                                                                                                                                                                                                                                                                                                                                                                                                                                                                                                                                                                                                                                                                                                                                                                                                                                                                                                                                                                                                                                                                                                                                                                        \n",
            "2-gram                                   (الحياة, السرية)                                                                                                                                                                                                                                                                                                                                                                                                                                                                                                                                                                                                                                                                                                                                                                                                                                                                                                                                                                                                                                                                                                                                                                                                                                                                                                                                                                                                                                                                                                                                                                                                                                                                                                                                                                                                                                                                                                                                                                                                                                                                                                                                                                                                                                                                                                                                                                        \n",
            "3-gram                          (الحياة, السرية, لوالدهم)                                                                                                                                                                                                                                                                                                                                                                                                                                                                                                                                                                                                                                                                                                                                                                                                                                                                                                                                                                                                                                                                                                                                                                                                                                                                                                                                                                                                                                                                                                                                                                                                                                                                                                                                                                                                                                                                                                                                                                                                                                                                                                                                                                                                                                                                                                                                                                        \n",
            "4-gram                   (الحياة, السرية, لوالدهم, وفاته)                                                                                                                                                                                                                                                                                                                                                                                                                                                                                                                                                                                                                                                                                                                                                                                                                                                                                                                                                                                                                                                                                                                                                                                                                                                                                                                                                                                                                                                                                                                                                                                                                                                                                                                                                                                                                                                                                                                                                                                                                                                                                                                                                                                                                                                                                                                                                                        \n",
            "\n",
            "       افراد الشرطة يساهمون غرس ازيد الف شجيرة بمناسبة اليوم العالمي للغاباتوتحيي الجزار غرار دول العالم اليوم الدولي للغابات الموافق مارس سنة شعار تاهيل الغابات الطريق الانعاش الرفاهية شارك افراد الشرطة رفقة السلطات المحلية والمجتمع المدني الناشط مجال حماية البية الحملة الوطنية الواسعة الحاملة لشعار فلنغرسها عملية تشجير سنة سمحت بغرس عدد معتبر مختلف انواع الاشجار النادرة الاصناف اتلفتها النيران الغابية الموسم الماضي بهدف المساهمة الميدانية اثرا التنوع النباتي الوطن وتوسيع الاملاك الغابية وحماية التربة ومحاربة التصحر يساعد ترقية الاطار المعيشي للمواطن ويحمي البية تنوعها العملية التطوعية ستستمر مصالح الشرطة المشاركة امتداد سنة ستسمح بالمشاركة الجهود الوطنية لتجسيد البرنامج الهادف الي غرس شجيرة اضافية وبالاضافة الي جهود مصالح الشرطة مكافحة اشكال التعدي الاملاك الغابية البية تبذل ايضا جهودا مجال الاعلام والتوعية لتعميق الوعي البيي والتعريف باهمية الحفاظ الثروة البيية وسبل ترقيتها اطار تنمية مستدامة   \\\n",
            "1-gram                                          (السرية,)                                                                                                                                                                                                                                                                                                                                                                                                                                                                                                                                                                                                                                                                                                                                                                                                                                                                                       \n",
            "2-gram                                  (السرية, لوالدهم)                                                                                                                                                                                                                                                                                                                                                                                                                                                                                                                                                                                                                                                                                                                                                                                                                                                                                       \n",
            "3-gram                           (السرية, لوالدهم, وفاته)                                                                                                                                                                                                                                                                                                                                                                                                                                                                                                                                                                                                                                                                                                                                                                                                                                                                                       \n",
            "4-gram                     (السرية, لوالدهم, وفاته, خميس)                                                                                                                                                                                                                                                                                                                                                                                                                                                                                                                                                                                                                                                                                                                                                                                                                                                                                       \n",
            "\n",
            "       ليلة العيد الحلويات وملابس جديدة وسباق الزمنليس للمناسبات طعم الطقوس الخاصة نرتبط وتمتد جذور ذاكرتنا الي سنوات بعيدة ترتبط ذاكرتنا بذاكرة الاجداد خاصة المناسبات تحتفي بالفرح ليلة العيد فتفوح صدي ذكرها رواح الحمامات القديمة وضحكات النسوة المشغولة براحة الحلويات ضجيج الاسواق وازدحامها المحبب لتنهي دورتها سهرة عالية جميلة تطربها اصوات تكبيرات العيد فتوقظ الطفولة قلب جلس ليستحضر تفاصيل الفرحة سهرة منزليةتنهي سهيلة ربة منزل معظم واجباتها الخاصة بالمنزل ليلة العيد لان الليلة مخصصة لاعتنا المراة لتجدد شي وتقول ان اعود الصالون انهيت الحمام المغربي ونقش الحنا اعود الي البيت لاستمتع بالسهرة زوجي واولادي باسترجاع ذكريات العيد والتخطيط لليوم التالي ويعتبر العيد رمزا للتجدد والصفا اقترنت طقوس العيد بتجديد الكثير الاشيا خططنا لتجديدها وتضيف اسما موظفة انها يجب ان تشعر بان شي مختلف العيد وانها يمكن ان ترتدي اي قطعة ملابس قديمة حمام العيد الليلة رمز للتجديد وتقول افك بيجامة العيد الجديدة اتذكر لهفة طفولتي الليلة المشاعر خصوصية بداخلي ذكريات الطفولةمن الصعب ان تخلو السهرة ليلة العيد حديث الذكريات وايام الطفولة فاطمة مدرسة لغة فرنسية تفضل السهر ليلة العيد لتسترجع اخواتها بهجة تكبيرات العيد مكدة ان اللحظات تعيد اليها صورة جمالية راعة طفولتها المدللة مدينتها للعيد تفاصيل كثيرة اجملها تكبيرات صلاة العيد وزيارات الاهل والاقارب والاصدقا للمعايدة تمتد قرابة الشهر العيد تبادل الاحاديثللحرمان طعم مختلف بنظر مروان كانت الحياة التجارية تتوقف تقريبا العيد والناس تقدس عطلة العيد الناس يقبلون الاسواق مختلف مناشط الحياة ليلة العيد بشكل منقطع النظير محل الحلاق يعتبر الاماكن الاكثر ازدحاما الليلة اعتبر ان انتظار الدور وتبادل الاحاديث شبان الحي الحلاق اجمل ذكرياتي العيد يمكن ان اتخلي العادة زيارة الحلاق ليلة العيد ويكد انه يشعر بالمتعة حقا يجد المحل مزدحما لان الازدحام يعيد اليه لحظات البهجة يعيشها طفولته التسوقيبقي لمحبي التسوق شغف بازدحام الاسواق ليلة العيد يمكن ان تعود منال موظفة السوق ان تتاكد انها انتهت تماما شرا حاجياتها وتفحصت المحلات حتي تتاكد انها اشترت الافضل وتقول العادة قديمة فاحيانا اتذرع بشرا اشيا بسيطة حتي امام لاذهب الي السوق خاصة ليلة العيد استمتع بازدحام ليلة العيد وبهجتها حلويات العيدولان العيد يكتمل الا بحلويات العيد كانت النسوة تجتمع لتحضيره بانواعه المختلفة وبكميات كبيرة احبت راضية ربة بيت ان تستغل فرصة وجود والدتها ضيافتها برفقة اختها لتحيي ليلة العيد بتحضير الانواع المختلفة حلوي العيد خاصة التشاراك الطابع القلاوة يجب ان تكون حاضرة العيد   \\\n",
            "1-gram                                         (لوالدهم,)                                                                                                                                                                                                                                                                                                                                                                                                                                                                                                                                                                                                                                                                                                                                                                                                                                                                                                                                                                                                                                                                                                                                                                                                                                                                                                                                                                                                                                                                                                                                                                                                                                                                                                                                                                                                                                                                                                                                                                                                                                                                                                                                                                                                                                                                                                           \n",
            "2-gram                                   (لوالدهم, وفاته)                                                                                                                                                                                                                                                                                                                                                                                                                                                                                                                                                                                                                                                                                                                                                                                                                                                                                                                                                                                                                                                                                                                                                                                                                                                                                                                                                                                                                                                                                                                                                                                                                                                                                                                                                                                                                                                                                                                                                                                                                                                                                                                                                                                                                                                                                                           \n",
            "3-gram                             (لوالدهم, وفاته, خميس)                                                                                                                                                                                                                                                                                                                                                                                                                                                                                                                                                                                                                                                                                                                                                                                                                                                                                                                                                                                                                                                                                                                                                                                                                                                                                                                                                                                                                                                                                                                                                                                                                                                                                                                                                                                                                                                                                                                                                                                                                                                                                                                                                                                                                                                                                                           \n",
            "4-gram                      (لوالدهم, وفاته, خميس, دقيقة)                                                                                                                                                                                                                                                                                                                                                                                                                                                                                                                                                                                                                                                                                                                                                                                                                                                                                                                                                                                                                                                                                                                                                                                                                                                                                                                                                                                                                                                                                                                                                                                                                                                                                                                                                                                                                                                                                                                                                                                                                                                                                                                                                                                                                                                                                                           \n",
            "\n",
            "       ايران ادارة بايدن رفع العقوبات محادثات احيا الاتفاق النوويقالت ايران الاثنين انه يتعين الولايات المتحدة رفع العقوبات المفروضة الجمهورية الاسلامية اولا اذا كانت تريد اجرا محادثات لانقاذ الاتفاق النووي الموقع عام قوي عالمية انسحب الريس الامريكي السابق دونالد ترامب الريس الامريكي جو بايدن قال ان واشنطن مستعدة لاجرا محادثات بشان عودة البلدين الي الامتثال للاتفاق ضمنت ايران طريقه رفع العقوبات مقابل تقليص نشاطها النووي طرف يريد الاخر ان يتحرك اولا ويخشي الغرب ان تكون ايران تسعي لامتلاك اسلحة نووية طهران تقول ان يكن هدفها وقال سعيد خطيب زاده المتحدث باسم وزارة الخارجية يتعين ادارة الريس جو بايدن تغيير سياسة الضغوط القصوي اتبعها ترامب طهران اذا كانت تريد اجرا محادثات ايران يتعين اولا رفع العقوبات وقالت واشنطن الاحد انها شعرت بخيبة امل لرفض ايران اجرا محادثات مستعدة للانخراط جديد عملية دبلوماسية مجدية وستتشاور قوي كبري تطالب ايران برفع العقوبات الامريكية اولا تقول واشنطن انه يتعين طهران العودة للالتزام بالاتفاق تعمل خرقه بشكل متزايد وقال خطيب زاده رفض الادارة الامريكية الجديدة العودة للاتفاق خطا تاريخي وتابع ان ايران ستواصل العمل الوكالة الدولية للطاقة الذرية الرغم تقليص التعاون جهة مقابة تمضي بريطانيا وفرنسا والمانيا قدما خطة تدعمها الولايات المتحدة لاصدار قرار مجلس محافظي الوكالة الدولية للطاقة الذرية ينتقد ايران لتقليصها تعاونها الوكالة رغم تحذيرات روسية وايرانية عواقب خطيرة ويعقد مجلس محافظي الوكالة الملف دولة اجتماعه ربع السنوي الاسبوع جهود متعثرة لاحيا الاتفاق النووي المبرم ايران والقوي العالمية اصبح الريس الامريكي جو بايدن السلطة وسرعت ايران الاونة الاخيرة وتيرة انتهاكاتها للاتفاق ابرم عام محاولة واضحة لزيادة الضغط بايدن اصرار طرف ان يتحرك الاخر اولا وجات انتهاكات طهران للاتفاق ردا انسحاب واشنطن عام واعادة فرض العقوبات الامريكية رفعت بموجبه احدث انتهاك تقليص طهران الاسبوع الماضي لتعاونها الوكالة الدولية للطاقة الذرية بوقف اجراات تفتيش ومراقبة اضافية كانت مطبقة بموجب الاتفاق سلطة اجرا الوكالة عمليات تفتيش مفاجة بمنشات يعلن انها مرتبطة بالطاقة النووية ووزعت الدول الاوروبية الثلاث موقعة الاتفاق النووي مسودة قرار اجل الاجتماع سيعقد فيينا تعبر القلق الشديد حيال تقليص ايران للشفافية وتحثها التراجع الخطوات تعبر المسودة ارسلت الي اعضا مجلس محافظي الوكالة وحصلت رويترز ايضا القلق ازا عدم احراز تقدم الحصول تفسيرات ايران بشان جزيات يورانيوم عثر ثلاثة مواقع قديمة موقعان اعلنت الوكالة الدولية للطاقة الذرية اكتشاف الجزيات الاسبوع الماضي وغضبت ايران احتمال توجيه الانتقاد وهددت بالغا اتفاق ابرم اسبوع الوكالة يقضي بالاستمرار مقتا كثير اجراات المراقبة كانت قررت انهاها ترتيب وصفه المدير العام للوكالة بانه يشبه الصندوق الاسود ويسري لمدة تصل الي ثلاثة اشهر بهدف اتاحة فرصة للدبلوماسية يبدو ان الدبلوماسية تحقق تقدما يذكر قالت ايران الاحد انها تقبل اقتراحا قدمه منسق السياسة الخارجية بالاتحاد الاوروبي جوزيب بوريل بعقد اجتماع رسمي باقي اطراف الاتفاق النووي والولايات المتحدة يتضح دولة ستدعم اصدار قرار وحذرت روسيا وثيقة تبين موقفها الامر وحصلت رويترز اعلان ايران ان تبني قرار يلحق الضرر بجهود احيا الاتفاق يعرف رسميا باسم خطة العمل الشاملة المشتركة وانها ستعارضه وجا مذكرة روسيا الموجهة لباقي الاعضا يساعد تبني القرار العملية السياسية الرامية الي العودة للتطبيق الشامل الطبيعي لخطة العمل الشاملة المشتركة وتضيف العكس فانها ستعقد بشدة الجهود وتقوض فرص احيا خطة العمل الشاملة المشتركة والتعاون الطبيعي ايران والوكالة   \\\n",
            "1-gram                                           (وفاته,)                                                                                                                                                                                                                                                                                                                                                                                                                                                                                                                                                                                                                                                                                                                                                                                                                                                                                                                                                                                                                                                                                                                                                                                                                                                                                                                                                                                                                                                                                                                                                                                                                                                                                                                                                                                                                                                                                                                                                                                                                                                                                                                                                                                                                                                                                                                                                                                                                                                                                                                                                                                                                                                                                                                                                                                                                                                                                                                                                                                                                                                                                                                                                                                                               \n",
            "2-gram                                      (وفاته, خميس)                                                                                                                                                                                                                                                                                                                                                                                                                                                                                                                                                                                                                                                                                                                                                                                                                                                                                                                                                                                                                                                                                                                                                                                                                                                                                                                                                                                                                                                                                                                                                                                                                                                                                                                                                                                                                                                                                                                                                                                                                                                                                                                                                                                                                                                                                                                                                                                                                                                                                                                                                                                                                                                                                                                                                                                                                                                                                                                                                                                                                                                                                                                                                                                                               \n",
            "3-gram                               (وفاته, خميس, دقيقة)                                                                                                                                                                                                                                                                                                                                                                                                                                                                                                                                                                                                                                                                                                                                                                                                                                                                                                                                                                                                                                                                                                                                                                                                                                                                                                                                                                                                                                                                                                                                                                                                                                                                                                                                                                                                                                                                                                                                                                                                                                                                                                                                                                                                                                                                                                                                                                                                                                                                                                                                                                                                                                                                                                                                                                                                                                                                                                                                                                                                                                                                                                                                                                                                               \n",
            "4-gram                         (وفاته, خميس, دقيقة, ليلا)                                                                                                                                                                                                                                                                                                                                                                                                                                                                                                                                                                                                                                                                                                                                                                                                                                                                                                                                                                                                                                                                                                                                                                                                                                                                                                                                                                                                                                                                                                                                                                                                                                                                                                                                                                                                                                                                                                                                                                                                                                                                                                                                                                                                                                                                                                                                                                                                                                                                                                                                                                                                                                                                                                                                                                                                                                                                                                                                                                                                                                                                                                                                                                                                               \n",
            "\n",
            "       اضيفي الي منزلك لمسة طبيعية الاكسسوارات يدوية الصنعلكي تضيفي الي منزلك لمسة طبيعية يمكنك ان تصنعي اكسسوارات راعة الحبال الحالة تحصلين مثلا غطا للمصابيح او اطار للمرايا او قاعدة تضعينها مادة الطعام ندعوك الي ان تتعلمي كيفية صناعة يمكنك ان تضيفي الي منزلك علامة فارقة فريدة ومميزة مصنوعة الحبال الحبال لتزيين منزلكيمكنك ان تلجي الي الحبال السميكة تصنعي اكسسوارات تساعدك تزيين منزلك بطريقة فريدة لتزيين المصابيحيتعين الحالة ان تقومي الخطوات السهلة والسريعة احضري علبة المعدن او الخشب مفتوحة جانب واحد احدثي الجانب المفتوح ثغرة تتيح ادخال سلك المصباح اللمبة عبرها ادخلي السلك الثغرة علقي اللمبة ضعي مساحة العلبة ايا شكلها كمية كافية الغرا قومي بلف الحبل العلبة ان تتلاصق اجزاه واخيرا اتركي الغرا يجف قاعدة اطباق للمادةبطريقة سهلة يمكنك ان تصنعي الحبال قاعدة لاطباق المادة اختاري حبلا بالسماكة تريدين احضري قطعة الخشب والافضل ان تكون مستديرة الشكل ضعي كامل مساحتها كمية كافية الغرا قومي بلف الحبل مساحتها بشكل حلزوني ان تتشكل دوار تنطلق الوسط الي الاطراف يجب ان تكون الدوار متلاصقة تماما ويجب الحالة انتظار ان يجف الغرا لتزيين البرطماناتمن الممكن ان يستخدم الحبل لتزيين البرطمانات الزجاجية الغاية يجب طلا المساحة الخارجية للمرطبان بالغرا يلف الحبل ان يغطي المساحة يمكن الحصول برطمان بشكل مختلف ومميز لاطار المرايايمكن تزيين المراة بالحبل سوا شكلها داريا او مربعا او يكفي دهن اطراف المراة بالغرا الصاق طبقات متتالية الحبل يمكن صنع اكسسوارات راعة لمنزلك الحبال   \\\n",
            "1-gram                                            (خميس,)                                                                                                                                                                                                                                                                                                                                                                                                                                                                                                                                                                                                                                                                                                                                                                                                                                                                                                                                                                                                                                                                                                                                                                                                                                                                                                                                                           \n",
            "2-gram                                      (خميس, دقيقة)                                                                                                                                                                                                                                                                                                                                                                                                                                                                                                                                                                                                                                                                                                                                                                                                                                                                                                                                                                                                                                                                                                                                                                                                                                                                                                                                                           \n",
            "3-gram                                (خميس, دقيقة, ليلا)                                                                                                                                                                                                                                                                                                                                                                                                                                                                                                                                                                                                                                                                                                                                                                                                                                                                                                                                                                                                                                                                                                                                                                                                                                                                                                                                                           \n",
            "4-gram                         (خميس, دقيقة, ليلا, اليكم)                                                                                                                                                                                                                                                                                                                                                                                                                                                                                                                                                                                                                                                                                                                                                                                                                                                                                                                                                                                                                                                                                                                                                                                                                                                                                                                                                           \n",
            "\n",
            "       الاهلي المصري يضع قدما نصف نهاي ابطال افريقياحسم الاهلي المصري مواجهة ذهاب ربع نهاي دوري ابطال افريقيا بفوزه ضيفه ماميلودي صن داونز الجنوب افريقي بثناية مقابل وافتتح طاهر محمد طاهر اول اهداف المارد الاحمر الدقيقة الثالثة والعشرين تسديدة قوية وعزز صلاح محسن تقدم الاهلي نهاية المباراة بدقيقة واحدة خطا فادح حارس الفريق الجنوب افريقي وسيتقابل الفريقان السبت المقبل افريقيا ايابا اجل تاكيد تفوقه والعبور الي المربع الذهبي البطولة القارية الابرز مستوي الاندية طريقه للمحافظة لقبه   \\\n",
            "1-gram                                           (دقيقة,)                                                                                                                                                                                                                                                                                                                                                                                                                                             \n",
            "2-gram                                      (دقيقة, ليلا)                                                                                                                                                                                                                                                                                                                                                                                                                                             \n",
            "3-gram                               (دقيقة, ليلا, اليكم)                                                                                                                                                                                                                                                                                                                                                                                                                                             \n",
            "4-gram                        (دقيقة, ليلا, اليكم, اعادة)                                                                                                                                                                                                                                                                                                                                                                                                                                             \n",
            "\n",
            "       حزب ايطالي يطالب بتوضيح حدث قبالة السواحل الليبيةطالبت زعيمة الحزب الديمقراطي البرلمان الايطالي ديبورا سيراكياني بتوضيح سريع الهجوم تعرضت قوارب الصيد الايطالية خفر السواحل الليبي تسبب اصابة القاد جوزيبي جياكالوني واعتبرت سيراكياني ان امر خطير للغاية مقبول واشارت زعيمة الحزب الايطالي الي انه المقبول تعريض سلامة الصيادين الايطاليين للخطر وفقا نقلتة نقلته وكالة نوفا الايطالية   \\\n",
            "1-gram                                            (ليلا,)                                                                                                                                                                                                                                                                                                                                         \n",
            "2-gram                                      (ليلا, اليكم)                                                                                                                                                                                                                                                                                                                                         \n",
            "3-gram                               (ليلا, اليكم, اعادة)                                                                                                                                                                                                                                                                                                                                         \n",
            "4-gram                       (ليلا, اليكم, اعادة, الحلقة)                                                                                                                                                                                                                                                                                                                                         \n",
            "\n",
            "       الشرطة تستبعد ان يكون الهجوم بسكين المانيا بدافع جهادياعلنت السلطات الالمانية السبت ان محققي الشرطة يدرسون ان التطرف ام العامل النفسي ورا تنفيذ رجل يبلغ عاما هجوما بسكين مدينة فورتسبورغ البلاد اودي بثلاث نسا وخل ستة مصابين بجروح بالغة ونف المشتبه الصومالي وصل الي المانيا عام الاعتدا وسط المدينة مسا الجمعة مستهدفا متجرا لبيع المعدات المنزلية ان يتوج الي مصرف وسيطرت الشرطة لاحقا اطلقت النار الجز الاسفل جسمه وعثر المحققون سج تظهر ان الرجل يتلقي العلاج مصحة للامراض النفسية اشارت الشرطة الي انه اسلاميا معروفا بالنسبة للسلطات احد الشهود قال انه هتف الله اكبر اثنا الهجوم اثار تسالات دوافعه وقال وزير داخلية ولاية بافاريا يواكيم هيرمان ان الشرطة زالت تبحث الادلة هاتفان محمولان شدد ان الادلة وجود تطرف اسلامي محتمل والدلال احتمال وجود خلل الجاني يمكن الا تتعارض وقالت المستشارة الالمانية انغيلا ميركل المكد ان العمل المرو موج ضد الانسانية الاديان حزب البديل اجل المانيا اليميني المتشدد سارع للتعليق الهجوم ياتي ثلاثة شهور الانتخابات العامة وندد الريس المشارك للحزب المناهض للهجرة يورغ موتين بعمليات القتل الاسلامية بالسكاكين قلب المانيا مخرا مضيفا ان يحصل ماساة بالنسبة للضحايا اتعاطف وتجسيد اخر لسياسة ميركل الفاشلة بشان الهجرة وشدد حزب البديل اجل المانيا مرارا ان قرار المستشارة الالمانية انغيلا ميركل السماح بدخول اكثر مليون طالب لجو فر العديد سوريا والعراق ساهم رفع مستوي المخاطر الامنية وذكرت نسخة صحيفة دير شبيغل الالكترونية ان المشتبه قال استجوابه ان يندرج اطار الجهاد جهتها قالت صحيفة بيلد دايلي ان الشرطة عثرت مواد دعاية صادرة تنظيم الدولة الاسلامية صندوق قمامة ماوي للمشردين اقام المشتبه الشرطة قالت انه يمكنها تاكيد ورد التقرير الصحافي حال تاكدت دوافعه الاسلامية يعيد الهجوم فتح الجدل المانيا بشان الهجرة ملف بدا انه يعد اولوية حملات العام الجاري الانتخابية مقارنة الوضع فاز البديل اجل المانيا بمقاعد البرلمان لاول المدينة البافارية جلب السكان الزهور والشموع صباحا الي موقع عملية الطعن وقالت فرانسيسكا جلبت الشموع الي الموقع احد اصدقاها انه امر فظيع اشعر بحزن بالغ وصدمة اتيت الي اري ان اقل يمكن القيام ابدا التعاطف بدوره اعرب الريس الالماني فرانك فالتر شتاينماير صدمته لالوحشية الشديدة للجريمة وتابع نعيش حالة حداد المانيا برم تها اليوم اقارب الضحايا متمنيا للمصابين الشفا العاجل وقالت الشرطة ان واحدا المصابين الستة يزال وضع حرج خلص المحققون الي ان المشتبه دخل الي محل معدات منزلية وسال الباعة مكان وجود السكاكين حصوله سكين الي الباعة وطعنها عدة مرات الي ان ماتت وفق افاد مدير الشرطة المنطقة وطعن الرجل اثر امراتين اخريين ان يغادر المحل واظهرت تسجيلات مصورة انتشرت الانترنت مارة يحمل كراسي اثنا محاولتهم منع تقد المهاجم وطاردت مجموعة الاشخاص المهاجم وصول سيارة شرطة الي الموقع وفق اظهر احد التسجيلات تزال دوافع المنف واضحة كانت المانيا حالة تاه عدة هجمات نفذها اسلاميون متطرفون وشهدت فورتسبورغ خمس سنوات هجوما نف شخص بفاس ادي الي اصابة اربعة اشخاص بجروح متن قطار وحاول منف الاعتدا الافغاني مهاجمة احد المارة اثنا فراره ان ترديه الشرطة تبني تنظيم الدولة الاسلامية الاعتدا الهجوم الاكثر دموية الدوافع الاسلامية وقع ديسمبر نف جهادي عملية دهس سوق لعيد الميلاد برلين اودت شخصا المهاجم التونسي طالب لجو فشل الحصول وضع الحماية انصار تنظيم الدولة الاسلامية يبلغ عدد الاسلاميين يعتبرون خطرين المانيا اخر احصا مقارنة يناير   \n",
            "1-gram                                           (اليكم,)                                                                                                                                                                                                                                                                                                                                                                                                                                                                                                                                                                                                                                                                                                                                                                                                                                                                                                                                                                                                                                                                                                                                                                                                                                                                                                                                                                                                                                                                                                                                                                                                                                                                                                                                                                                                                                                                                                                                                                                                                                                                                                                                                                                                                                                                                                                                                                                                                                                                                                                                                                                                                                                                                                                                                                                                                                                                                                                                                                                                                                                                                                 \n",
            "2-gram                                     (اليكم, اعادة)                                                                                                                                                                                                                                                                                                                                                                                                                                                                                                                                                                                                                                                                                                                                                                                                                                                                                                                                                                                                                                                                                                                                                                                                                                                                                                                                                                                                                                                                                                                                                                                                                                                                                                                                                                                                                                                                                                                                                                                                                                                                                                                                                                                                                                                                                                                                                                                                                                                                                                                                                                                                                                                                                                                                                                                                                                                                                                                                                                                                                                                                                                 \n",
            "3-gram                             (اليكم, اعادة, الحلقة)                                                                                                                                                                                                                                                                                                                                                                                                                                                                                                                                                                                                                                                                                                                                                                                                                                                                                                                                                                                                                                                                                                                                                                                                                                                                                                                                                                                                                                                                                                                                                                                                                                                                                                                                                                                                                                                                                                                                                                                                                                                                                                                                                                                                                                                                                                                                                                                                                                                                                                                                                                                                                                                                                                                                                                                                                                                                                                                                                                                                                                                                                                 \n",
            "4-gram                    (اليكم, اعادة, الحلقة, التاسعة)                                                                                                                                                                                                                                                                                                                                                                                                                                                                                                                                                                                                                                                                                                                                                                                                                                                                                                                                                                                                                                                                                                                                                                                                                                                                                                                                                                                                                                                                                                                                                                                                                                                                                                                                                                                                                                                                                                                                                                                                                                                                                                                                                                                                                                                                                                                                                                                                                                                                                                                                                                                                                                                                                                                                                                                                                                                                                                                                                                                                                                                                                                 \n",
            "\n",
            "[4 rows x 100 columns]\n"
          ]
        }
      ],
      "source": [
        "# Create a DataFrame to display the results\n",
        "result_df = pd.DataFrame(data)\n",
        "print(\"\\nTable of Features for Each N-gram:\")\n",
        "print(result_df)\n",
        "\n",
        "# Display the results in a table\n",
        "result_df_display = result_df.set_index('Text').transpose()\n",
        "result_df_display.columns.name = None  # Remove the column name for better display\n",
        "print(result_df_display)\n"
      ]
    },
    {
      "cell_type": "code",
      "execution_count": null,
      "metadata": {
        "id": "e5a91bd0",
        "outputId": "fbc72073-c12f-4b73-999d-78d0d6cf2510",
        "colab": {
          "base_uri": "https://localhost:8080/"
        }
      },
      "outputs": [
        {
          "output_type": "stream",
          "name": "stdout",
          "text": [
            "\n",
            "Table of Features for Each N-gram:\n",
            "                                      0                              1   \\\n",
            "1-gram                         (شاهدوا,)                      (الحلقة,)   \n",
            "2-gram                  (شاهدوا, الحلقة)              (الحلقة, التاسعة)   \n",
            "3-gram         (شاهدوا, الحلقة, التاسعة)       (الحلقة, التاسعة, سلسلة)   \n",
            "4-gram  (شاهدوا, الحلقة, التاسعة, سلسلة)  (الحلقة, التاسعة, سلسلة, دار)   \n",
            "\n",
            "                                         2                                3   \\\n",
            "1-gram                           (التاسعة,)                         (سلسلة,)   \n",
            "2-gram                     (التاسعة, سلسلة)                     (سلسلة, دار)   \n",
            "3-gram                (التاسعة, سلسلة, دار)       (سلسلة, دار, السلعةتتمحور)   \n",
            "4-gram  (التاسعة, سلسلة, دار, السلعةتتمحور)  (سلسلة, دار, السلعةتتمحور, قصة)   \n",
            "\n",
            "                                    4                               5   \\\n",
            "1-gram                          (دار,)                 (السلعةتتمحور,)   \n",
            "2-gram             (دار, السلعةتتمحور)             (السلعةتتمحور, قصة)   \n",
            "3-gram        (دار, السلعةتتمحور, قصة)       (السلعةتتمحور, قصة, سلسة)   \n",
            "4-gram  (دار, السلعةتتمحور, قصة, سلسة)  (السلعةتتمحور, قصة, سلسة, دار)   \n",
            "\n",
            "                              6                           7   \\\n",
            "1-gram                    (قصة,)                     (سلسة,)   \n",
            "2-gram               (قصة, سلسة)                 (سلسة, دار)   \n",
            "3-gram          (قصة, سلسة, دار)         (سلسة, دار, السلعة)   \n",
            "4-gram  (قصة, سلسة, دار, السلعة)  (سلسة, دار, السلعة, الحاج)   \n",
            "\n",
            "                                8                            9   ...  \\\n",
            "1-gram                      (دار,)                    (السلعة,)  ...   \n",
            "2-gram               (دار, السلعة)              (السلعة, الحاج)  ...   \n",
            "3-gram        (دار, السلعة, الحاج)        (السلعة, الحاج, سلام)  ...   \n",
            "4-gram  (دار, السلعة, الحاج, سلام)  (السلعة, الحاج, سلام, صانع)  ...   \n",
            "\n",
            "                                     90                                  91  \\\n",
            "1-gram                          (اخوة,)                          (يكتشفون,)   \n",
            "2-gram                  (اخوة, يكتشفون)                   (يكتشفون, الحياة)   \n",
            "3-gram          (اخوة, يكتشفون, الحياة)           (يكتشفون, الحياة, السرية)   \n",
            "4-gram  (اخوة, يكتشفون, الحياة, السرية)  (يكتشفون, الحياة, السرية, لوالدهم)   \n",
            "\n",
            "                                      92                              93  \\\n",
            "1-gram                         (الحياة,)                       (السرية,)   \n",
            "2-gram                  (الحياة, السرية)               (السرية, لوالدهم)   \n",
            "3-gram         (الحياة, السرية, لوالدهم)        (السرية, لوالدهم, وفاته)   \n",
            "4-gram  (الحياة, السرية, لوالدهم, وفاته)  (السرية, لوالدهم, وفاته, خميس)   \n",
            "\n",
            "                                   94                          95  \\\n",
            "1-gram                     (لوالدهم,)                    (وفاته,)   \n",
            "2-gram               (لوالدهم, وفاته)               (وفاته, خميس)   \n",
            "3-gram         (لوالدهم, وفاته, خميس)        (وفاته, خميس, دقيقة)   \n",
            "4-gram  (لوالدهم, وفاته, خميس, دقيقة)  (وفاته, خميس, دقيقة, ليلا)   \n",
            "\n",
            "                                96                           97  \\\n",
            "1-gram                     (خميس,)                     (دقيقة,)   \n",
            "2-gram               (خميس, دقيقة)                (دقيقة, ليلا)   \n",
            "3-gram         (خميس, دقيقة, ليلا)         (دقيقة, ليلا, اليكم)   \n",
            "4-gram  (خميس, دقيقة, ليلا, اليكم)  (دقيقة, ليلا, اليكم, اعادة)   \n",
            "\n",
            "                                  98                               99  \n",
            "1-gram                       (ليلا,)                         (اليكم,)  \n",
            "2-gram                 (ليلا, اليكم)                   (اليكم, اعادة)  \n",
            "3-gram          (ليلا, اليكم, اعادة)           (اليكم, اعادة, الحلقة)  \n",
            "4-gram  (ليلا, اليكم, اعادة, الحلقة)  (اليكم, اعادة, الحلقة, التاسعة)  \n",
            "\n",
            "[4 rows x 100 columns]\n"
          ]
        }
      ],
      "source": [
        "# ... (previous code)\n",
        "\n",
        "# Create a DataFrame to display the results\n",
        "result_df = pd.DataFrame(data)\n",
        "\n",
        "# Display the results in a table without the 'Text' column\n",
        "result_df_display = result_df.drop('Text', axis=1).transpose()\n",
        "result_df_display.columns.name = None  # Remove the column name for better display\n",
        "\n",
        "# Print the table of features for each n-gram\n",
        "print(\"\\nTable of Features for Each N-gram:\")\n",
        "print(result_df_display)\n"
      ]
    },
    {
      "cell_type": "code",
      "source": [
        "# for english data\n",
        "en_X_train, en_X_test, en_y_train, en_y_test = train_test_split(en_dataset[\"text\"]\n",
        "                                                                , en_dataset['label']\n",
        "                                                                , test_size=0.2,\n",
        "                                                                random_state=42,\n",
        "                                                                shuffle=True)"
      ],
      "metadata": {
        "id": "FAF8Nfd3QDYo"
      },
      "execution_count": null,
      "outputs": []
    },
    {
      "cell_type": "code",
      "source": [
        "# Import necessary libraries\n",
        "from sklearn.feature_extraction.text import CountVectorizer, TfidfVectorizer\n",
        "\n",
        "# Define parameters for vectorization\n",
        "max_features = 5000  # Adjust the maximum number of features as needed\n",
        "ngram_range = (1, 3)  # Define the range for n-grams\n",
        "\n"
      ],
      "metadata": {
        "id": "17E_-JgbSjdv"
      },
      "execution_count": null,
      "outputs": []
    },
    {
      "cell_type": "code",
      "source": [
        "# important properties\n",
        "vocab_size_ar = 20000\n",
        "max_length_ar = 500\n",
        "\n",
        "vocab_size_en = 10000\n",
        "max_length_en = 250\n",
        "\n",
        "trunc_type = 'post'\n",
        "padding_type = 'post'\n",
        "oov_tok = '<OOV>'"
      ],
      "metadata": {
        "id": "EIH_PUwERHvK"
      },
      "execution_count": null,
      "outputs": []
    },
    {
      "cell_type": "code",
      "source": [
        "# for arabic dataset\n",
        "tokenizer_ar = Tokenizer(num_words=vocab_size_ar, oov_token=oov_tok)\n",
        "tokenizer_ar.fit_on_texts(ar_X_train)"
      ],
      "metadata": {
        "id": "G2_WPjVLROEu"
      },
      "execution_count": null,
      "outputs": []
    },
    {
      "cell_type": "code",
      "source": [
        "# for english dataset\n",
        "tokenizer_en = Tokenizer(num_words=vocab_size_en, oov_token=oov_tok)\n",
        "tokenizer_en.fit_on_texts(en_X_train)"
      ],
      "metadata": {
        "id": "gUCPxt5fRgzT"
      },
      "execution_count": null,
      "outputs": []
    },
    {
      "cell_type": "code",
      "execution_count": null,
      "metadata": {
        "execution": {
          "iopub.execute_input": "2023-03-07T21:39:56.173015Z",
          "iopub.status.busy": "2023-03-07T21:39:56.171872Z",
          "iopub.status.idle": "2023-03-07T21:40:00.969298Z",
          "shell.execute_reply": "2023-03-07T21:40:00.967117Z"
        },
        "papermill": {
          "duration": 4.819571,
          "end_time": "2023-03-07T21:40:00.972478",
          "exception": false,
          "start_time": "2023-03-07T21:39:56.152907",
          "status": "completed"
        },
        "tags": [],
        "id": "15f2161e"
      },
      "outputs": [],
      "source": [
        "#To Save conf execute this cell\n",
        "#Save Tokenizer Configuration\n",
        "\n",
        "tok_conf_en = tokenizer_en.to_json()\n",
        "tok_conf_ar = tokenizer_ar.to_json()\n"
      ]
    },
    {
      "cell_type": "code",
      "execution_count": null,
      "metadata": {
        "execution": {
          "iopub.execute_input": "2023-03-07T21:40:01.008953Z",
          "iopub.status.busy": "2023-03-07T21:40:01.008294Z",
          "iopub.status.idle": "2023-03-07T21:40:16.490852Z",
          "shell.execute_reply": "2023-03-07T21:40:16.489686Z"
        },
        "papermill": {
          "duration": 15.50433,
          "end_time": "2023-03-07T21:40:16.493942",
          "exception": false,
          "start_time": "2023-03-07T21:40:00.989612",
          "status": "completed"
        },
        "tags": [],
        "id": "c9b50f32"
      },
      "outputs": [],
      "source": [
        "# tokenizing\n",
        "# for arabic data\n",
        "ar_X_train = tokenizer_ar.texts_to_sequences(ar_X_train)\n",
        "ar_X_test = tokenizer_ar.texts_to_sequences(ar_X_test)"
      ]
    },
    {
      "cell_type": "code",
      "execution_count": null,
      "metadata": {
        "execution": {
          "iopub.execute_input": "2023-03-07T21:40:16.530943Z",
          "iopub.status.busy": "2023-03-07T21:40:16.530524Z",
          "iopub.status.idle": "2023-03-07T21:40:23.318766Z",
          "shell.execute_reply": "2023-03-07T21:40:23.316921Z"
        },
        "papermill": {
          "duration": 6.811109,
          "end_time": "2023-03-07T21:40:23.322362",
          "exception": false,
          "start_time": "2023-03-07T21:40:16.511253",
          "status": "completed"
        },
        "tags": [],
        "id": "03cd9fae"
      },
      "outputs": [],
      "source": [
        "#for english data\n",
        "en_X_train = tokenizer_en.texts_to_sequences(en_X_train)\n",
        "en_X_test = tokenizer_en.texts_to_sequences(en_X_test)"
      ]
    },
    {
      "cell_type": "code",
      "execution_count": null,
      "metadata": {
        "execution": {
          "iopub.execute_input": "2023-03-07T21:40:23.358242Z",
          "iopub.status.busy": "2023-03-07T21:40:23.357832Z",
          "iopub.status.idle": "2023-03-07T21:40:24.131990Z",
          "shell.execute_reply": "2023-03-07T21:40:24.130168Z"
        },
        "papermill": {
          "duration": 0.795749,
          "end_time": "2023-03-07T21:40:24.134951",
          "exception": false,
          "start_time": "2023-03-07T21:40:23.339202",
          "status": "completed"
        },
        "tags": [],
        "id": "3dd99beb"
      },
      "outputs": [],
      "source": [
        "# text padding and truncating\n",
        "# for arabic data\n",
        "ar_X_train = pad_sequences(ar_X_train, maxlen=max_length_ar,\n",
        "                         padding=padding_type,\n",
        "                         truncating=trunc_type)\n",
        "ar_X_test = pad_sequences(ar_X_test, maxlen=max_length_ar,\n",
        "                         padding=padding_type,\n",
        "                         truncating=trunc_type)"
      ]
    },
    {
      "cell_type": "code",
      "execution_count": null,
      "metadata": {
        "execution": {
          "iopub.execute_input": "2023-03-07T21:40:24.171833Z",
          "iopub.status.busy": "2023-03-07T21:40:24.171148Z",
          "iopub.status.idle": "2023-03-07T21:40:24.745346Z",
          "shell.execute_reply": "2023-03-07T21:40:24.743793Z"
        },
        "papermill": {
          "duration": 0.596155,
          "end_time": "2023-03-07T21:40:24.748314",
          "exception": false,
          "start_time": "2023-03-07T21:40:24.152159",
          "status": "completed"
        },
        "tags": [],
        "id": "21f8bef6"
      },
      "outputs": [],
      "source": [
        "# for english data\n",
        "en_X_train = pad_sequences(en_X_train, maxlen=max_length_en,\n",
        "                         padding=padding_type,\n",
        "                         truncating=trunc_type)\n",
        "en_X_test = pad_sequences(en_X_test, maxlen=max_length_en,\n",
        "                         padding=padding_type,\n",
        "                         truncating=trunc_type)"
      ]
    },
    {
      "cell_type": "markdown",
      "source": [
        "# Model Building and Training\n",
        "\n"
      ],
      "metadata": {
        "id": "1RxottWtVO5l"
      }
    },
    {
      "cell_type": "code",
      "execution_count": null,
      "metadata": {
        "execution": {
          "iopub.execute_input": "2023-03-07T21:40:24.817892Z",
          "iopub.status.busy": "2023-03-07T21:40:24.817442Z",
          "iopub.status.idle": "2023-03-07T21:40:24.826390Z",
          "shell.execute_reply": "2023-03-07T21:40:24.824853Z"
        },
        "papermill": {
          "duration": 0.030326,
          "end_time": "2023-03-07T21:40:24.829250",
          "exception": false,
          "start_time": "2023-03-07T21:40:24.798924",
          "status": "completed"
        },
        "tags": [],
        "id": "edd0dc6b"
      },
      "outputs": [],
      "source": [
        "# Create the LSTM model for Arabic dataset\n",
        "arabic_model = Sequential()\n",
        "arabic_model.add(Embedding(input_dim=vocab_size_ar, output_dim=64, input_length=max_length_ar))"
      ]
    },
    {
      "cell_type": "code",
      "execution_count": null,
      "metadata": {
        "execution": {
          "iopub.execute_input": "2023-03-07T21:40:24.865130Z",
          "iopub.status.busy": "2023-03-07T21:40:24.864729Z",
          "iopub.status.idle": "2023-03-07T21:40:25.170472Z",
          "shell.execute_reply": "2023-03-07T21:40:25.168081Z"
        },
        "papermill": {
          "duration": 0.327112,
          "end_time": "2023-03-07T21:40:25.173387",
          "exception": true,
          "start_time": "2023-03-07T21:40:24.846275",
          "status": "failed"
        },
        "scrolled": true,
        "tags": [],
        "id": "20eeecc7"
      },
      "outputs": [],
      "source": [
        "arabic_model.add(Bidirectional(LSTM(128)))  # Bidirectional LSTM layer"
      ]
    },
    {
      "cell_type": "code",
      "execution_count": null,
      "metadata": {
        "id": "e2ffa35d",
        "outputId": "1a0d956c-4865-4201-8a51-2d518744f86e",
        "colab": {
          "base_uri": "https://localhost:8080/"
        }
      },
      "outputs": [
        {
          "output_type": "stream",
          "name": "stdout",
          "text": [
            "Epoch 1/20\n",
            "282/282 [==============================] - 64s 220ms/step - loss: 0.6998 - accuracy: 0.5001 - val_loss: 0.6990 - val_accuracy: 0.4990\n",
            "Epoch 2/20\n",
            "282/282 [==============================] - 64s 227ms/step - loss: 0.6959 - accuracy: 0.5143 - val_loss: 0.6923 - val_accuracy: 0.5090\n",
            "Epoch 3/20\n",
            "282/282 [==============================] - 59s 209ms/step - loss: 0.6981 - accuracy: 0.5130 - val_loss: 0.6943 - val_accuracy: 0.5150\n",
            "Epoch 4/20\n",
            "282/282 [==============================] - 60s 213ms/step - loss: 0.6947 - accuracy: 0.5123 - val_loss: 0.6918 - val_accuracy: 0.5030\n",
            "Epoch 5/20\n",
            "282/282 [==============================] - 57s 201ms/step - loss: 0.6894 - accuracy: 0.5144 - val_loss: 0.6933 - val_accuracy: 0.5370\n",
            "Epoch 6/20\n",
            "282/282 [==============================] - 60s 214ms/step - loss: 0.6944 - accuracy: 0.5099 - val_loss: 0.7288 - val_accuracy: 0.4880\n",
            "Epoch 7/20\n",
            "282/282 [==============================] - 56s 200ms/step - loss: 0.6959 - accuracy: 0.5103 - val_loss: 0.6931 - val_accuracy: 0.5100\n",
            "Epoch 8/20\n",
            "282/282 [==============================] - 61s 216ms/step - loss: 0.6942 - accuracy: 0.5169 - val_loss: 0.6907 - val_accuracy: 0.5230\n",
            "Epoch 9/20\n",
            "282/282 [==============================] - 62s 219ms/step - loss: 0.6923 - accuracy: 0.5211 - val_loss: 0.7038 - val_accuracy: 0.5040\n",
            "Epoch 10/20\n",
            "282/282 [==============================] - 58s 205ms/step - loss: 0.6921 - accuracy: 0.5190 - val_loss: 0.6894 - val_accuracy: 0.5250\n",
            "Epoch 11/20\n",
            "282/282 [==============================] - 62s 220ms/step - loss: 0.6901 - accuracy: 0.5249 - val_loss: 0.6956 - val_accuracy: 0.5040\n",
            "Epoch 12/20\n",
            "282/282 [==============================] - 57s 203ms/step - loss: 0.6898 - accuracy: 0.5248 - val_loss: 0.6891 - val_accuracy: 0.5230\n",
            "Epoch 13/20\n",
            "282/282 [==============================] - 59s 209ms/step - loss: 0.6872 - accuracy: 0.5292 - val_loss: 0.6941 - val_accuracy: 0.5210\n",
            "Epoch 14/20\n",
            "282/282 [==============================] - 56s 199ms/step - loss: 0.6828 - accuracy: 0.5320 - val_loss: 0.6864 - val_accuracy: 0.5270\n",
            "Epoch 15/20\n",
            "282/282 [==============================] - 60s 214ms/step - loss: 0.6821 - accuracy: 0.5366 - val_loss: 0.6861 - val_accuracy: 0.5140\n",
            "Epoch 16/20\n",
            "282/282 [==============================] - 57s 204ms/step - loss: 0.6804 - accuracy: 0.5312 - val_loss: 0.6828 - val_accuracy: 0.5440\n",
            "Epoch 17/20\n",
            "282/282 [==============================] - 57s 202ms/step - loss: 0.6792 - accuracy: 0.5422 - val_loss: 0.6852 - val_accuracy: 0.5040\n",
            "Epoch 18/20\n",
            "282/282 [==============================] - 59s 211ms/step - loss: 0.6769 - accuracy: 0.5453 - val_loss: 0.6869 - val_accuracy: 0.5060\n",
            "Epoch 19/20\n",
            "282/282 [==============================] - 59s 210ms/step - loss: 0.6747 - accuracy: 0.5538 - val_loss: 0.6815 - val_accuracy: 0.5540\n",
            "Epoch 20/20\n",
            "282/282 [==============================] - 62s 219ms/step - loss: 0.6741 - accuracy: 0.5567 - val_loss: 0.6807 - val_accuracy: 0.5550\n"
          ]
        },
        {
          "output_type": "execute_result",
          "data": {
            "text/plain": [
              "<keras.src.callbacks.History at 0x780938fc2110>"
            ]
          },
          "metadata": {},
          "execution_count": 64
        }
      ],
      "source": [
        "from tensorflow.keras.layers import SimpleRNN, Embedding\n",
        "\n",
        "# Define the model for Arabic dataset with SimpleRNN\n",
        "arabic_model_rnn = Sequential()\n",
        "arabic_model_rnn.add(Embedding(input_dim=vocab_size_ar, output_dim=64, input_length=max_length_ar))\n",
        "arabic_model_rnn.add(SimpleRNN(128))  # Use SimpleRNN layer without return_sequences\n",
        "arabic_model_rnn.add(Dense(1, activation='sigmoid'))\n",
        "\n",
        "# Compile the Arabic RNN model\n",
        "arabic_model_rnn.compile(optimizer='adam', loss='binary_crossentropy', metrics=['accuracy'])\n",
        "\n",
        "# Train the Arabic RNN model\n",
        "arabic_model_rnn.fit(ar_X_train, ar_y_train, epochs=20, validation_data=(ar_X_test, ar_y_test))\n"
      ]
    },
    {
      "cell_type": "code",
      "execution_count": null,
      "metadata": {
        "scrolled": false,
        "id": "2e191fce",
        "outputId": "e71c6452-3be1-4f14-9b4a-3791f9b320f4",
        "colab": {
          "base_uri": "https://localhost:8080/"
        }
      },
      "outputs": [
        {
          "output_type": "stream",
          "name": "stdout",
          "text": [
            "Epoch 1/15\n",
            "282/282 [==============================] - 316s 1s/step - loss: 0.6925 - accuracy: 0.5154 - val_loss: 0.6907 - val_accuracy: 0.5080\n",
            "Epoch 2/15\n",
            "282/282 [==============================] - 293s 1s/step - loss: 0.6844 - accuracy: 0.5189 - val_loss: 0.6911 - val_accuracy: 0.5080\n",
            "Epoch 3/15\n",
            "282/282 [==============================] - 299s 1s/step - loss: 0.6785 - accuracy: 0.5193 - val_loss: 0.6913 - val_accuracy: 0.5090\n",
            "Epoch 4/15\n",
            "282/282 [==============================] - 277s 980ms/step - loss: 0.6761 - accuracy: 0.5184 - val_loss: 0.7042 - val_accuracy: 0.5040\n",
            "Epoch 5/15\n",
            "282/282 [==============================] - 268s 949ms/step - loss: 0.6801 - accuracy: 0.5279 - val_loss: 0.6909 - val_accuracy: 0.5110\n",
            "Epoch 6/15\n",
            "282/282 [==============================] - 263s 934ms/step - loss: 0.6741 - accuracy: 0.5227 - val_loss: 0.6956 - val_accuracy: 0.5110\n",
            "Epoch 7/15\n",
            "282/282 [==============================] - 277s 982ms/step - loss: 0.6724 - accuracy: 0.5181 - val_loss: 0.6983 - val_accuracy: 0.5050\n",
            "Epoch 8/15\n",
            "282/282 [==============================] - 278s 985ms/step - loss: 0.6709 - accuracy: 0.5304 - val_loss: 0.6982 - val_accuracy: 0.5100\n",
            "Epoch 9/15\n",
            "282/282 [==============================] - 260s 923ms/step - loss: 0.6717 - accuracy: 0.5176 - val_loss: 0.7058 - val_accuracy: 0.5040\n",
            "Epoch 10/15\n",
            "282/282 [==============================] - 264s 937ms/step - loss: 0.6707 - accuracy: 0.5217 - val_loss: 0.7122 - val_accuracy: 0.5120\n",
            "Epoch 11/15\n",
            "282/282 [==============================] - 260s 923ms/step - loss: 0.6523 - accuracy: 0.5694 - val_loss: 0.5092 - val_accuracy: 0.7870\n",
            "Epoch 12/15\n",
            "282/282 [==============================] - 259s 919ms/step - loss: 0.2959 - accuracy: 0.8886 - val_loss: 0.2310 - val_accuracy: 0.9210\n",
            "Epoch 13/15\n",
            "282/282 [==============================] - 265s 939ms/step - loss: 0.1012 - accuracy: 0.9700 - val_loss: 0.2485 - val_accuracy: 0.9160\n",
            "Epoch 14/15\n",
            "282/282 [==============================] - 262s 926ms/step - loss: 0.0514 - accuracy: 0.9882 - val_loss: 0.3263 - val_accuracy: 0.8880\n",
            "Epoch 15/15\n",
            "282/282 [==============================] - 263s 934ms/step - loss: 0.0379 - accuracy: 0.9916 - val_loss: 0.2808 - val_accuracy: 0.9170\n"
          ]
        },
        {
          "output_type": "execute_result",
          "data": {
            "text/plain": [
              "<keras.src.callbacks.History at 0x780840a3a410>"
            ]
          },
          "metadata": {},
          "execution_count": 65
        }
      ],
      "source": [
        "from tensorflow.keras.layers import LSTM, Embedding\n",
        "# Example for Arabic LSTM model with different hyperparameters\n",
        "arabic_model_lstm = Sequential()\n",
        "arabic_model_lstm.add(Embedding(input_dim=vocab_size_ar, output_dim=128, input_length=max_length_ar))\n",
        "arabic_model_lstm.add(LSTM(128))  # Use LSTM layer without return_sequences\n",
        "arabic_model_lstm.add(Dense(1, activation='sigmoid'))\n",
        "arabic_model_lstm.compile(optimizer='adam', loss='binary_crossentropy', metrics=['accuracy'])\n",
        "arabic_model_lstm.fit(ar_X_train, ar_y_train, epochs=15, validation_data=(ar_X_test, ar_y_test))\n",
        "\n"
      ]
    },
    {
      "cell_type": "code",
      "execution_count": null,
      "metadata": {
        "execution": {
          "iopub.execute_input": "2023-03-06T15:18:55.846987Z",
          "iopub.status.busy": "2023-03-06T15:18:55.846631Z",
          "iopub.status.idle": "2023-03-06T15:18:55.851920Z",
          "shell.execute_reply": "2023-03-06T15:18:55.850865Z",
          "shell.execute_reply.started": "2023-03-06T15:18:55.846950Z"
        },
        "papermill": {
          "duration": null,
          "end_time": null,
          "exception": null,
          "start_time": null,
          "status": "pending"
        },
        "tags": [],
        "id": "e0560c4d"
      },
      "outputs": [],
      "source": [
        "arabic_model.add(Dense(1, activation='sigmoid'))  # Output layer with sigmoid activation for binary classification"
      ]
    },
    {
      "cell_type": "code",
      "execution_count": null,
      "metadata": {
        "execution": {
          "iopub.execute_input": "2023-03-06T15:18:55.853458Z",
          "iopub.status.busy": "2023-03-06T15:18:55.853124Z",
          "iopub.status.idle": "2023-03-06T15:34:08.993738Z",
          "shell.execute_reply": "2023-03-06T15:34:08.992396Z",
          "shell.execute_reply.started": "2023-03-06T15:18:55.853425Z"
        },
        "papermill": {
          "duration": null,
          "end_time": null,
          "exception": null,
          "start_time": null,
          "status": "pending"
        },
        "scrolled": false,
        "tags": [],
        "id": "05336757",
        "collapsed": true
      },
      "outputs": [],
      "source": [
        "# Compile the model\n",
        "arabic_model.compile(optimizer='adam',loss='binary_crossentropy', metrics=['accuracy'])\n",
        "# Train the Arabic model\n",
        "arabic_model.fit(ar_X_train, ar_y_train, epochs=10, validation_data=(ar_X_test, ar_y_test))"
      ]
    },
    {
      "cell_type": "code",
      "execution_count": null,
      "metadata": {
        "execution": {
          "iopub.execute_input": "2023-03-06T15:34:09.000411Z",
          "iopub.status.busy": "2023-03-06T15:34:08.997771Z",
          "iopub.status.idle": "2023-03-06T16:36:34.266337Z",
          "shell.execute_reply": "2023-03-06T16:36:34.265095Z",
          "shell.execute_reply.started": "2023-03-06T15:34:09.000367Z"
        },
        "papermill": {
          "duration": null,
          "end_time": null,
          "exception": null,
          "start_time": null,
          "status": "pending"
        },
        "scrolled": true,
        "tags": [],
        "id": "f500f6c6"
      },
      "outputs": [],
      "source": [
        "# Create the LSTM model for English dataset\n",
        "english_model = Sequential()\n",
        "english_model.add(Embedding(input_dim=vocab_size_en, output_dim=64, input_length=max_length_en))\n",
        "english_model.add(Bidirectional(LSTM(64)))  # Bidirectional LSTM layer\n",
        "english_model.add(Dense(1, activation='sigmoid'))  # Output layer with sigmoid activation for binary classification\n",
        "\n",
        "# Compile the model\n",
        "english_model.compile(optimizer='adam',loss='binary_crossentropy', metrics=['accuracy'])\n",
        "\n",
        "# Train the English model\n",
        "english_model.fit(en_X_train, en_y_train, epochs=10, validation_data=(en_X_test, en_y_test))\n"
      ]
    },
    {
      "cell_type": "code",
      "execution_count": null,
      "metadata": {
        "id": "6b5721d3"
      },
      "outputs": [],
      "source": [
        "english_model.add(Dense(1, activation='sigmoid'))"
      ]
    },
    {
      "cell_type": "code",
      "execution_count": null,
      "metadata": {
        "id": "9c9d3678"
      },
      "outputs": [],
      "source": [
        "# Create the LSTM model for English dataset\n",
        "english_model_gan = Sequential()\n",
        "english_model_gan.add(Embedding(input_dim=vocab_size_en, output_dim=64, input_length=max_length_en))\n",
        "english_model_gan.add(LSTM(64))  # Replace LSTM with LSTM layer (a type of GAN)\n",
        "english_model_gan.add(Dense(1, activation='sigmoid'))\n",
        "\n",
        "# Compile the English GAN model\n",
        "english_model_gan.compile(optimizer='adam',loss='binary_crossentropy', metrics=['accuracy'])\n",
        "\n",
        "# Train the English GAN model\n",
        "english_model_gan.fit(en_X_train, en_y_train, epochs=10, validation_data=(en_X_test, en_y_test))"
      ]
    },
    {
      "cell_type": "code",
      "execution_count": null,
      "metadata": {
        "id": "a21f5bdd"
      },
      "outputs": [],
      "source": [
        "english_model.add(Dense(1, activation='sigmoid'))"
      ]
    },
    {
      "cell_type": "code",
      "execution_count": null,
      "metadata": {
        "id": "80e49b49"
      },
      "outputs": [],
      "source": [
        "# Create the LSTM model for English dataset\n",
        "english_model_rnn = Sequential()\n",
        "english_model_rnn.add(Embedding(input_dim=vocab_size_en, output_dim=64, input_length=max_length_en))\n",
        "english_model_rnn.add(SimpleRNN(64))  # Replace LSTM with SimpleRNN layer\n",
        "english_model_rnn.add(Dense(1, activation='sigmoid'))\n",
        "# Compile the Arabic RNN model\n",
        "english_model_rnn.compile(optimizer='SGD',loss='binary_crossentropy',metrics=['accuracy'])\n",
        "\n",
        "# Train the Arabic RNN model\n",
        "english_model_rnn.fit(en_X_train, en_y_train, epochs=10, validation_data=(en_X_test, en_y_test))\n"
      ]
    },
    {
      "cell_type": "code",
      "execution_count": null,
      "metadata": {
        "id": "70d2ab95"
      },
      "outputs": [],
      "source": [
        "english_model.add(Dense(1, activation='sigmoid'))"
      ]
    },
    {
      "cell_type": "markdown",
      "metadata": {
        "papermill": {
          "duration": null,
          "end_time": null,
          "exception": null,
          "start_time": null,
          "status": "pending"
        },
        "tags": [],
        "id": "06721e9e"
      },
      "source": [
        "# Arabic Model Results"
      ]
    },
    {
      "cell_type": "code",
      "execution_count": null,
      "metadata": {
        "execution": {
          "iopub.execute_input": "2023-03-06T16:56:35.033943Z",
          "iopub.status.busy": "2023-03-06T16:56:35.033538Z",
          "iopub.status.idle": "2023-03-06T16:56:49.539374Z",
          "shell.execute_reply": "2023-03-06T16:56:49.538007Z",
          "shell.execute_reply.started": "2023-03-06T16:56:35.033907Z"
        },
        "papermill": {
          "duration": null,
          "end_time": null,
          "exception": null,
          "start_time": null,
          "status": "pending"
        },
        "scrolled": false,
        "tags": [],
        "id": "f0ffb5ad"
      },
      "outputs": [],
      "source": [
        "# Arabic model predictions\n",
        "arabic_predictions = (arabic_model.predict(ar_X_test) > 0.5).astype(int)\n",
        "arabic_predictions2 = (arabic_model_rnn.predict(ar_X_test) > 0.5).astype(int)\n",
        "arabic_predictions3 = (arabic_model_lstm.predict(ar_X_test) > 0.5).astype(int)"
      ]
    },
    {
      "cell_type": "code",
      "execution_count": null,
      "metadata": {
        "id": "2008e483"
      },
      "outputs": [],
      "source": [
        "from sklearn.linear_model import LogisticRegression\n",
        "\n",
        "LR = LogisticRegression()\n",
        "LR.fit(ar_X_test, ar_y_test)"
      ]
    },
    {
      "cell_type": "code",
      "execution_count": null,
      "metadata": {
        "id": "d83bb165"
      },
      "outputs": [],
      "source": [
        "pred_lr=(LR.predict(ar_X_test)>0.5).astype(int)"
      ]
    },
    {
      "cell_type": "code",
      "execution_count": null,
      "metadata": {
        "id": "564ab70b"
      },
      "outputs": [],
      "source": [
        "LR.score(ar_X_test, ar_y_test)"
      ]
    },
    {
      "cell_type": "code",
      "execution_count": null,
      "metadata": {
        "id": "b3b6faf2"
      },
      "outputs": [],
      "source": [
        "print(classification_report(ar_y_test, pred_lr))"
      ]
    },
    {
      "cell_type": "code",
      "execution_count": null,
      "metadata": {
        "id": "d5e9b805"
      },
      "outputs": [],
      "source": [
        "from sklearn.tree import DecisionTreeClassifier\n",
        "from sklearn.ensemble import RandomForestClassifier\n",
        "# Decision Tree with Regularization\n",
        "DT_regularized = DecisionTreeClassifier(max_depth=10, min_samples_split=10)\n",
        "DT_regularized.fit(ar_X_train, ar_y_train)\n"
      ]
    },
    {
      "cell_type": "code",
      "execution_count": null,
      "metadata": {
        "id": "05fcef64"
      },
      "outputs": [],
      "source": [
        "pred_dt_regularized = (DT_regularized.predict(ar_X_test)>0.5).astype(int)"
      ]
    },
    {
      "cell_type": "code",
      "execution_count": null,
      "metadata": {
        "id": "a6965cca"
      },
      "outputs": [],
      "source": [
        "print(\"Decision Tree Regularized Accuracy: {:.4f}\".format(DT_regularized.score(ar_X_test, ar_y_test)))"
      ]
    },
    {
      "cell_type": "code",
      "execution_count": null,
      "metadata": {
        "id": "4bb330b7"
      },
      "outputs": [],
      "source": [
        "print(classification_report(ar_y_test, pred_dt_regularized))"
      ]
    },
    {
      "cell_type": "code",
      "execution_count": null,
      "metadata": {
        "id": "088f3090"
      },
      "outputs": [],
      "source": [
        "from sklearn.ensemble import GradientBoostingClassifier\n",
        "\n",
        "GBC = GradientBoostingClassifier(random_state=0)\n",
        "GBC.fit(ar_X_test, ar_y_test)"
      ]
    },
    {
      "cell_type": "code",
      "execution_count": null,
      "metadata": {
        "id": "5a9be200"
      },
      "outputs": [],
      "source": [
        "pred_gbc = (GBC.predict(ar_X_test)>0.5).astype(int)"
      ]
    },
    {
      "cell_type": "code",
      "execution_count": null,
      "metadata": {
        "id": "4d8dd53d"
      },
      "outputs": [],
      "source": [
        "GBC.score(ar_X_test, ar_y_test)"
      ]
    },
    {
      "cell_type": "code",
      "execution_count": null,
      "metadata": {
        "id": "e33338f9"
      },
      "outputs": [],
      "source": [
        "print(classification_report(ar_y_test, pred_gbc))"
      ]
    },
    {
      "cell_type": "code",
      "execution_count": null,
      "metadata": {
        "id": "205fbb32"
      },
      "outputs": [],
      "source": [
        "# Random Forest with Regularization\n",
        "RFC_regularized = RandomForestClassifier(n_estimators=50, max_depth=10, min_samples_split=10)\n",
        "RFC_regularized.fit(ar_X_train, ar_y_train)"
      ]
    },
    {
      "cell_type": "code",
      "execution_count": null,
      "metadata": {
        "id": "5c5ab1f3"
      },
      "outputs": [],
      "source": [
        "pred_rfc_regularized =(RFC_regularized.predict(ar_X_test)>0.5).astype(int)"
      ]
    },
    {
      "cell_type": "markdown",
      "metadata": {
        "id": "5ac89802"
      },
      "source": [
        "### print(\"Random Forest Regularized Accuracy: {:.4f}\".format(RFC_regularized.score(ar_X_test, ar_y_test)))"
      ]
    },
    {
      "cell_type": "code",
      "execution_count": null,
      "metadata": {
        "id": "7aba859d"
      },
      "outputs": [],
      "source": [
        "print(classification_report(ar_y_test, pred_rfc_regularized))"
      ]
    },
    {
      "cell_type": "code",
      "execution_count": null,
      "metadata": {
        "execution": {
          "iopub.execute_input": "2023-03-06T16:56:49.542751Z",
          "iopub.status.busy": "2023-03-06T16:56:49.541909Z",
          "iopub.status.idle": "2023-03-06T16:56:49.800293Z",
          "shell.execute_reply": "2023-03-06T16:56:49.798939Z",
          "shell.execute_reply.started": "2023-03-06T16:56:49.542698Z"
        },
        "papermill": {
          "duration": null,
          "end_time": null,
          "exception": null,
          "start_time": null,
          "status": "pending"
        },
        "tags": [],
        "id": "69e336bb"
      },
      "outputs": [],
      "source": [
        "# Evaluate the Arabic model\n",
        "arabic_accuracy = accuracy_score(ar_y_test, arabic_predictions)\n",
        "arabic_precision = precision_score(ar_y_test, arabic_predictions)\n",
        "arabic_recall = recall_score(ar_y_test, arabic_predictions)\n",
        "arabic_f1 = f1_score(ar_y_test, arabic_predictions)\n",
        "arabic_confusion_matrix = confusion_matrix(ar_y_test, arabic_predictions)"
      ]
    },
    {
      "cell_type": "code",
      "execution_count": null,
      "metadata": {
        "id": "c17ceeaa"
      },
      "outputs": [],
      "source": [
        "# Evaluate the Arabic model rnn\n",
        "arabic_accuracy_rnn = accuracy_score(ar_y_test, arabic_predictions2)\n",
        "arabic_precision_rnn = precision_score(ar_y_test, arabic_predictions2)\n",
        "arabic_recall_rnn = recall_score(ar_y_test, arabic_predictions2)\n",
        "arabic_f1_rnn = f1_score(ar_y_test, arabic_predictions2)\n",
        "arabic_confusion_matrix_rnn = confusion_matrix(ar_y_test, arabic_predictions2)"
      ]
    },
    {
      "cell_type": "code",
      "execution_count": null,
      "metadata": {
        "id": "03fdb386"
      },
      "outputs": [],
      "source": [
        "# Evaluate the Arabic model lstm\n",
        "arabic_accuracy_lstm = accuracy_score(ar_y_test, arabic_predictions3)\n",
        "arabic_precision_lstm = precision_score(ar_y_test, arabic_predictions3)\n",
        "arabic_recall_lstm = recall_score(ar_y_test, arabic_predictions3)\n",
        "arabic_f1_lstm = f1_score(ar_y_test, arabic_predictions3)\n",
        "arabic_confusion_matrix_lstm = confusion_matrix(ar_y_test, arabic_predictions3)"
      ]
    },
    {
      "cell_type": "code",
      "execution_count": null,
      "metadata": {
        "execution": {
          "iopub.execute_input": "2023-03-06T16:56:49.801916Z",
          "iopub.status.busy": "2023-03-06T16:56:49.801594Z",
          "iopub.status.idle": "2023-03-06T16:56:50.000171Z",
          "shell.execute_reply": "2023-03-06T16:56:49.999151Z",
          "shell.execute_reply.started": "2023-03-06T16:56:49.801884Z"
        },
        "papermill": {
          "duration": null,
          "end_time": null,
          "exception": null,
          "start_time": null,
          "status": "pending"
        },
        "tags": [],
        "id": "e18f8ebf"
      },
      "outputs": [],
      "source": [
        "# Print results and confusion matrices\n",
        "print(\"Arabic Model Results GAN:\")\n",
        "print(\"Accuracy: {:.4f}\".format(arabic_accuracy))\n",
        "print(\"Precision: {:.4f}\".format(arabic_precision))\n",
        "print(\"Recall: {:.4f}\".format(arabic_recall))\n",
        "print(\"F1-Score: {:.4f}\".format(arabic_f1))"
      ]
    },
    {
      "cell_type": "code",
      "execution_count": null,
      "metadata": {
        "id": "1f64333b"
      },
      "outputs": [],
      "source": [
        "print(\"Arabic Model Results Rnn:\")\n",
        "print(\"Accuracy: {:.4f}\".format(arabic_accuracy_rnn))\n",
        "print(\"Precision: {:.4f}\".format(arabic_precision_rnn))\n",
        "print(\"Recall: {:.4f}\".format(arabic_recall_rnn))\n",
        "print(\"F1-Score: {:.4f}\".format(arabic_f1_rnn))"
      ]
    },
    {
      "cell_type": "code",
      "execution_count": null,
      "metadata": {
        "id": "74dcc288"
      },
      "outputs": [],
      "source": [
        "print(\"Arabic Model Results Lstm:\")\n",
        "print(\"Accuracy: {:.4f}\".format(arabic_accuracy_lstm))\n",
        "print(\"Precision: {:.4f}\".format(arabic_precision_lstm))\n",
        "print(\"Recall: {:.4f}\".format(arabic_recall_lstm))\n",
        "print(\"F1-Score: {:.4f}\".format(arabic_f1_lstm))"
      ]
    },
    {
      "cell_type": "code",
      "execution_count": null,
      "metadata": {
        "id": "b8efd29c"
      },
      "outputs": [],
      "source": [
        "print(\"Arabic Model Accuracies:\")\n",
        "print(\"Lstm: {:.4f}\".format(arabic_accuracy_lstm))\n",
        "print(\"Rnn: {:.4f}\".format(arabic_accuracy_rnn))\n",
        "print(\"Gan: {:.4f}\".format(arabic_accuracy))\n",
        "print(\"LR: {:.4f}\".format(LR.score(ar_X_test, ar_y_test)))\n",
        "print(\"DT: {:.4f}\".format(DT_regularized.score(ar_X_test, ar_y_test)))\n",
        "print(\"GBC: {:.4f}\".format(GBC.score(ar_X_test, ar_y_test)))\n",
        "print(\"RFC: {:.4f}\".format(RFC_regularized.score(ar_X_test, ar_y_test)))"
      ]
    },
    {
      "cell_type": "markdown",
      "metadata": {
        "papermill": {
          "duration": null,
          "end_time": null,
          "exception": null,
          "start_time": null,
          "status": "pending"
        },
        "tags": [],
        "id": "ae6e10c9"
      },
      "source": [
        "# English Model Results"
      ]
    },
    {
      "cell_type": "code",
      "execution_count": null,
      "metadata": {
        "execution": {
          "iopub.execute_input": "2023-03-06T16:56:50.003026Z",
          "iopub.status.busy": "2023-03-06T16:56:50.002653Z",
          "iopub.status.idle": "2023-03-06T16:57:06.324570Z",
          "shell.execute_reply": "2023-03-06T16:57:06.323176Z",
          "shell.execute_reply.started": "2023-03-06T16:56:50.002991Z"
        },
        "papermill": {
          "duration": null,
          "end_time": null,
          "exception": null,
          "start_time": null,
          "status": "pending"
        },
        "tags": [],
        "id": "c0de7036"
      },
      "outputs": [],
      "source": [
        "# English model predictions\n",
        "english_predictions = (english_model.predict(en_X_test) > 0.5).astype(int)\n",
        "english_predictions2 = (english_model_rnn.predict(en_X_test) > 0.5).astype(int)\n",
        "english_predictions3 = (english_model_gan.predict(en_X_test) > 0.5).astype(int)"
      ]
    },
    {
      "cell_type": "code",
      "execution_count": null,
      "metadata": {
        "execution": {
          "iopub.execute_input": "2023-03-06T16:57:06.327505Z",
          "iopub.status.busy": "2023-03-06T16:57:06.326610Z",
          "iopub.status.idle": "2023-03-06T16:57:06.523078Z",
          "shell.execute_reply": "2023-03-06T16:57:06.521731Z",
          "shell.execute_reply.started": "2023-03-06T16:57:06.327454Z"
        },
        "papermill": {
          "duration": null,
          "end_time": null,
          "exception": null,
          "start_time": null,
          "status": "pending"
        },
        "tags": [],
        "id": "9982b4ec"
      },
      "outputs": [],
      "source": [
        "# Evaluate the English model\n",
        "english_accuracy = accuracy_score(en_y_test, english_predictions)\n",
        "english_precision = precision_score(en_y_test, english_predictions)\n",
        "english_recall = recall_score(en_y_test, english_predictions)\n",
        "english_f1 = f1_score(en_y_test, english_predictions)\n",
        "english_confusion_matrix = confusion_matrix(en_y_test, english_predictions)"
      ]
    },
    {
      "cell_type": "code",
      "execution_count": null,
      "metadata": {
        "id": "64ef10fb"
      },
      "outputs": [],
      "source": [
        "english_accuracy_rnn = accuracy_score(en_y_test, english_predictions2)\n",
        "english_precision_rnn = precision_score(en_y_test, english_predictions2)\n",
        "english_recall_rnn = recall_score(en_y_test, english_predictions2)\n",
        "english_f1_rnn = f1_score(en_y_test, english_predictions2)\n",
        "english_confusion_matrix_rnn = confusion_matrix(en_y_test, english_predictions2)"
      ]
    },
    {
      "cell_type": "code",
      "execution_count": null,
      "metadata": {
        "id": "a7a657ac"
      },
      "outputs": [],
      "source": [
        "english_accuracy_lstm = accuracy_score(en_y_test, english_predictions3)\n",
        "english_precision_lstm = precision_score(en_y_test, english_predictions3)\n",
        "english_recall_lstm = recall_score(en_y_test, english_predictions3)\n",
        "english_f1_lstm = f1_score(en_y_test, english_predictions3)\n",
        "english_confusion_matrix_lstm = confusion_matrix(en_y_test, english_predictions3)"
      ]
    },
    {
      "cell_type": "code",
      "execution_count": null,
      "metadata": {
        "execution": {
          "iopub.execute_input": "2023-03-06T16:57:06.524957Z",
          "iopub.status.busy": "2023-03-06T16:57:06.524633Z",
          "iopub.status.idle": "2023-03-06T16:57:06.699002Z",
          "shell.execute_reply": "2023-03-06T16:57:06.697681Z",
          "shell.execute_reply.started": "2023-03-06T16:57:06.524926Z"
        },
        "papermill": {
          "duration": null,
          "end_time": null,
          "exception": null,
          "start_time": null,
          "status": "pending"
        },
        "tags": [],
        "id": "c21ee41a"
      },
      "outputs": [],
      "source": [
        "print(\"\\nEnglish Model Results Lstm:\")\n",
        "print(\"Accuracy: {:.4f}\".format(english_accuracy))\n",
        "print(\"Precision: {:.4f}\".format(english_precision))\n",
        "print(\"Recall: {:.4f}\".format(english_recall))\n",
        "print(\"F1-Score: {:.4f}\".format(english_f1))"
      ]
    },
    {
      "cell_type": "code",
      "execution_count": null,
      "metadata": {
        "execution": {
          "iopub.execute_input": "2023-03-06T16:57:06.700593Z",
          "iopub.status.busy": "2023-03-06T16:57:06.700266Z",
          "iopub.status.idle": "2023-03-06T16:57:42.736657Z",
          "shell.execute_reply": "2023-03-06T16:57:42.735408Z",
          "shell.execute_reply.started": "2023-03-06T16:57:06.700562Z"
        },
        "papermill": {
          "duration": null,
          "end_time": null,
          "exception": null,
          "start_time": null,
          "status": "pending"
        },
        "tags": [],
        "id": "cb0f8d1f"
      },
      "outputs": [],
      "source": [
        "print(\"\\nEnglish Model Results Rnn:\")\n",
        "print(\"Accuracy: {:.4f}\".format(english_accuracy_rnn))\n",
        "print(\"Precision: {:.4f}\".format(english_precision_rnn))\n",
        "print(\"Recall: {:.4f}\".format(english_recall_rnn))\n",
        "print(\"F1-Score: {:.4f}\".format(english_f1_rnn))"
      ]
    },
    {
      "cell_type": "code",
      "execution_count": null,
      "metadata": {
        "id": "52c80f98"
      },
      "outputs": [],
      "source": [
        "print(\"\\nEnglish Model Results GAN:\")\n",
        "print(\"Accuracy: {:.4f}\".format(english_accuracy_lstm))\n",
        "print(\"Precision: {:.4f}\".format(english_precision_lstm))\n",
        "print(\"Recall: {:.4f}\".format(english_recall_lstm))\n",
        "print(\"F1-Score: {:.4f}\".format(english_f1_lstm))"
      ]
    },
    {
      "cell_type": "code",
      "execution_count": null,
      "metadata": {
        "id": "7e959ecb"
      },
      "outputs": [],
      "source": [
        "print(\"English Model Accuracies:\")\n",
        "print(\"Lstm: {:.4f}\".format(english_accuracy_lstm))\n",
        "print(\"Rnn: {:.4f}\".format(english_accuracy_rnn))\n",
        "print(\"Gan: {:.4f}\".format(english_accuracy))"
      ]
    },
    {
      "cell_type": "markdown",
      "metadata": {
        "papermill": {
          "duration": null,
          "end_time": null,
          "exception": null,
          "start_time": null,
          "status": "pending"
        },
        "tags": [],
        "id": "0bcaeb00"
      },
      "source": [
        "## confusion matrix (Arabic)"
      ]
    },
    {
      "cell_type": "code",
      "execution_count": null,
      "metadata": {
        "execution": {
          "iopub.execute_input": "2023-03-06T16:57:42.739549Z",
          "iopub.status.busy": "2023-03-06T16:57:42.738266Z",
          "iopub.status.idle": "2023-03-06T16:57:43.095288Z",
          "shell.execute_reply": "2023-03-06T16:57:43.093962Z",
          "shell.execute_reply.started": "2023-03-06T16:57:42.739485Z"
        },
        "papermill": {
          "duration": null,
          "end_time": null,
          "exception": null,
          "start_time": null,
          "status": "pending"
        },
        "tags": [],
        "id": "e151473b"
      },
      "outputs": [],
      "source": [
        "print(\"Confusion Matrix Lstm:\")\n",
        "print(arabic_confusion_matrix)"
      ]
    },
    {
      "cell_type": "code",
      "execution_count": null,
      "metadata": {
        "id": "f6f31c4c"
      },
      "outputs": [],
      "source": [
        "print(\"Confusion Matrix Rnn:\")\n",
        "print(arabic_confusion_matrix_rnn)"
      ]
    },
    {
      "cell_type": "code",
      "execution_count": null,
      "metadata": {
        "id": "304d4e44"
      },
      "outputs": [],
      "source": [
        "print(\"Confusion Matrix GAN:\")\n",
        "print(arabic_confusion_matrix_lstm)"
      ]
    },
    {
      "cell_type": "code",
      "execution_count": null,
      "metadata": {
        "id": "33ab8287"
      },
      "outputs": [],
      "source": [
        "notes = \"\".join(ar_dataset.text)\n",
        "notes_words = notes.split()"
      ]
    },
    {
      "cell_type": "code",
      "execution_count": null,
      "metadata": {
        "id": "a4b31712"
      },
      "outputs": [],
      "source": [
        "plot_word_frequency(notes_words).set_title('Word frequencies After removing stopwords and punctuations',fontsize =14)"
      ]
    },
    {
      "cell_type": "markdown",
      "metadata": {
        "papermill": {
          "duration": null,
          "end_time": null,
          "exception": null,
          "start_time": null,
          "status": "pending"
        },
        "tags": [],
        "id": "3a51773d"
      },
      "source": [
        "## confusion matrix (English)"
      ]
    },
    {
      "cell_type": "code",
      "execution_count": null,
      "metadata": {
        "execution": {
          "iopub.execute_input": "2023-03-06T16:57:43.097472Z",
          "iopub.status.busy": "2023-03-06T16:57:43.096966Z",
          "iopub.status.idle": "2023-03-06T16:57:43.450300Z",
          "shell.execute_reply": "2023-03-06T16:57:43.448931Z",
          "shell.execute_reply.started": "2023-03-06T16:57:43.097409Z"
        },
        "papermill": {
          "duration": null,
          "end_time": null,
          "exception": null,
          "start_time": null,
          "status": "pending"
        },
        "tags": [],
        "id": "37f2ce5a"
      },
      "outputs": [],
      "source": [
        "print(\"Confusion Matrix Lstm:\")\n",
        "print(english_confusion_matrix)"
      ]
    },
    {
      "cell_type": "code",
      "execution_count": null,
      "metadata": {
        "id": "ebb8ef22"
      },
      "outputs": [],
      "source": [
        "print(\"Confusion Matrix Rnn:\")\n",
        "print(english_confusion_matrix_rnn)"
      ]
    },
    {
      "cell_type": "code",
      "execution_count": null,
      "metadata": {
        "id": "d9e3bc92"
      },
      "outputs": [],
      "source": [
        "print(\"Confusion Matrix GAN:\")\n",
        "print(english_confusion_matrix_lstm)"
      ]
    }
  ]
}